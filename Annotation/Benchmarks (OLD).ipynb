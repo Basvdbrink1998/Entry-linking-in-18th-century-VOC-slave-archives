{
 "cells": [
  {
   "cell_type": "code",
   "execution_count": 1,
   "metadata": {},
   "outputs": [],
   "source": [
    "from Annotation_helper import *\n",
    "import numpy as np\n",
    "from collections import defaultdict\n",
    "from sklearn.model_selection import train_test_split\n",
    "from sklearn.metrics import accuracy_score\n",
    "from sklearn.metrics import recall_score\n",
    "from sklearn.metrics import balanced_accuracy_score\n",
    "from sklearn.metrics import confusion_matrix\n",
    "from sklearn.metrics import confusion_matrix, ConfusionMatrixDisplay\n",
    "from imblearn.over_sampling import RandomOverSampler"
   ]
  },
  {
   "cell_type": "code",
   "execution_count": 2,
   "metadata": {},
   "outputs": [],
   "source": [
    "matches = pd.read_csv(\"Matches/Bas2.csv\", index_col=0)"
   ]
  },
  {
   "cell_type": "code",
   "execution_count": 3,
   "metadata": {},
   "outputs": [],
   "source": [
    "transactions = load_transactions(\"../../Data/structured_data\\VOC Cochin Slave Transactions 1706-1801 - IISH - Database - 2018 - v1.csv\")\n",
    "# transactions = transactions.set_index(\"ID\")\n",
    "permissions = load_permissions(\"../../Data/structured_data\\VOC Cochin Slave Transport Permissions 1770-1795 - IISH - Database - 2018 - v1.csv\")\n",
    "# permissions = permissions.set_index(\"ID\")"
   ]
  },
  {
   "cell_type": "code",
   "execution_count": 4,
   "metadata": {},
   "outputs": [],
   "source": [
    "distances = pd.read_csv(\"Distances/distances_0.csv\", dtype={'permission_indx': 'uint16', 'transaction_indx': 'uint16', 'SlaafGender': 'bool', 'SlaafNaamNieuw': 'float16', 'BezitterGender': 'bool', 'BezitterVoornaam': 'float16', 'BezitterBeroep': 'float16', 'BezitterAchternaam': 'float16'})\n",
    "for i in range(1, 99):\n",
    "    df2 = pd.read_csv(f\"Distances/distances_{i}.csv\", dtype={'permission_indx': 'uint16', 'transaction_indx': 'uint16', 'SlaafGender': 'bool', 'SlaafNaamNieuw': 'float16', 'BezitterGender': 'bool', 'BezitterVoornaam': 'float16', 'BezitterBeroep': 'float16', 'BezitterAchternaam': 'float16'})\n",
    "    distances = pd.concat([distances, df2])"
   ]
  },
  {
   "cell_type": "code",
   "execution_count": 5,
   "metadata": {},
   "outputs": [
    {
     "data": {
      "text/html": [
       "<div>\n",
       "<style scoped>\n",
       "    .dataframe tbody tr th:only-of-type {\n",
       "        vertical-align: middle;\n",
       "    }\n",
       "\n",
       "    .dataframe tbody tr th {\n",
       "        vertical-align: top;\n",
       "    }\n",
       "\n",
       "    .dataframe thead th {\n",
       "        text-align: right;\n",
       "    }\n",
       "</style>\n",
       "<table border=\"1\" class=\"dataframe\">\n",
       "  <thead>\n",
       "    <tr style=\"text-align: right;\">\n",
       "      <th></th>\n",
       "      <th>permission_indx</th>\n",
       "      <th>transaction_indx</th>\n",
       "      <th>SlaafGender</th>\n",
       "      <th>SlaafNaamNieuw</th>\n",
       "      <th>BezitterGender</th>\n",
       "      <th>BezitterVoornaam</th>\n",
       "      <th>BezitterBeroep</th>\n",
       "      <th>BezitterAchternaam</th>\n",
       "    </tr>\n",
       "  </thead>\n",
       "  <tbody>\n",
       "    <tr>\n",
       "      <th>0</th>\n",
       "      <td>0</td>\n",
       "      <td>0</td>\n",
       "      <td>True</td>\n",
       "      <td>0.000000</td>\n",
       "      <td>False</td>\n",
       "      <td>0.000000</td>\n",
       "      <td>0.0</td>\n",
       "      <td>0.000000</td>\n",
       "    </tr>\n",
       "    <tr>\n",
       "      <th>1</th>\n",
       "      <td>0</td>\n",
       "      <td>1</td>\n",
       "      <td>True</td>\n",
       "      <td>0.250000</td>\n",
       "      <td>False</td>\n",
       "      <td>0.000000</td>\n",
       "      <td>0.0</td>\n",
       "      <td>0.000000</td>\n",
       "    </tr>\n",
       "    <tr>\n",
       "      <th>2</th>\n",
       "      <td>0</td>\n",
       "      <td>2</td>\n",
       "      <td>False</td>\n",
       "      <td>0.166626</td>\n",
       "      <td>False</td>\n",
       "      <td>0.000000</td>\n",
       "      <td>0.0</td>\n",
       "      <td>0.000000</td>\n",
       "    </tr>\n",
       "    <tr>\n",
       "      <th>3</th>\n",
       "      <td>0</td>\n",
       "      <td>3</td>\n",
       "      <td>True</td>\n",
       "      <td>0.111084</td>\n",
       "      <td>False</td>\n",
       "      <td>0.000000</td>\n",
       "      <td>0.0</td>\n",
       "      <td>0.000000</td>\n",
       "    </tr>\n",
       "    <tr>\n",
       "      <th>4</th>\n",
       "      <td>0</td>\n",
       "      <td>4</td>\n",
       "      <td>True</td>\n",
       "      <td>0.142822</td>\n",
       "      <td>False</td>\n",
       "      <td>0.000000</td>\n",
       "      <td>0.0</td>\n",
       "      <td>0.000000</td>\n",
       "    </tr>\n",
       "    <tr>\n",
       "      <th>...</th>\n",
       "      <td>...</td>\n",
       "      <td>...</td>\n",
       "      <td>...</td>\n",
       "      <td>...</td>\n",
       "      <td>...</td>\n",
       "      <td>...</td>\n",
       "      <td>...</td>\n",
       "      <td>...</td>\n",
       "    </tr>\n",
       "    <tr>\n",
       "      <th>265951</th>\n",
       "      <td>3889</td>\n",
       "      <td>7192</td>\n",
       "      <td>True</td>\n",
       "      <td>0.250000</td>\n",
       "      <td>True</td>\n",
       "      <td>0.166626</td>\n",
       "      <td>0.0</td>\n",
       "      <td>0.166626</td>\n",
       "    </tr>\n",
       "    <tr>\n",
       "      <th>265952</th>\n",
       "      <td>3889</td>\n",
       "      <td>7193</td>\n",
       "      <td>False</td>\n",
       "      <td>0.250000</td>\n",
       "      <td>True</td>\n",
       "      <td>0.166626</td>\n",
       "      <td>0.0</td>\n",
       "      <td>0.166626</td>\n",
       "    </tr>\n",
       "    <tr>\n",
       "      <th>265953</th>\n",
       "      <td>3889</td>\n",
       "      <td>7194</td>\n",
       "      <td>False</td>\n",
       "      <td>0.000000</td>\n",
       "      <td>True</td>\n",
       "      <td>0.277832</td>\n",
       "      <td>0.0</td>\n",
       "      <td>0.000000</td>\n",
       "    </tr>\n",
       "    <tr>\n",
       "      <th>265954</th>\n",
       "      <td>3889</td>\n",
       "      <td>7195</td>\n",
       "      <td>False</td>\n",
       "      <td>0.000000</td>\n",
       "      <td>True</td>\n",
       "      <td>0.166626</td>\n",
       "      <td>0.0</td>\n",
       "      <td>0.166626</td>\n",
       "    </tr>\n",
       "    <tr>\n",
       "      <th>265955</th>\n",
       "      <td>3889</td>\n",
       "      <td>7196</td>\n",
       "      <td>True</td>\n",
       "      <td>0.000000</td>\n",
       "      <td>False</td>\n",
       "      <td>0.166626</td>\n",
       "      <td>0.0</td>\n",
       "      <td>0.000000</td>\n",
       "    </tr>\n",
       "  </tbody>\n",
       "</table>\n",
       "<p>26638728 rows × 8 columns</p>\n",
       "</div>"
      ],
      "text/plain": [
       "        permission_indx  transaction_indx  SlaafGender  SlaafNaamNieuw  \\\n",
       "0                     0                 0         True        0.000000   \n",
       "1                     0                 1         True        0.250000   \n",
       "2                     0                 2        False        0.166626   \n",
       "3                     0                 3         True        0.111084   \n",
       "4                     0                 4         True        0.142822   \n",
       "...                 ...               ...          ...             ...   \n",
       "265951             3889              7192         True        0.250000   \n",
       "265952             3889              7193        False        0.250000   \n",
       "265953             3889              7194        False        0.000000   \n",
       "265954             3889              7195        False        0.000000   \n",
       "265955             3889              7196         True        0.000000   \n",
       "\n",
       "        BezitterGender  BezitterVoornaam  BezitterBeroep  BezitterAchternaam  \n",
       "0                False          0.000000             0.0            0.000000  \n",
       "1                False          0.000000             0.0            0.000000  \n",
       "2                False          0.000000             0.0            0.000000  \n",
       "3                False          0.000000             0.0            0.000000  \n",
       "4                False          0.000000             0.0            0.000000  \n",
       "...                ...               ...             ...                 ...  \n",
       "265951            True          0.166626             0.0            0.166626  \n",
       "265952            True          0.166626             0.0            0.166626  \n",
       "265953            True          0.277832             0.0            0.000000  \n",
       "265954            True          0.166626             0.0            0.166626  \n",
       "265955           False          0.166626             0.0            0.000000  \n",
       "\n",
       "[26638728 rows x 8 columns]"
      ]
     },
     "execution_count": 5,
     "metadata": {},
     "output_type": "execute_result"
    }
   ],
   "source": [
    "distances"
   ]
  },
  {
   "cell_type": "code",
   "execution_count": 6,
   "metadata": {},
   "outputs": [
    {
     "data": {
      "text/html": [
       "<div>\n",
       "<style scoped>\n",
       "    .dataframe tbody tr th:only-of-type {\n",
       "        vertical-align: middle;\n",
       "    }\n",
       "\n",
       "    .dataframe tbody tr th {\n",
       "        vertical-align: top;\n",
       "    }\n",
       "\n",
       "    .dataframe thead th {\n",
       "        text-align: right;\n",
       "    }\n",
       "</style>\n",
       "<table border=\"1\" class=\"dataframe\">\n",
       "  <thead>\n",
       "    <tr style=\"text-align: right;\">\n",
       "      <th></th>\n",
       "      <th>Annotator</th>\n",
       "      <th>transaction_indx</th>\n",
       "      <th>permission_indx</th>\n",
       "    </tr>\n",
       "  </thead>\n",
       "  <tbody>\n",
       "    <tr>\n",
       "      <th>0</th>\n",
       "      <td>Bas</td>\n",
       "      <td>None</td>\n",
       "      <td>198</td>\n",
       "    </tr>\n",
       "    <tr>\n",
       "      <th>1</th>\n",
       "      <td>Bas</td>\n",
       "      <td>None</td>\n",
       "      <td>199</td>\n",
       "    </tr>\n",
       "    <tr>\n",
       "      <th>2</th>\n",
       "      <td>Bas</td>\n",
       "      <td>None</td>\n",
       "      <td>200</td>\n",
       "    </tr>\n",
       "    <tr>\n",
       "      <th>3</th>\n",
       "      <td>Bas</td>\n",
       "      <td>None</td>\n",
       "      <td>201</td>\n",
       "    </tr>\n",
       "    <tr>\n",
       "      <th>4</th>\n",
       "      <td>Bas</td>\n",
       "      <td>None</td>\n",
       "      <td>202</td>\n",
       "    </tr>\n",
       "    <tr>\n",
       "      <th>...</th>\n",
       "      <td>...</td>\n",
       "      <td>...</td>\n",
       "      <td>...</td>\n",
       "    </tr>\n",
       "    <tr>\n",
       "      <th>225</th>\n",
       "      <td>Bas</td>\n",
       "      <td>None</td>\n",
       "      <td>286</td>\n",
       "    </tr>\n",
       "    <tr>\n",
       "      <th>226</th>\n",
       "      <td>Bas</td>\n",
       "      <td>None</td>\n",
       "      <td>287</td>\n",
       "    </tr>\n",
       "    <tr>\n",
       "      <th>227</th>\n",
       "      <td>Bas</td>\n",
       "      <td>None</td>\n",
       "      <td>288</td>\n",
       "    </tr>\n",
       "    <tr>\n",
       "      <th>228</th>\n",
       "      <td>Bas</td>\n",
       "      <td>None</td>\n",
       "      <td>198</td>\n",
       "    </tr>\n",
       "    <tr>\n",
       "      <th>229</th>\n",
       "      <td>Bas</td>\n",
       "      <td>None</td>\n",
       "      <td>199</td>\n",
       "    </tr>\n",
       "  </tbody>\n",
       "</table>\n",
       "<p>230 rows × 3 columns</p>\n",
       "</div>"
      ],
      "text/plain": [
       "    Annotator transaction_indx  permission_indx\n",
       "0         Bas             None              198\n",
       "1         Bas             None              199\n",
       "2         Bas             None              200\n",
       "3         Bas             None              201\n",
       "4         Bas             None              202\n",
       "..        ...              ...              ...\n",
       "225       Bas             None              286\n",
       "226       Bas             None              287\n",
       "227       Bas             None              288\n",
       "228       Bas             None              198\n",
       "229       Bas             None              199\n",
       "\n",
       "[230 rows x 3 columns]"
      ]
     },
     "execution_count": 6,
     "metadata": {},
     "output_type": "execute_result"
    }
   ],
   "source": [
    "matches"
   ]
  },
  {
   "cell_type": "code",
   "execution_count": 7,
   "metadata": {},
   "outputs": [],
   "source": [
    "for match in matches.iterrows():\n",
    "    t = pd.Series(0, index=transactions[\"Entry-ID\"])\n",
    "    break"
   ]
  },
  {
   "cell_type": "code",
   "execution_count": 8,
   "metadata": {},
   "outputs": [
    {
     "data": {
      "text/plain": [
       "Entry-ID\n",
       "0       0\n",
       "1       0\n",
       "2       0\n",
       "3       0\n",
       "4       0\n",
       "       ..\n",
       "7192    0\n",
       "7193    0\n",
       "7194    0\n",
       "7195    0\n",
       "7196    0\n",
       "Length: 7188, dtype: int64"
      ]
     },
     "execution_count": 8,
     "metadata": {},
     "output_type": "execute_result"
    }
   ],
   "source": [
    "t"
   ]
  },
  {
   "cell_type": "code",
   "execution_count": 9,
   "metadata": {},
   "outputs": [
    {
     "data": {
      "text/plain": [
       "0          0\n",
       "1          1\n",
       "2          2\n",
       "3          3\n",
       "4          4\n",
       "        ... \n",
       "7192    7192\n",
       "7193    7193\n",
       "7194    7194\n",
       "7195    7195\n",
       "7196    7196\n",
       "Name: Entry-ID, Length: 7188, dtype: int64"
      ]
     },
     "execution_count": 9,
     "metadata": {},
     "output_type": "execute_result"
    }
   ],
   "source": [
    "transactions[\"Entry-ID\"]"
   ]
  },
  {
   "cell_type": "code",
   "execution_count": 10,
   "metadata": {},
   "outputs": [],
   "source": [
    "trans_ID = list(transactions[\"Entry-ID\"])"
   ]
  },
  {
   "cell_type": "code",
   "execution_count": 11,
   "metadata": {},
   "outputs": [],
   "source": [
    "res = dict()\n",
    "for i, match in matches.iterrows():\n",
    "    res[i] = {\"transaction_indx\" : match[\"transaction_indx\"], \"permission_indx\" : match[\"permission_indx\"], \"match\": 1}"
   ]
  },
  {
   "cell_type": "code",
   "execution_count": 12,
   "metadata": {},
   "outputs": [
    {
     "data": {
      "text/plain": [
       "{0: {'transaction_indx': 'None', 'permission_indx': 198, 'match': 1},\n",
       " 1: {'transaction_indx': 'None', 'permission_indx': 199, 'match': 1},\n",
       " 2: {'transaction_indx': 'None', 'permission_indx': 200, 'match': 1},\n",
       " 3: {'transaction_indx': 'None', 'permission_indx': 201, 'match': 1},\n",
       " 4: {'transaction_indx': 'None', 'permission_indx': 202, 'match': 1},\n",
       " 5: {'transaction_indx': 'None', 'permission_indx': 203, 'match': 1},\n",
       " 6: {'transaction_indx': 'None', 'permission_indx': 204, 'match': 1},\n",
       " 7: {'transaction_indx': 'None', 'permission_indx': 205, 'match': 1},\n",
       " 8: {'transaction_indx': 'None', 'permission_indx': 206, 'match': 1},\n",
       " 9: {'transaction_indx': '6099', 'permission_indx': 207, 'match': 1},\n",
       " 10: {'transaction_indx': '4149', 'permission_indx': 208, 'match': 1},\n",
       " 11: {'transaction_indx': 'None', 'permission_indx': 209, 'match': 1},\n",
       " 12: {'transaction_indx': '4159', 'permission_indx': 210, 'match': 1},\n",
       " 13: {'transaction_indx': '4162', 'permission_indx': 210, 'match': 1},\n",
       " 14: {'transaction_indx': 'None', 'permission_indx': 211, 'match': 1},\n",
       " 15: {'transaction_indx': 'None', 'permission_indx': 212, 'match': 1},\n",
       " 16: {'transaction_indx': 'None', 'permission_indx': 213, 'match': 1},\n",
       " 17: {'transaction_indx': 'None', 'permission_indx': 214, 'match': 1},\n",
       " 18: {'transaction_indx': 'None', 'permission_indx': 215, 'match': 1},\n",
       " 19: {'transaction_indx': 'None', 'permission_indx': 216, 'match': 1},\n",
       " 20: {'transaction_indx': 'None', 'permission_indx': 217, 'match': 1},\n",
       " 21: {'transaction_indx': 'None', 'permission_indx': 218, 'match': 1},\n",
       " 22: {'transaction_indx': 'None', 'permission_indx': 219, 'match': 1},\n",
       " 23: {'transaction_indx': 'None', 'permission_indx': 220, 'match': 1},\n",
       " 24: {'transaction_indx': 'None', 'permission_indx': 221, 'match': 1},\n",
       " 25: {'transaction_indx': 'None', 'permission_indx': 222, 'match': 1},\n",
       " 26: {'transaction_indx': 'None', 'permission_indx': 223, 'match': 1},\n",
       " 27: {'transaction_indx': 'None', 'permission_indx': 224, 'match': 1},\n",
       " 28: {'transaction_indx': 'None', 'permission_indx': 225, 'match': 1},\n",
       " 29: {'transaction_indx': 'None', 'permission_indx': 226, 'match': 1},\n",
       " 30: {'transaction_indx': 'None', 'permission_indx': 227, 'match': 1},\n",
       " 31: {'transaction_indx': 'None', 'permission_indx': 228, 'match': 1},\n",
       " 32: {'transaction_indx': 'None', 'permission_indx': 229, 'match': 1},\n",
       " 33: {'transaction_indx': 'None', 'permission_indx': 230, 'match': 1},\n",
       " 34: {'transaction_indx': 'None', 'permission_indx': 231, 'match': 1},\n",
       " 35: {'transaction_indx': 'None', 'permission_indx': 232, 'match': 1},\n",
       " 36: {'transaction_indx': 'None', 'permission_indx': 233, 'match': 1},\n",
       " 37: {'transaction_indx': 'None', 'permission_indx': 234, 'match': 1},\n",
       " 38: {'transaction_indx': 'None', 'permission_indx': 235, 'match': 1},\n",
       " 39: {'transaction_indx': 'None', 'permission_indx': 236, 'match': 1},\n",
       " 40: {'transaction_indx': 'None', 'permission_indx': 237, 'match': 1},\n",
       " 41: {'transaction_indx': 'None', 'permission_indx': 238, 'match': 1},\n",
       " 42: {'transaction_indx': 'None', 'permission_indx': 239, 'match': 1},\n",
       " 43: {'transaction_indx': 'None', 'permission_indx': 240, 'match': 1},\n",
       " 44: {'transaction_indx': 'None', 'permission_indx': 241, 'match': 1},\n",
       " 45: {'transaction_indx': 'None', 'permission_indx': 242, 'match': 1},\n",
       " 46: {'transaction_indx': 'None', 'permission_indx': 243, 'match': 1},\n",
       " 47: {'transaction_indx': 'None', 'permission_indx': 244, 'match': 1},\n",
       " 48: {'transaction_indx': 'None', 'permission_indx': 245, 'match': 1},\n",
       " 49: {'transaction_indx': 'None', 'permission_indx': 246, 'match': 1},\n",
       " 50: {'transaction_indx': 'None', 'permission_indx': 247, 'match': 1},\n",
       " 51: {'transaction_indx': 'None', 'permission_indx': 248, 'match': 1},\n",
       " 52: {'transaction_indx': 'None', 'permission_indx': 249, 'match': 1},\n",
       " 53: {'transaction_indx': 'None', 'permission_indx': 250, 'match': 1},\n",
       " 54: {'transaction_indx': 'None', 'permission_indx': 251, 'match': 1},\n",
       " 55: {'transaction_indx': 'None', 'permission_indx': 252, 'match': 1},\n",
       " 56: {'transaction_indx': 'None', 'permission_indx': 253, 'match': 1},\n",
       " 57: {'transaction_indx': '4503', 'permission_indx': 254, 'match': 1},\n",
       " 58: {'transaction_indx': 'None', 'permission_indx': 255, 'match': 1},\n",
       " 59: {'transaction_indx': '4251', 'permission_indx': 256, 'match': 1},\n",
       " 60: {'transaction_indx': '3339', 'permission_indx': 257, 'match': 1},\n",
       " 61: {'transaction_indx': '4229', 'permission_indx': 258, 'match': 1},\n",
       " 62: {'transaction_indx': '2035', 'permission_indx': 259, 'match': 1},\n",
       " 63: {'transaction_indx': '3431', 'permission_indx': 259, 'match': 1},\n",
       " 64: {'transaction_indx': '4404', 'permission_indx': 260, 'match': 1},\n",
       " 65: {'transaction_indx': 'None', 'permission_indx': 261, 'match': 1},\n",
       " 66: {'transaction_indx': 'None', 'permission_indx': 262, 'match': 1},\n",
       " 67: {'transaction_indx': 'None', 'permission_indx': 263, 'match': 1},\n",
       " 68: {'transaction_indx': 'None', 'permission_indx': 264, 'match': 1},\n",
       " 69: {'transaction_indx': '2513', 'permission_indx': 265, 'match': 1},\n",
       " 70: {'transaction_indx': 'None', 'permission_indx': 266, 'match': 1},\n",
       " 71: {'transaction_indx': 'None', 'permission_indx': 267, 'match': 1},\n",
       " 72: {'transaction_indx': 'None', 'permission_indx': 268, 'match': 1},\n",
       " 73: {'transaction_indx': 'None', 'permission_indx': 269, 'match': 1},\n",
       " 74: {'transaction_indx': 'None', 'permission_indx': 270, 'match': 1},\n",
       " 75: {'transaction_indx': 'None', 'permission_indx': 271, 'match': 1},\n",
       " 76: {'transaction_indx': 'None', 'permission_indx': 272, 'match': 1},\n",
       " 77: {'transaction_indx': 'None', 'permission_indx': 273, 'match': 1},\n",
       " 78: {'transaction_indx': 'None', 'permission_indx': 274, 'match': 1},\n",
       " 79: {'transaction_indx': 'None', 'permission_indx': 275, 'match': 1},\n",
       " 80: {'transaction_indx': '2513', 'permission_indx': 276, 'match': 1},\n",
       " 81: {'transaction_indx': 'None', 'permission_indx': 277, 'match': 1},\n",
       " 82: {'transaction_indx': 'None', 'permission_indx': 278, 'match': 1},\n",
       " 83: {'transaction_indx': 'None', 'permission_indx': 279, 'match': 1},\n",
       " 84: {'transaction_indx': 'None', 'permission_indx': 280, 'match': 1},\n",
       " 85: {'transaction_indx': 'None', 'permission_indx': 281, 'match': 1},\n",
       " 86: {'transaction_indx': 'None', 'permission_indx': 282, 'match': 1},\n",
       " 87: {'transaction_indx': 'None', 'permission_indx': 283, 'match': 1},\n",
       " 88: {'transaction_indx': 'None', 'permission_indx': 284, 'match': 1},\n",
       " 89: {'transaction_indx': 'None', 'permission_indx': 285, 'match': 1},\n",
       " 90: {'transaction_indx': 'None', 'permission_indx': 286, 'match': 1},\n",
       " 91: {'transaction_indx': 'None', 'permission_indx': 287, 'match': 1},\n",
       " 92: {'transaction_indx': 'None', 'permission_indx': 288, 'match': 1},\n",
       " 93: {'transaction_indx': 'None', 'permission_indx': 289, 'match': 1},\n",
       " 94: {'transaction_indx': 'None', 'permission_indx': 290, 'match': 1},\n",
       " 95: {'transaction_indx': 'None', 'permission_indx': 291, 'match': 1},\n",
       " 96: {'transaction_indx': 'None', 'permission_indx': 292, 'match': 1},\n",
       " 97: {'transaction_indx': 'None', 'permission_indx': 293, 'match': 1},\n",
       " 98: {'transaction_indx': 'None', 'permission_indx': 294, 'match': 1},\n",
       " 99: {'transaction_indx': 'None', 'permission_indx': 295, 'match': 1},\n",
       " 100: {'transaction_indx': 'None', 'permission_indx': 296, 'match': 1},\n",
       " 101: {'transaction_indx': 'None', 'permission_indx': 297, 'match': 1},\n",
       " 102: {'transaction_indx': 'None', 'permission_indx': 298, 'match': 1},\n",
       " 103: {'transaction_indx': 'None', 'permission_indx': 299, 'match': 1},\n",
       " 104: {'transaction_indx': 'None', 'permission_indx': 300, 'match': 1},\n",
       " 105: {'transaction_indx': 'None', 'permission_indx': 301, 'match': 1},\n",
       " 106: {'transaction_indx': 'None', 'permission_indx': 302, 'match': 1},\n",
       " 107: {'transaction_indx': 'None', 'permission_indx': 303, 'match': 1},\n",
       " 108: {'transaction_indx': 'None', 'permission_indx': 304, 'match': 1},\n",
       " 109: {'transaction_indx': 'None', 'permission_indx': 305, 'match': 1},\n",
       " 110: {'transaction_indx': 'None', 'permission_indx': 306, 'match': 1},\n",
       " 111: {'transaction_indx': 'None', 'permission_indx': 307, 'match': 1},\n",
       " 112: {'transaction_indx': 'None', 'permission_indx': 308, 'match': 1},\n",
       " 113: {'transaction_indx': 'None', 'permission_indx': 309, 'match': 1},\n",
       " 114: {'transaction_indx': 'None', 'permission_indx': 310, 'match': 1},\n",
       " 115: {'transaction_indx': 'None', 'permission_indx': 311, 'match': 1},\n",
       " 116: {'transaction_indx': 'None', 'permission_indx': 312, 'match': 1},\n",
       " 117: {'transaction_indx': 'None', 'permission_indx': 313, 'match': 1},\n",
       " 118: {'transaction_indx': 'None', 'permission_indx': 314, 'match': 1},\n",
       " 119: {'transaction_indx': '986', 'permission_indx': 315, 'match': 1},\n",
       " 120: {'transaction_indx': 'None', 'permission_indx': 316, 'match': 1},\n",
       " 121: {'transaction_indx': 'None', 'permission_indx': 317, 'match': 1},\n",
       " 122: {'transaction_indx': 'None', 'permission_indx': 318, 'match': 1},\n",
       " 123: {'transaction_indx': 'None', 'permission_indx': 319, 'match': 1},\n",
       " 124: {'transaction_indx': 'None', 'permission_indx': 320, 'match': 1},\n",
       " 125: {'transaction_indx': 'None', 'permission_indx': 321, 'match': 1},\n",
       " 126: {'transaction_indx': 'None', 'permission_indx': 322, 'match': 1},\n",
       " 127: {'transaction_indx': 'None', 'permission_indx': 323, 'match': 1},\n",
       " 128: {'transaction_indx': 'None', 'permission_indx': 324, 'match': 1},\n",
       " 129: {'transaction_indx': 'None', 'permission_indx': 325, 'match': 1},\n",
       " 130: {'transaction_indx': 'None', 'permission_indx': 326, 'match': 1},\n",
       " 131: {'transaction_indx': '4301', 'permission_indx': 327, 'match': 1},\n",
       " 132: {'transaction_indx': '4302', 'permission_indx': 328, 'match': 1},\n",
       " 133: {'transaction_indx': 'None', 'permission_indx': 329, 'match': 1},\n",
       " 134: {'transaction_indx': 'None', 'permission_indx': 330, 'match': 1},\n",
       " 135: {'transaction_indx': 'None', 'permission_indx': 331, 'match': 1},\n",
       " 136: {'transaction_indx': 'None', 'permission_indx': 332, 'match': 1},\n",
       " 137: {'transaction_indx': 'None', 'permission_indx': 198, 'match': 1},\n",
       " 138: {'transaction_indx': 'None', 'permission_indx': 199, 'match': 1},\n",
       " 139: {'transaction_indx': 'None', 'permission_indx': 200, 'match': 1},\n",
       " 140: {'transaction_indx': 'None', 'permission_indx': 201, 'match': 1},\n",
       " 141: {'transaction_indx': 'None', 'permission_indx': 202, 'match': 1},\n",
       " 142: {'transaction_indx': 'None', 'permission_indx': 203, 'match': 1},\n",
       " 143: {'transaction_indx': 'None', 'permission_indx': 204, 'match': 1},\n",
       " 144: {'transaction_indx': 'None', 'permission_indx': 205, 'match': 1},\n",
       " 145: {'transaction_indx': 'None', 'permission_indx': 206, 'match': 1},\n",
       " 146: {'transaction_indx': '6099', 'permission_indx': 207, 'match': 1},\n",
       " 147: {'transaction_indx': '4149', 'permission_indx': 208, 'match': 1},\n",
       " 148: {'transaction_indx': 'None', 'permission_indx': 209, 'match': 1},\n",
       " 149: {'transaction_indx': '4159', 'permission_indx': 210, 'match': 1},\n",
       " 150: {'transaction_indx': 'None', 'permission_indx': 211, 'match': 1},\n",
       " 151: {'transaction_indx': 'None', 'permission_indx': 212, 'match': 1},\n",
       " 152: {'transaction_indx': 'None', 'permission_indx': 213, 'match': 1},\n",
       " 153: {'transaction_indx': 'None', 'permission_indx': 214, 'match': 1},\n",
       " 154: {'transaction_indx': 'None', 'permission_indx': 215, 'match': 1},\n",
       " 155: {'transaction_indx': 'None', 'permission_indx': 216, 'match': 1},\n",
       " 156: {'transaction_indx': 'None', 'permission_indx': 217, 'match': 1},\n",
       " 157: {'transaction_indx': 'None', 'permission_indx': 218, 'match': 1},\n",
       " 158: {'transaction_indx': 'None', 'permission_indx': 219, 'match': 1},\n",
       " 159: {'transaction_indx': 'None', 'permission_indx': 220, 'match': 1},\n",
       " 160: {'transaction_indx': 'None', 'permission_indx': 221, 'match': 1},\n",
       " 161: {'transaction_indx': 'None', 'permission_indx': 222, 'match': 1},\n",
       " 162: {'transaction_indx': 'None', 'permission_indx': 223, 'match': 1},\n",
       " 163: {'transaction_indx': 'None', 'permission_indx': 224, 'match': 1},\n",
       " 164: {'transaction_indx': 'None', 'permission_indx': 225, 'match': 1},\n",
       " 165: {'transaction_indx': 'None', 'permission_indx': 226, 'match': 1},\n",
       " 166: {'transaction_indx': 'None', 'permission_indx': 227, 'match': 1},\n",
       " 167: {'transaction_indx': 'None', 'permission_indx': 228, 'match': 1},\n",
       " 168: {'transaction_indx': 'None', 'permission_indx': 229, 'match': 1},\n",
       " 169: {'transaction_indx': 'None', 'permission_indx': 230, 'match': 1},\n",
       " 170: {'transaction_indx': 'None', 'permission_indx': 231, 'match': 1},\n",
       " 171: {'transaction_indx': 'None', 'permission_indx': 232, 'match': 1},\n",
       " 172: {'transaction_indx': 'None', 'permission_indx': 233, 'match': 1},\n",
       " 173: {'transaction_indx': 'None', 'permission_indx': 234, 'match': 1},\n",
       " 174: {'transaction_indx': 'None', 'permission_indx': 235, 'match': 1},\n",
       " 175: {'transaction_indx': 'None', 'permission_indx': 236, 'match': 1},\n",
       " 176: {'transaction_indx': 'None', 'permission_indx': 237, 'match': 1},\n",
       " 177: {'transaction_indx': 'None', 'permission_indx': 238, 'match': 1},\n",
       " 178: {'transaction_indx': 'None', 'permission_indx': 239, 'match': 1},\n",
       " 179: {'transaction_indx': 'None', 'permission_indx': 240, 'match': 1},\n",
       " 180: {'transaction_indx': 'None', 'permission_indx': 241, 'match': 1},\n",
       " 181: {'transaction_indx': 'None', 'permission_indx': 242, 'match': 1},\n",
       " 182: {'transaction_indx': 'None', 'permission_indx': 243, 'match': 1},\n",
       " 183: {'transaction_indx': 'None', 'permission_indx': 244, 'match': 1},\n",
       " 184: {'transaction_indx': 'None', 'permission_indx': 245, 'match': 1},\n",
       " 185: {'transaction_indx': 'None', 'permission_indx': 246, 'match': 1},\n",
       " 186: {'transaction_indx': 'None', 'permission_indx': 247, 'match': 1},\n",
       " 187: {'transaction_indx': 'None', 'permission_indx': 248, 'match': 1},\n",
       " 188: {'transaction_indx': 'None', 'permission_indx': 249, 'match': 1},\n",
       " 189: {'transaction_indx': 'None', 'permission_indx': 250, 'match': 1},\n",
       " 190: {'transaction_indx': 'None', 'permission_indx': 251, 'match': 1},\n",
       " 191: {'transaction_indx': 'None', 'permission_indx': 252, 'match': 1},\n",
       " 192: {'transaction_indx': 'None', 'permission_indx': 253, 'match': 1},\n",
       " 193: {'transaction_indx': '4503', 'permission_indx': 254, 'match': 1},\n",
       " 194: {'transaction_indx': 'None', 'permission_indx': 255, 'match': 1},\n",
       " 195: {'transaction_indx': '4251', 'permission_indx': 256, 'match': 1},\n",
       " 196: {'transaction_indx': '3339', 'permission_indx': 257, 'match': 1},\n",
       " 197: {'transaction_indx': '4299', 'permission_indx': 258, 'match': 1},\n",
       " 198: {'transaction_indx': 'None', 'permission_indx': 259, 'match': 1},\n",
       " 199: {'transaction_indx': '4404', 'permission_indx': 260, 'match': 1},\n",
       " 200: {'transaction_indx': 'None', 'permission_indx': 261, 'match': 1},\n",
       " 201: {'transaction_indx': 'None', 'permission_indx': 262, 'match': 1},\n",
       " 202: {'transaction_indx': 'None', 'permission_indx': 263, 'match': 1},\n",
       " 203: {'transaction_indx': 'None', 'permission_indx': 264, 'match': 1},\n",
       " 204: {'transaction_indx': '2513', 'permission_indx': 265, 'match': 1},\n",
       " 205: {'transaction_indx': 'None', 'permission_indx': 266, 'match': 1},\n",
       " 206: {'transaction_indx': 'None', 'permission_indx': 267, 'match': 1},\n",
       " 207: {'transaction_indx': 'None', 'permission_indx': 268, 'match': 1},\n",
       " 208: {'transaction_indx': 'None', 'permission_indx': 269, 'match': 1},\n",
       " 209: {'transaction_indx': 'None', 'permission_indx': 270, 'match': 1},\n",
       " 210: {'transaction_indx': 'None', 'permission_indx': 271, 'match': 1},\n",
       " 211: {'transaction_indx': 'None', 'permission_indx': 272, 'match': 1},\n",
       " 212: {'transaction_indx': 'None', 'permission_indx': 273, 'match': 1},\n",
       " 213: {'transaction_indx': 'None', 'permission_indx': 274, 'match': 1},\n",
       " 214: {'transaction_indx': 'None', 'permission_indx': 275, 'match': 1},\n",
       " 215: {'transaction_indx': '2513', 'permission_indx': 276, 'match': 1},\n",
       " 216: {'transaction_indx': 'None', 'permission_indx': 277, 'match': 1},\n",
       " 217: {'transaction_indx': 'None', 'permission_indx': 278, 'match': 1},\n",
       " 218: {'transaction_indx': 'None', 'permission_indx': 279, 'match': 1},\n",
       " 219: {'transaction_indx': 'None', 'permission_indx': 280, 'match': 1},\n",
       " 220: {'transaction_indx': 'None', 'permission_indx': 281, 'match': 1},\n",
       " 221: {'transaction_indx': 'None', 'permission_indx': 282, 'match': 1},\n",
       " 222: {'transaction_indx': 'None', 'permission_indx': 283, 'match': 1},\n",
       " 223: {'transaction_indx': 'None', 'permission_indx': 284, 'match': 1},\n",
       " 224: {'transaction_indx': 'None', 'permission_indx': 285, 'match': 1},\n",
       " 225: {'transaction_indx': 'None', 'permission_indx': 286, 'match': 1},\n",
       " 226: {'transaction_indx': 'None', 'permission_indx': 287, 'match': 1},\n",
       " 227: {'transaction_indx': 'None', 'permission_indx': 288, 'match': 1},\n",
       " 228: {'transaction_indx': 'None', 'permission_indx': 198, 'match': 1},\n",
       " 229: {'transaction_indx': 'None', 'permission_indx': 199, 'match': 1}}"
      ]
     },
     "execution_count": 12,
     "metadata": {},
     "output_type": "execute_result"
    }
   ],
   "source": [
    "res"
   ]
  },
  {
   "cell_type": "code",
   "execution_count": 13,
   "metadata": {},
   "outputs": [
    {
     "data": {
      "text/html": [
       "<div>\n",
       "<style scoped>\n",
       "    .dataframe tbody tr th:only-of-type {\n",
       "        vertical-align: middle;\n",
       "    }\n",
       "\n",
       "    .dataframe tbody tr th {\n",
       "        vertical-align: top;\n",
       "    }\n",
       "\n",
       "    .dataframe thead th {\n",
       "        text-align: right;\n",
       "    }\n",
       "</style>\n",
       "<table border=\"1\" class=\"dataframe\">\n",
       "  <thead>\n",
       "    <tr style=\"text-align: right;\">\n",
       "      <th></th>\n",
       "      <th>0</th>\n",
       "    </tr>\n",
       "  </thead>\n",
       "  <tbody>\n",
       "    <tr>\n",
       "      <th>(0, transaction_indx)</th>\n",
       "      <td>None</td>\n",
       "    </tr>\n",
       "    <tr>\n",
       "      <th>(0, permission_indx)</th>\n",
       "      <td>198</td>\n",
       "    </tr>\n",
       "    <tr>\n",
       "      <th>(0, match)</th>\n",
       "      <td>1</td>\n",
       "    </tr>\n",
       "    <tr>\n",
       "      <th>(1, transaction_indx)</th>\n",
       "      <td>None</td>\n",
       "    </tr>\n",
       "    <tr>\n",
       "      <th>(1, permission_indx)</th>\n",
       "      <td>199</td>\n",
       "    </tr>\n",
       "    <tr>\n",
       "      <th>...</th>\n",
       "      <td>...</td>\n",
       "    </tr>\n",
       "    <tr>\n",
       "      <th>(228, permission_indx)</th>\n",
       "      <td>198</td>\n",
       "    </tr>\n",
       "    <tr>\n",
       "      <th>(228, match)</th>\n",
       "      <td>1</td>\n",
       "    </tr>\n",
       "    <tr>\n",
       "      <th>(229, transaction_indx)</th>\n",
       "      <td>None</td>\n",
       "    </tr>\n",
       "    <tr>\n",
       "      <th>(229, permission_indx)</th>\n",
       "      <td>199</td>\n",
       "    </tr>\n",
       "    <tr>\n",
       "      <th>(229, match)</th>\n",
       "      <td>1</td>\n",
       "    </tr>\n",
       "  </tbody>\n",
       "</table>\n",
       "<p>690 rows × 1 columns</p>\n",
       "</div>"
      ],
      "text/plain": [
       "                            0\n",
       "(0, transaction_indx)    None\n",
       "(0, permission_indx)      198\n",
       "(0, match)                  1\n",
       "(1, transaction_indx)    None\n",
       "(1, permission_indx)      199\n",
       "...                       ...\n",
       "(228, permission_indx)    198\n",
       "(228, match)                1\n",
       "(229, transaction_indx)  None\n",
       "(229, permission_indx)    199\n",
       "(229, match)                1\n",
       "\n",
       "[690 rows x 1 columns]"
      ]
     },
     "execution_count": 13,
     "metadata": {},
     "output_type": "execute_result"
    }
   ],
   "source": [
    "pd.DataFrame.from_dict({(i,j):res[i][j] \n",
    "                           for i in res.keys() \n",
    "                           for j in res[i].keys()},\n",
    "                       orient='index')"
   ]
  },
  {
   "cell_type": "code",
   "execution_count": 14,
   "metadata": {},
   "outputs": [
    {
     "data": {
      "text/plain": [
       "array([198, 199, 200, 201, 202, 203, 204, 205, 206, 207, 208, 209, 210,\n",
       "       211, 212, 213, 214, 215, 216, 217, 218, 219, 220, 221, 222, 223,\n",
       "       224, 225, 226, 227, 228, 229, 230, 231, 232, 233, 234, 235, 236,\n",
       "       237, 238, 239, 240, 241, 242, 243, 244, 245, 246, 247, 248, 249,\n",
       "       250, 251, 252, 253, 254, 255, 256, 257, 258, 259, 260, 261, 262,\n",
       "       263, 264, 265, 266, 267, 268, 269, 270, 271, 272, 273, 274, 275,\n",
       "       276, 277, 278, 279, 280, 281, 282, 283, 284, 285, 286, 287, 288,\n",
       "       289, 290, 291, 292, 293, 294, 295, 296, 297, 298, 299, 300, 301,\n",
       "       302, 303, 304, 305, 306, 307, 308, 309, 310, 311, 312, 313, 314,\n",
       "       315, 316, 317, 318, 319, 320, 321, 322, 323, 324, 325, 326, 327,\n",
       "       328, 329, 330, 331, 332], dtype=int64)"
      ]
     },
     "execution_count": 14,
     "metadata": {},
     "output_type": "execute_result"
    }
   ],
   "source": [
    "matches[\"permission_indx\"].unique()"
   ]
  },
  {
   "cell_type": "code",
   "execution_count": 15,
   "metadata": {},
   "outputs": [],
   "source": [
    "X = distances[distances['permission_indx'].isin(matches[\"permission_indx\"].unique())]"
   ]
  },
  {
   "cell_type": "code",
   "execution_count": null,
   "metadata": {},
   "outputs": [],
   "source": []
  },
  {
   "cell_type": "code",
   "execution_count": 16,
   "metadata": {},
   "outputs": [
    {
     "name": "stderr",
     "output_type": "stream",
     "text": [
      "<ipython-input-16-1ce1c902cb90>:1: SettingWithCopyWarning: \n",
      "A value is trying to be set on a copy of a slice from a DataFrame.\n",
      "Try using .loc[row_indexer,col_indexer] = value instead\n",
      "\n",
      "See the caveats in the documentation: https://pandas.pydata.org/pandas-docs/stable/user_guide/indexing.html#returning-a-view-versus-a-copy\n",
      "  X[\"Match\"] = 0\n"
     ]
    }
   ],
   "source": [
    "X[\"Match\"] = 0"
   ]
  },
  {
   "cell_type": "code",
   "execution_count": 17,
   "metadata": {
    "scrolled": true
   },
   "outputs": [
    {
     "name": "stderr",
     "output_type": "stream",
     "text": [
      "C:\\Users\\basvd\\anaconda3\\lib\\site-packages\\pandas\\core\\indexing.py:1817: SettingWithCopyWarning: \n",
      "A value is trying to be set on a copy of a slice from a DataFrame.\n",
      "Try using .loc[row_indexer,col_indexer] = value instead\n",
      "\n",
      "See the caveats in the documentation: https://pandas.pydata.org/pandas-docs/stable/user_guide/indexing.html#returning-a-view-versus-a-copy\n",
      "  self._setitem_single_column(loc, value, pi)\n"
     ]
    }
   ],
   "source": [
    "for i, match in matches.iterrows():\n",
    "    if match[\"transaction_indx\"] != \"None\":\n",
    "        indx = distances.query(f\"permission_indx == {match['permission_indx']} & transaction_indx == {match['transaction_indx']}\").index[0]\n",
    "        X.iloc[indx, -1] = 1"
   ]
  },
  {
   "cell_type": "code",
   "execution_count": 18,
   "metadata": {},
   "outputs": [],
   "source": [
    "data = X.iloc[:, 2:-1]\n",
    "y = X.iloc[:, -1]"
   ]
  },
  {
   "cell_type": "code",
   "execution_count": 19,
   "metadata": {},
   "outputs": [],
   "source": [
    "X_train, X_test, y_train, y_test = train_test_split(data, y, test_size=0.5, random_state=42)"
   ]
  },
  {
   "cell_type": "code",
   "execution_count": null,
   "metadata": {},
   "outputs": [],
   "source": [
    "# (tn, fp,\n",
    "# fn, tp)"
   ]
  },
  {
   "cell_type": "markdown",
   "metadata": {},
   "source": [
    "# Benchmarks"
   ]
  },
  {
   "cell_type": "markdown",
   "metadata": {},
   "source": [
    "## All false"
   ]
  },
  {
   "cell_type": "code",
   "execution_count": null,
   "metadata": {},
   "outputs": [],
   "source": [
    "pred = np.zeros(len(y_test))"
   ]
  },
  {
   "cell_type": "markdown",
   "metadata": {},
   "source": []
  },
  {
   "cell_type": "code",
   "execution_count": null,
   "metadata": {},
   "outputs": [],
   "source": []
  },
  {
   "cell_type": "code",
   "execution_count": null,
   "metadata": {},
   "outputs": [],
   "source": [
    "cm = confusion_matrix(y_test, pred)\n",
    "disp = ConfusionMatrixDisplay(confusion_matrix=cm)\n",
    "disp.plot()"
   ]
  },
  {
   "cell_type": "markdown",
   "metadata": {},
   "source": [
    "# Normal sampling"
   ]
  },
  {
   "cell_type": "code",
   "execution_count": null,
   "metadata": {},
   "outputs": [],
   "source": []
  },
  {
   "cell_type": "code",
   "execution_count": null,
   "metadata": {},
   "outputs": [],
   "source": []
  },
  {
   "cell_type": "code",
   "execution_count": null,
   "metadata": {},
   "outputs": [],
   "source": []
  },
  {
   "cell_type": "markdown",
   "metadata": {},
   "source": [
    "## Logistic regression"
   ]
  },
  {
   "cell_type": "code",
   "execution_count": null,
   "metadata": {},
   "outputs": [],
   "source": [
    "from sklearn.linear_model import LogisticRegression\n",
    "clf = LogisticRegression(random_state=0).fit(X_train, y_train)\n",
    "pred = clf.predict(X_test)"
   ]
  },
  {
   "cell_type": "code",
   "execution_count": null,
   "metadata": {},
   "outputs": [],
   "source": [
    "cm = confusion_matrix(y_test, pred)\n",
    "disp = ConfusionMatrixDisplay(confusion_matrix=cm, display_labels=clf.classes_)\n",
    "disp.plot()"
   ]
  },
  {
   "cell_type": "markdown",
   "metadata": {},
   "source": [
    "## Naive Bayes"
   ]
  },
  {
   "cell_type": "code",
   "execution_count": null,
   "metadata": {},
   "outputs": [],
   "source": [
    "from sklearn.naive_bayes import MultinomialNB"
   ]
  },
  {
   "cell_type": "code",
   "execution_count": null,
   "metadata": {},
   "outputs": [],
   "source": [
    "clf = MultinomialNB().fit(X_train, y_train)\n",
    "pred = clf.predict(X_test)"
   ]
  },
  {
   "cell_type": "code",
   "execution_count": null,
   "metadata": {},
   "outputs": [],
   "source": [
    "cm = confusion_matrix(y_test, pred)\n",
    "disp = ConfusionMatrixDisplay(confusion_matrix=cm, display_labels=clf.classes_)\n",
    "disp.plot()"
   ]
  },
  {
   "cell_type": "markdown",
   "metadata": {},
   "source": [
    "## Neural network"
   ]
  },
  {
   "cell_type": "code",
   "execution_count": null,
   "metadata": {},
   "outputs": [],
   "source": [
    "from sklearn.neural_network import MLPClassifier\n",
    "clf = MLPClassifier(solver='lbfgs', alpha=1e-5,hidden_layer_sizes=(50, 20), random_state=1).fit(X_train, y_train)\n",
    "pred = clf.predict(X_test)"
   ]
  },
  {
   "cell_type": "code",
   "execution_count": null,
   "metadata": {},
   "outputs": [],
   "source": [
    "cm = confusion_matrix(y_test, pred)\n",
    "disp = ConfusionMatrixDisplay(confusion_matrix=cm, display_labels=clf.classes_)\n",
    "disp.plot()"
   ]
  },
  {
   "cell_type": "code",
   "execution_count": null,
   "metadata": {},
   "outputs": [],
   "source": []
  },
  {
   "cell_type": "markdown",
   "metadata": {},
   "source": [
    "# Oversampling"
   ]
  },
  {
   "cell_type": "code",
   "execution_count": null,
   "metadata": {},
   "outputs": [],
   "source": [
    "ros = RandomOverSampler()\n",
    "X_ros, y_ros = ros.fit_resample(X_train, y_train)"
   ]
  },
  {
   "cell_type": "markdown",
   "metadata": {},
   "source": [
    "## Logistic regression"
   ]
  },
  {
   "cell_type": "code",
   "execution_count": null,
   "metadata": {},
   "outputs": [],
   "source": []
  },
  {
   "cell_type": "code",
   "execution_count": null,
   "metadata": {},
   "outputs": [],
   "source": [
    "clf = LogisticRegression(random_state=0).fit(X_ros, y_ros)\n",
    "pred = clf.predict(X_test)"
   ]
  },
  {
   "cell_type": "code",
   "execution_count": null,
   "metadata": {},
   "outputs": [],
   "source": [
    "cm = confusion_matrix(y_test, pred)\n",
    "disp = ConfusionMatrixDisplay(confusion_matrix=cm, display_labels=clf.classes_)\n",
    "disp.plot()"
   ]
  },
  {
   "cell_type": "code",
   "execution_count": null,
   "metadata": {},
   "outputs": [],
   "source": []
  },
  {
   "cell_type": "markdown",
   "metadata": {},
   "source": [
    "## Naive Bayes"
   ]
  },
  {
   "cell_type": "code",
   "execution_count": null,
   "metadata": {},
   "outputs": [],
   "source": [
    "from sklearn.naive_bayes import MultinomialNB"
   ]
  },
  {
   "cell_type": "code",
   "execution_count": null,
   "metadata": {},
   "outputs": [],
   "source": [
    "clf = MultinomialNB().fit(X_ros, y_ros)\n",
    "pred = clf.predict(X_test)"
   ]
  },
  {
   "cell_type": "code",
   "execution_count": null,
   "metadata": {},
   "outputs": [],
   "source": [
    "cm = confusion_matrix(y_test, pred)\n",
    "disp = ConfusionMatrixDisplay(confusion_matrix=cm, display_labels=clf.classes_)\n",
    "disp.plot()"
   ]
  },
  {
   "cell_type": "markdown",
   "metadata": {},
   "source": [
    "## Neural network"
   ]
  },
  {
   "cell_type": "code",
   "execution_count": null,
   "metadata": {},
   "outputs": [],
   "source": [
    "clf = MLPClassifier(solver='adam', alpha=1e-5,hidden_layer_sizes=(5, 2), random_state=1).fit(X_ros, y_ros)\n",
    "pred = clf.predict(X_test)"
   ]
  },
  {
   "cell_type": "code",
   "execution_count": null,
   "metadata": {},
   "outputs": [],
   "source": [
    "cm = confusion_matrix(y_test, pred)\n",
    "disp = ConfusionMatrixDisplay(confusion_matrix=cm, display_labels=clf.classes_)\n",
    "disp.plot()"
   ]
  },
  {
   "cell_type": "code",
   "execution_count": null,
   "metadata": {},
   "outputs": [],
   "source": []
  },
  {
   "cell_type": "markdown",
   "metadata": {},
   "source": [
    "# Smart Oversampling"
   ]
  },
  {
   "cell_type": "code",
   "execution_count": null,
   "metadata": {},
   "outputs": [],
   "source": [
    "from imblearn.over_sampling import ADASYN\n",
    "ada = ADASYN(random_state=42)\n",
    "X_res, y_res = ada.fit_resample(X_train, y_train)"
   ]
  },
  {
   "cell_type": "markdown",
   "metadata": {},
   "source": [
    "## Logistic regression"
   ]
  },
  {
   "cell_type": "code",
   "execution_count": null,
   "metadata": {},
   "outputs": [],
   "source": []
  },
  {
   "cell_type": "code",
   "execution_count": null,
   "metadata": {},
   "outputs": [],
   "source": [
    "clf = LogisticRegression(random_state=0).fit(X_res, y_res)\n",
    "pred = clf.predict(X_test)"
   ]
  },
  {
   "cell_type": "code",
   "execution_count": null,
   "metadata": {},
   "outputs": [],
   "source": [
    "cm = confusion_matrix(y_test, pred)\n",
    "disp = ConfusionMatrixDisplay(confusion_matrix=cm, display_labels=clf.classes_)\n",
    "disp.plot()"
   ]
  },
  {
   "cell_type": "code",
   "execution_count": null,
   "metadata": {},
   "outputs": [],
   "source": []
  },
  {
   "cell_type": "code",
   "execution_count": null,
   "metadata": {},
   "outputs": [],
   "source": []
  },
  {
   "cell_type": "markdown",
   "metadata": {},
   "source": [
    "## Neural network"
   ]
  },
  {
   "cell_type": "code",
   "execution_count": null,
   "metadata": {},
   "outputs": [],
   "source": [
    "clf = MLPClassifier(solver='adam', alpha=1e-5,hidden_layer_sizes=(5, 2), random_state=1).fit(X_res, y_res)\n",
    "pred = clf.predict(X_test)"
   ]
  },
  {
   "cell_type": "code",
   "execution_count": null,
   "metadata": {},
   "outputs": [],
   "source": [
    "cm = confusion_matrix(y_test, pred)\n",
    "disp = ConfusionMatrixDisplay(confusion_matrix=cm, display_labels=clf.classes_)\n",
    "disp.plot()"
   ]
  },
  {
   "cell_type": "code",
   "execution_count": 20,
   "metadata": {},
   "outputs": [],
   "source": [
    "# TensorFlow and tf.keras\n",
    "import tensorflow as tf\n",
    "\n",
    "# Helper libraries\n",
    "import numpy as np\n",
    "import matplotlib.pyplot as plt"
   ]
  },
  {
   "cell_type": "code",
   "execution_count": 21,
   "metadata": {},
   "outputs": [],
   "source": [
    "from sklearn.preprocessing import MinMaxScaler"
   ]
  },
  {
   "cell_type": "code",
   "execution_count": 22,
   "metadata": {},
   "outputs": [],
   "source": [
    "X_scaler = MinMaxScaler().fit(X_train.to_numpy().astype(float))\n",
    "X_train = X_scaler.transform(X_train.to_numpy().astype(float))"
   ]
  },
  {
   "cell_type": "code",
   "execution_count": 23,
   "metadata": {},
   "outputs": [
    {
     "data": {
      "text/plain": [
       "[array([0., 0., 0., ..., 0., 0., 0.])]"
      ]
     },
     "execution_count": 23,
     "metadata": {},
     "output_type": "execute_result"
    }
   ],
   "source": [
    "[y_train.to_numpy().astype(float).T]"
   ]
  },
  {
   "cell_type": "code",
   "execution_count": 24,
   "metadata": {},
   "outputs": [],
   "source": [
    "y_scaler = MinMaxScaler().fit([y_train.to_numpy().astype(float).T])\n",
    "# y_train = y_scaler.transform([y_train.to_numpy().astype(float).T])"
   ]
  },
  {
   "cell_type": "code",
   "execution_count": 25,
   "metadata": {},
   "outputs": [
    {
     "name": "stderr",
     "output_type": "stream",
     "text": [
      "C:\\Users\\basvd\\anaconda3\\lib\\site-packages\\sklearn\\base.py:438: UserWarning: X has feature names, but MinMaxScaler was fitted without feature names\n",
      "  warnings.warn(\n"
     ]
    }
   ],
   "source": [
    "X_test = X_scaler.transform(X_test.astype(float))\n",
    "# y_scaler = MinMaxScaler().fit([y_test.astype(float).T])\n",
    "# y_test = y_scaler.transform([y_test.astype(float).T])"
   ]
  },
  {
   "cell_type": "code",
   "execution_count": 26,
   "metadata": {},
   "outputs": [],
   "source": [
    "# X_scaler = MinMaxScaler().fit(X_test.astype(float))\n",
    "# y_scaler = MinMaxScaler().fit([y_test])\n",
    "# X_test = X_scaler.transform(X_test.astype(float))\n",
    "# y_test = y_scaler.transform([y_test.astype(float)])"
   ]
  },
  {
   "cell_type": "code",
   "execution_count": 27,
   "metadata": {},
   "outputs": [],
   "source": [
    "# X_scaler.transform(X_train.to_numpy().astype(float))"
   ]
  },
  {
   "cell_type": "code",
   "execution_count": 41,
   "metadata": {},
   "outputs": [
    {
     "data": {
      "text/plain": [
       "array([0., 0., 0., ..., 0., 0., 0.])"
      ]
     },
     "execution_count": 41,
     "metadata": {},
     "output_type": "execute_result"
    }
   ],
   "source": [
    "y_train.values.astype(float)"
   ]
  },
  {
   "cell_type": "code",
   "execution_count": 44,
   "metadata": {},
   "outputs": [
    {
     "data": {
      "text/plain": [
       "1.0"
      ]
     },
     "execution_count": 44,
     "metadata": {},
     "output_type": "execute_result"
    }
   ],
   "source": [
    "y_test.values.astype(float).max()"
   ]
  },
  {
   "cell_type": "code",
   "execution_count": 28,
   "metadata": {},
   "outputs": [
    {
     "data": {
      "text/plain": [
       "0"
      ]
     },
     "execution_count": 28,
     "metadata": {},
     "output_type": "execute_result"
    }
   ],
   "source": [
    "y_train.min()"
   ]
  },
  {
   "cell_type": "code",
   "execution_count": 29,
   "metadata": {},
   "outputs": [
    {
     "data": {
      "text/plain": [
       "1"
      ]
     },
     "execution_count": 29,
     "metadata": {},
     "output_type": "execute_result"
    }
   ],
   "source": [
    "y_train.max()"
   ]
  },
  {
   "cell_type": "code",
   "execution_count": 35,
   "metadata": {},
   "outputs": [],
   "source": [
    "model = tf.keras.Sequential([\n",
    "    tf.keras.layers.Dense(6, activation='softmax'),\n",
    "    tf.keras.layers.Dense(1)\n",
    "])"
   ]
  },
  {
   "cell_type": "code",
   "execution_count": 36,
   "metadata": {},
   "outputs": [],
   "source": [
    "model.compile(optimizer='adam',\n",
    "              loss=tf.keras.losses.SparseCategoricalCrossentropy(from_logits=True),\n",
    "              metrics=['accuracy'])"
   ]
  },
  {
   "cell_type": "code",
   "execution_count": 51,
   "metadata": {},
   "outputs": [
    {
     "data": {
      "text/plain": [
       "array([0., 0., 0., ..., 0., 0., 0.])"
      ]
     },
     "execution_count": 51,
     "metadata": {},
     "output_type": "execute_result"
    }
   ],
   "source": [
    "y_train.values.astype(float).T"
   ]
  },
  {
   "cell_type": "code",
   "execution_count": 47,
   "metadata": {},
   "outputs": [
    {
     "name": "stdout",
     "output_type": "stream",
     "text": [
      "486/486 [==============================] - 2s 5ms/step - loss: nan - accuracy: 1.0000\n"
     ]
    },
    {
     "data": {
      "text/plain": [
       "<keras.callbacks.History at 0x1cb140997c0>"
      ]
     },
     "execution_count": 47,
     "metadata": {},
     "output_type": "execute_result"
    }
   ],
   "source": [
    "model.fit(X_train, y_train.values.astype(float).T, epochs=1, batch_size=1000)"
   ]
  },
  {
   "cell_type": "code",
   "execution_count": null,
   "metadata": {},
   "outputs": [],
   "source": [
    "model.predict(X_train[:2])"
   ]
  },
  {
   "cell_type": "code",
   "execution_count": null,
   "metadata": {},
   "outputs": [],
   "source": [
    "y_train.min()"
   ]
  },
  {
   "cell_type": "code",
   "execution_count": null,
   "metadata": {},
   "outputs": [],
   "source": [
    "y_test.max()"
   ]
  },
  {
   "cell_type": "code",
   "execution_count": 45,
   "metadata": {},
   "outputs": [],
   "source": [
    "pred = model.predict(X_test)"
   ]
  },
  {
   "cell_type": "code",
   "execution_count": null,
   "metadata": {},
   "outputs": [],
   "source": [
    "y_test[0]"
   ]
  },
  {
   "cell_type": "code",
   "execution_count": null,
   "metadata": {},
   "outputs": [],
   "source": [
    "pred.T[0].max()"
   ]
  },
  {
   "cell_type": "code",
   "execution_count": 46,
   "metadata": {},
   "outputs": [
    {
     "ename": "ValueError",
     "evalue": "Input contains NaN, infinity or a value too large for dtype('float32').",
     "output_type": "error",
     "traceback": [
      "\u001b[1;31m---------------------------------------------------------------------------\u001b[0m",
      "\u001b[1;31mValueError\u001b[0m                                Traceback (most recent call last)",
      "\u001b[1;32m<ipython-input-46-d3c755e99b82>\u001b[0m in \u001b[0;36m<module>\u001b[1;34m\u001b[0m\n\u001b[1;32m----> 1\u001b[1;33m \u001b[0mcm\u001b[0m \u001b[1;33m=\u001b[0m \u001b[0mconfusion_matrix\u001b[0m\u001b[1;33m(\u001b[0m\u001b[0my_test\u001b[0m\u001b[1;33m.\u001b[0m\u001b[0mvalues\u001b[0m\u001b[1;33m.\u001b[0m\u001b[0mastype\u001b[0m\u001b[1;33m(\u001b[0m\u001b[0mfloat\u001b[0m\u001b[1;33m)\u001b[0m\u001b[1;33m,\u001b[0m \u001b[0mnp\u001b[0m\u001b[1;33m.\u001b[0m\u001b[0mround\u001b[0m\u001b[1;33m(\u001b[0m\u001b[0mpred\u001b[0m\u001b[1;33m.\u001b[0m\u001b[0mT\u001b[0m\u001b[1;33m[\u001b[0m\u001b[1;36m0\u001b[0m\u001b[1;33m]\u001b[0m\u001b[1;33m)\u001b[0m\u001b[1;33m)\u001b[0m\u001b[1;33m\u001b[0m\u001b[1;33m\u001b[0m\u001b[0m\n\u001b[0m",
      "\u001b[1;32m~\\anaconda3\\lib\\site-packages\\sklearn\\metrics\\_classification.py\u001b[0m in \u001b[0;36mconfusion_matrix\u001b[1;34m(y_true, y_pred, labels, sample_weight, normalize)\u001b[0m\n\u001b[0;32m    300\u001b[0m \u001b[1;33m\u001b[0m\u001b[0m\n\u001b[0;32m    301\u001b[0m     \"\"\"\n\u001b[1;32m--> 302\u001b[1;33m     \u001b[0my_type\u001b[0m\u001b[1;33m,\u001b[0m \u001b[0my_true\u001b[0m\u001b[1;33m,\u001b[0m \u001b[0my_pred\u001b[0m \u001b[1;33m=\u001b[0m \u001b[0m_check_targets\u001b[0m\u001b[1;33m(\u001b[0m\u001b[0my_true\u001b[0m\u001b[1;33m,\u001b[0m \u001b[0my_pred\u001b[0m\u001b[1;33m)\u001b[0m\u001b[1;33m\u001b[0m\u001b[1;33m\u001b[0m\u001b[0m\n\u001b[0m\u001b[0;32m    303\u001b[0m     \u001b[1;32mif\u001b[0m \u001b[0my_type\u001b[0m \u001b[1;32mnot\u001b[0m \u001b[1;32min\u001b[0m \u001b[1;33m(\u001b[0m\u001b[1;34m\"binary\"\u001b[0m\u001b[1;33m,\u001b[0m \u001b[1;34m\"multiclass\"\u001b[0m\u001b[1;33m)\u001b[0m\u001b[1;33m:\u001b[0m\u001b[1;33m\u001b[0m\u001b[1;33m\u001b[0m\u001b[0m\n\u001b[0;32m    304\u001b[0m         \u001b[1;32mraise\u001b[0m \u001b[0mValueError\u001b[0m\u001b[1;33m(\u001b[0m\u001b[1;34m\"%s is not supported\"\u001b[0m \u001b[1;33m%\u001b[0m \u001b[0my_type\u001b[0m\u001b[1;33m)\u001b[0m\u001b[1;33m\u001b[0m\u001b[1;33m\u001b[0m\u001b[0m\n",
      "\u001b[1;32m~\\anaconda3\\lib\\site-packages\\sklearn\\metrics\\_classification.py\u001b[0m in \u001b[0;36m_check_targets\u001b[1;34m(y_true, y_pred)\u001b[0m\n\u001b[0;32m     84\u001b[0m     \u001b[0mcheck_consistent_length\u001b[0m\u001b[1;33m(\u001b[0m\u001b[0my_true\u001b[0m\u001b[1;33m,\u001b[0m \u001b[0my_pred\u001b[0m\u001b[1;33m)\u001b[0m\u001b[1;33m\u001b[0m\u001b[1;33m\u001b[0m\u001b[0m\n\u001b[0;32m     85\u001b[0m     \u001b[0mtype_true\u001b[0m \u001b[1;33m=\u001b[0m \u001b[0mtype_of_target\u001b[0m\u001b[1;33m(\u001b[0m\u001b[0my_true\u001b[0m\u001b[1;33m)\u001b[0m\u001b[1;33m\u001b[0m\u001b[1;33m\u001b[0m\u001b[0m\n\u001b[1;32m---> 86\u001b[1;33m     \u001b[0mtype_pred\u001b[0m \u001b[1;33m=\u001b[0m \u001b[0mtype_of_target\u001b[0m\u001b[1;33m(\u001b[0m\u001b[0my_pred\u001b[0m\u001b[1;33m)\u001b[0m\u001b[1;33m\u001b[0m\u001b[1;33m\u001b[0m\u001b[0m\n\u001b[0m\u001b[0;32m     87\u001b[0m \u001b[1;33m\u001b[0m\u001b[0m\n\u001b[0;32m     88\u001b[0m     \u001b[0my_type\u001b[0m \u001b[1;33m=\u001b[0m \u001b[1;33m{\u001b[0m\u001b[0mtype_true\u001b[0m\u001b[1;33m,\u001b[0m \u001b[0mtype_pred\u001b[0m\u001b[1;33m}\u001b[0m\u001b[1;33m\u001b[0m\u001b[1;33m\u001b[0m\u001b[0m\n",
      "\u001b[1;32m~\\anaconda3\\lib\\site-packages\\sklearn\\utils\\multiclass.py\u001b[0m in \u001b[0;36mtype_of_target\u001b[1;34m(y)\u001b[0m\n\u001b[0;32m    323\u001b[0m     \u001b[1;32mif\u001b[0m \u001b[0my\u001b[0m\u001b[1;33m.\u001b[0m\u001b[0mdtype\u001b[0m\u001b[1;33m.\u001b[0m\u001b[0mkind\u001b[0m \u001b[1;33m==\u001b[0m \u001b[1;34m\"f\"\u001b[0m \u001b[1;32mand\u001b[0m \u001b[0mnp\u001b[0m\u001b[1;33m.\u001b[0m\u001b[0many\u001b[0m\u001b[1;33m(\u001b[0m\u001b[0my\u001b[0m \u001b[1;33m!=\u001b[0m \u001b[0my\u001b[0m\u001b[1;33m.\u001b[0m\u001b[0mastype\u001b[0m\u001b[1;33m(\u001b[0m\u001b[0mint\u001b[0m\u001b[1;33m)\u001b[0m\u001b[1;33m)\u001b[0m\u001b[1;33m:\u001b[0m\u001b[1;33m\u001b[0m\u001b[1;33m\u001b[0m\u001b[0m\n\u001b[0;32m    324\u001b[0m         \u001b[1;31m# [.1, .2, 3] or [[.1, .2, 3]] or [[1., .2]] and not [1., 2., 3.]\u001b[0m\u001b[1;33m\u001b[0m\u001b[1;33m\u001b[0m\u001b[1;33m\u001b[0m\u001b[0m\n\u001b[1;32m--> 325\u001b[1;33m         \u001b[0m_assert_all_finite\u001b[0m\u001b[1;33m(\u001b[0m\u001b[0my\u001b[0m\u001b[1;33m)\u001b[0m\u001b[1;33m\u001b[0m\u001b[1;33m\u001b[0m\u001b[0m\n\u001b[0m\u001b[0;32m    326\u001b[0m         \u001b[1;32mreturn\u001b[0m \u001b[1;34m\"continuous\"\u001b[0m \u001b[1;33m+\u001b[0m \u001b[0msuffix\u001b[0m\u001b[1;33m\u001b[0m\u001b[1;33m\u001b[0m\u001b[0m\n\u001b[0;32m    327\u001b[0m \u001b[1;33m\u001b[0m\u001b[0m\n",
      "\u001b[1;32m~\\anaconda3\\lib\\site-packages\\sklearn\\utils\\validation.py\u001b[0m in \u001b[0;36m_assert_all_finite\u001b[1;34m(X, allow_nan, msg_dtype)\u001b[0m\n\u001b[0;32m    112\u001b[0m         ):\n\u001b[0;32m    113\u001b[0m             \u001b[0mtype_err\u001b[0m \u001b[1;33m=\u001b[0m \u001b[1;34m\"infinity\"\u001b[0m \u001b[1;32mif\u001b[0m \u001b[0mallow_nan\u001b[0m \u001b[1;32melse\u001b[0m \u001b[1;34m\"NaN, infinity\"\u001b[0m\u001b[1;33m\u001b[0m\u001b[1;33m\u001b[0m\u001b[0m\n\u001b[1;32m--> 114\u001b[1;33m             raise ValueError(\n\u001b[0m\u001b[0;32m    115\u001b[0m                 msg_err.format(\n\u001b[0;32m    116\u001b[0m                     \u001b[0mtype_err\u001b[0m\u001b[1;33m,\u001b[0m \u001b[0mmsg_dtype\u001b[0m \u001b[1;32mif\u001b[0m \u001b[0mmsg_dtype\u001b[0m \u001b[1;32mis\u001b[0m \u001b[1;32mnot\u001b[0m \u001b[1;32mNone\u001b[0m \u001b[1;32melse\u001b[0m \u001b[0mX\u001b[0m\u001b[1;33m.\u001b[0m\u001b[0mdtype\u001b[0m\u001b[1;33m\u001b[0m\u001b[1;33m\u001b[0m\u001b[0m\n",
      "\u001b[1;31mValueError\u001b[0m: Input contains NaN, infinity or a value too large for dtype('float32')."
     ]
    }
   ],
   "source": [
    "cm = confusion_matrix(y_test.values.astype(float), np.round(pred.T[0]))"
   ]
  },
  {
   "cell_type": "code",
   "execution_count": null,
   "metadata": {},
   "outputs": [],
   "source": [
    "disp = ConfusionMatrixDisplay(confusion_matrix=cm)\n",
    "disp.plot()"
   ]
  },
  {
   "cell_type": "code",
   "execution_count": null,
   "metadata": {},
   "outputs": [],
   "source": []
  }
 ],
 "metadata": {
  "kernelspec": {
   "display_name": "Python 3",
   "language": "python",
   "name": "python3"
  },
  "language_info": {
   "codemirror_mode": {
    "name": "ipython",
    "version": 3
   },
   "file_extension": ".py",
   "mimetype": "text/x-python",
   "name": "python",
   "nbconvert_exporter": "python",
   "pygments_lexer": "ipython3",
   "version": "3.8.3"
  }
 },
 "nbformat": 4,
 "nbformat_minor": 4
}
