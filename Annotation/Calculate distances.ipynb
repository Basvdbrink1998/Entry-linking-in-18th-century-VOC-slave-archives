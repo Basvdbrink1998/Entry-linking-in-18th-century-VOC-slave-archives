{
 "cells": [
  {
   "cell_type": "code",
   "execution_count": 48,
   "metadata": {},
   "outputs": [],
   "source": [
    "import recordlinkage\n",
    "from Annotation_helper import *\n",
    "import numpy as np"
   ]
  },
  {
   "cell_type": "code",
   "execution_count": 50,
   "metadata": {},
   "outputs": [],
   "source": [
    "transactions = load_transactions(\"../../Data/structured_data\\VOC Cochin Slave Transactions 1706-1801 - IISH - Database - 2018 - v1.csv\")\n",
    "permissions = load_permissions(\"../../Data/structured_data\\VOC Cochin Slave Transport Permissions 1770-1795 - IISH - Database - 2018 - v1.csv\")"
   ]
  },
  {
   "cell_type": "code",
   "execution_count": 44,
   "metadata": {},
   "outputs": [
    {
     "name": "stdout",
     "output_type": "stream",
     "text": [
      "WARNING:recordlinkage:indexing - performance warning - A full index can result in large number of record pairs.\n"
     ]
    }
   ],
   "source": [
    "indexer = recordlinkage.Index()\n",
    "indexer.full()\n",
    "candidate_links = indexer.index(permissions, transactions)\n",
    "\n",
    "compare_cl = recordlinkage.Compare()\n",
    "\n",
    "compare_cl.exact('SlaafGender', 'SlaafGender', label='SlaafGender')\n",
    "compare_cl.string('SlaafNaamNieuw', 'SlaafNaamNieuw', label='SlaafNaamNieuw')\n",
    "compare_cl.exact('BezitterGender', 'KoperGender', label='BezitterGender')\n",
    "compare_cl.string('BezitterVoornaam', 'KoperVoornaam', label='BezitterVoornaam')\n",
    "compare_cl.string('BezitterBeroep', 'KoperBeroep', label='BezitterBeroep')\n",
    "compare_cl.string('BezitterAchternaam', 'KoperAchternaam', label='BezitterAchternaam')\n",
    "n_batches = 100\n",
    "split_perm = np.array_split(permissions, n_batches)"
   ]
  },
  {
   "cell_type": "code",
   "execution_count": 24,
   "metadata": {},
   "outputs": [
    {
     "name": "stdout",
     "output_type": "stream",
     "text": [
      "[0/100]\n",
      "      permission_indx  transaction_indx  SlaafGender  SlaafNaamNieuw  \\\n",
      "0                 208                 0            1        0.000000   \n",
      "1                 208                 1            1        0.250000   \n",
      "2                 208                 2            0        0.125000   \n",
      "3                 208                 3            1        0.333333   \n",
      "4                 208                 4            1        0.750000   \n",
      "...               ...               ...          ...             ...   \n",
      "7183              208              7192            0        0.125000   \n",
      "7184              208              7193            1        0.000000   \n",
      "7185              208              7194            1        0.125000   \n",
      "7186              208              7195            1        0.111111   \n",
      "7187              208              7196            0        0.250000   \n",
      "\n",
      "      BezitterGender  BezitterVoornaam  BezitterBeroep  BezitterAchternaam  \n",
      "0                  1             0.250        0.166667            0.166667  \n",
      "1                  1             0.250        0.166667            0.166667  \n",
      "2                  1             0.250        0.166667            0.166667  \n",
      "3                  1             0.250        0.000000            0.111111  \n",
      "4                  1             0.000        0.111111            0.142857  \n",
      "...              ...               ...             ...                 ...  \n",
      "7183               1             0.125        0.000000            0.000000  \n",
      "7184               1             0.125        0.000000            0.000000  \n",
      "7185               1             0.250        0.000000            0.250000  \n",
      "7186               1             0.000        0.000000            0.166667  \n",
      "7187               0             0.000        0.000000            0.000000  \n",
      "\n",
      "[7188 rows x 8 columns]\n"
     ]
    }
   ],
   "source": [
    "for i, p in enumerate(split_perm):\n",
    "    print(f\"[{i}/{n_batches}]\")\n",
    "    candidate_links = indexer.index(p, transactions)\n",
    "    features = compare_cl.compute(candidate_links, p, transactions)\n",
    "    features = features.reset_index()\n",
    "    features = features.rename(columns={\"level_0\": \"permission_indx\", \"level_1\": \"transaction_indx\"})\n",
    "    features.to_csv(f\"Distances/distances_{i}.csv\", index=False)\n",
    "    clear_output(wait=True)"
   ]
  },
  {
   "cell_type": "code",
   "execution_count": null,
   "metadata": {},
   "outputs": [],
   "source": []
  },
  {
   "cell_type": "code",
   "execution_count": null,
   "metadata": {},
   "outputs": [],
   "source": []
  },
  {
   "cell_type": "code",
   "execution_count": null,
   "metadata": {},
   "outputs": [],
   "source": []
  },
  {
   "cell_type": "code",
   "execution_count": null,
   "metadata": {},
   "outputs": [],
   "source": []
  },
  {
   "cell_type": "code",
   "execution_count": null,
   "metadata": {},
   "outputs": [],
   "source": []
  },
  {
   "cell_type": "code",
   "execution_count": null,
   "metadata": {},
   "outputs": [],
   "source": []
  },
  {
   "cell_type": "code",
   "execution_count": null,
   "metadata": {},
   "outputs": [],
   "source": []
  },
  {
   "cell_type": "code",
   "execution_count": null,
   "metadata": {},
   "outputs": [],
   "source": []
  },
  {
   "cell_type": "code",
   "execution_count": null,
   "metadata": {},
   "outputs": [],
   "source": []
  },
  {
   "cell_type": "code",
   "execution_count": null,
   "metadata": {},
   "outputs": [],
   "source": []
  },
  {
   "cell_type": "code",
   "execution_count": null,
   "metadata": {},
   "outputs": [],
   "source": []
  },
  {
   "cell_type": "code",
   "execution_count": null,
   "metadata": {},
   "outputs": [],
   "source": []
  },
  {
   "cell_type": "code",
   "execution_count": null,
   "metadata": {},
   "outputs": [],
   "source": []
  },
  {
   "cell_type": "code",
   "execution_count": null,
   "metadata": {},
   "outputs": [],
   "source": []
  }
 ],
 "metadata": {
  "kernelspec": {
   "display_name": "Python 3",
   "language": "python",
   "name": "python3"
  },
  "language_info": {
   "codemirror_mode": {
    "name": "ipython",
    "version": 3
   },
   "file_extension": ".py",
   "mimetype": "text/x-python",
   "name": "python",
   "nbconvert_exporter": "python",
   "pygments_lexer": "ipython3",
   "version": "3.8.3"
  }
 },
 "nbformat": 4,
 "nbformat_minor": 4
}
