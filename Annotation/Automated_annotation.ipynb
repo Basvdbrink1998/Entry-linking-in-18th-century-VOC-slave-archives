{
 "cells": [
  {
   "cell_type": "code",
   "execution_count": 1,
   "metadata": {},
   "outputs": [],
   "source": [
    "from Annotation_helper import *\n",
    "import numpy as np\n",
    "import matplotlib.pyplot as plt\n",
    "import pandas as pd\n",
    "\n",
    "from sklearn.model_selection import train_test_split\n",
    "from sklearn.pipeline import make_pipeline\n",
    "from sklearn.model_selection import KFold\n",
    "from sklearn.model_selection import cross_validate\n",
    "from sklearn.preprocessing import StandardScaler\n",
    "from sklearn.preprocessing import Normalizer\n",
    "from sklearn.linear_model import LogisticRegressionCV\n",
    "from sklearn.neighbors import KNeighborsClassifier\n",
    "from sklearn.ensemble import AdaBoostClassifier\n",
    "from sklearn.neural_network import MLPClassifier\n",
    "from sklearn.naive_bayes import MultinomialNB\n",
    "from sklearn.svm import LinearSVC"
   ]
  },
  {
   "cell_type": "markdown",
   "metadata": {},
   "source": [
    "Sets correct values for generated figures:"
   ]
  },
  {
   "cell_type": "code",
   "execution_count": 2,
   "metadata": {},
   "outputs": [
    {
     "data": {
      "text/plain": [
       "<Figure size 432x288 with 0 Axes>"
      ]
     },
     "metadata": {},
     "output_type": "display_data"
    }
   ],
   "source": [
    "#Set all settings for the resulting figures\n",
    "\n",
    "import seaborn as sns\n",
    "sns.set()\n",
    "\n",
    "SMALL_SIZE = 15\n",
    "MEDIUM_SIZE = 17\n",
    "BIGGER_SIZE = 19\n",
    "\n",
    "plt.rc('font', size=SMALL_SIZE)          # controls default text sizes\n",
    "plt.rc('axes', titlesize=SMALL_SIZE)     # fontsize of the axes title\n",
    "plt.rc('axes', labelsize=MEDIUM_SIZE)    # fontsize of the x and y labels\n",
    "plt.rc('xtick', labelsize=SMALL_SIZE)    # fontsize of the tick labels\n",
    "plt.rc('ytick', labelsize=SMALL_SIZE)    # fontsize of the tick labels\n",
    "plt.rc('legend', fontsize=SMALL_SIZE)    # legend fontsize\n",
    "plt.rc('figure', titlesize=BIGGER_SIZE)  # fontsize of the figure title\n",
    "\n",
    "plt.tight_layout()"
   ]
  },
  {
   "cell_type": "markdown",
   "metadata": {},
   "source": [
    "# Helper functions"
   ]
  },
  {
   "cell_type": "code",
   "execution_count": 3,
   "metadata": {},
   "outputs": [],
   "source": [
    "def make_meshgrid(x, y, h=.02):\n",
    "    x_min, x_max = x.min() - 1, x.max() + 1\n",
    "    y_min, y_max = y.min() - 1, y.max() + 1\n",
    "    xx, yy = np.meshgrid(np.arange(x_min, x_max, h), np.arange(y_min, y_max, h))\n",
    "    return xx, yy\n",
    "\n",
    "def plot_contours(ax, clf, xx, yy, **params):\n",
    "    Z = clf.predict(np.c_[xx.ravel(), yy.ravel()])\n",
    "    Z = Z.reshape(xx.shape)\n",
    "    out = ax.contourf(xx, yy, Z, **params)\n",
    "    return out\n",
    "\n",
    "def avg_dict_values(d):\n",
    "    res = dict()\n",
    "    for key in d:\n",
    "        res[key] = np.mean(d[key])\n",
    "    return res\n",
    "\n",
    "def append_dict(d1, d2):\n",
    "    res = dict()\n",
    "    if d1 == {}:\n",
    "        for key in d2:\n",
    "            res[key] = [d2[key]]\n",
    "        return d2\n",
    "    else:\n",
    "        for key in d1:\n",
    "            if type(d1[key]) != list:\n",
    "                res[key] = [d1[key]] + [d2[key]]\n",
    "            else:\n",
    "                res[key] = d1[key] + [d2[key]]\n",
    "        return res\n",
    "\n",
    "def evaluate_rule_based_methods(model, kf, X, y, thresh):\n",
    "    all_scores = dict()\n",
    "    for train_index, test_index in kf.split(X):\n",
    "        X_train, X_test = X.iloc[train_index], X.iloc[test_index]\n",
    "        y_train, y_test = y.iloc[train_index], y.iloc[test_index]\n",
    "        pred = model.predict(X_test.to_numpy(), thresh)\n",
    "        scores = evaluate_prediction(pred, y_test.to_numpy(), model_name = \"Exact Match\", figure_folder=figure_folder)\n",
    "        all_scores = append_dict(all_scores, scores)\n",
    "    return all_scores\n",
    "\n",
    "def evaluate_stat_based_methods(model, kf, X, y):\n",
    "    all_scores = dict()\n",
    "    for train_index, test_index in kf.split(X):\n",
    "        X_train, X_test = X.iloc[train_index], X.iloc[test_index]\n",
    "        y_train, y_test = y.iloc[train_index], y.iloc[test_index]\n",
    "        \n",
    "        mask = (X_train[\"SlaafNaamNieuw\"] > 0.6)\n",
    "        X_train = X_train[mask]\n",
    "        y_train = y_train[mask]\n",
    "        \n",
    "        model.fit(X_train, y_train)\n",
    "        pred = model.predict(X_test)\n",
    "        scores = evaluate_prediction(pred, y_test, model_name = \"Exact Match\", figure_folder=figure_folder)\n",
    "        all_scores = append_dict(all_scores, scores)\n",
    "    return all_scores"
   ]
  },
  {
   "cell_type": "code",
   "execution_count": 4,
   "metadata": {},
   "outputs": [],
   "source": [
    "# scoring = ['precision', 'recall', 'f1']\n",
    "scoring = ['accuracy']"
   ]
  },
  {
   "cell_type": "markdown",
   "metadata": {},
   "source": [
    "# Loading data\n",
    "Set paths to files:"
   ]
  },
  {
   "cell_type": "code",
   "execution_count": 5,
   "metadata": {},
   "outputs": [],
   "source": [
    "data_folder = \"../../Data\"\n",
    "structured_data_folder = data_folder + \"/structured_data\"\n",
    "text_path = data_folder + \"/text\"\n",
    "data_path = structured_data_folder + \"/test.csv\"\n",
    "dist_folder = structured_data_folder + \"/Distances\"\n",
    "figure_folder = \"../Figures/Results/Embeddings\"\n",
    "model_folder = \"../Models/Embeddings\"\n",
    "matches = pd.read_csv(structured_data_folder + \"/Matches/Bas.csv\", index_col=0)\n",
    "figure_folder = \"../Figures/Results/Classic/\"\n",
    "error_folder = structured_data_folder + \"/Errors/\""
   ]
  },
  {
   "cell_type": "markdown",
   "metadata": {},
   "source": [
    "Load transaction and permission datasets:"
   ]
  },
  {
   "cell_type": "code",
   "execution_count": 6,
   "metadata": {},
   "outputs": [
    {
     "name": "stderr",
     "output_type": "stream",
     "text": [
      "E:\\UvA\\Scriptie\\Thesis_code\\Annotation\\Annotation_helper.py:33: FutureWarning: The default value of regex will change from True to False in a future version.\n",
      "  col = col.str.replace('[^a-zA-Z ]', '')\n"
     ]
    }
   ],
   "source": [
    "transactions = load_transactions(structured_data_folder + \"\\VOC Cochin Slave Transactions 1706-1801 - IISH - Database - 2018 - v1.csv\")\n",
    "permissions = load_permissions(structured_data_folder + \"\\VOC Cochin Slave Transport Permissions 1770-1795 - IISH - Database - 2018 - v1.csv\")"
   ]
  },
  {
   "cell_type": "markdown",
   "metadata": {},
   "source": [
    "Load distances between datasets from multiple files and merge them into one dataframe:"
   ]
  },
  {
   "cell_type": "code",
   "execution_count": 7,
   "metadata": {},
   "outputs": [],
   "source": [
    "distances = pd.read_csv(dist_folder + \"/distances_0.csv\", dtype={'permission_indx': 'uint16', 'transaction_indx': 'uint16', 'SlaafGender': 'bool', 'SlaafNaamNieuw': 'float16', 'BezitterGender': 'bool', 'BezitterVoornaam': 'float16', 'BezitterBeroep': 'float16', 'BezitterAchternaam': 'float16'})\n",
    "for i in range(1, 99):\n",
    "    df2 = pd.read_csv(f\"{dist_folder}/distances_{i}.csv\", dtype={'permission_indx': 'uint16', 'transaction_indx': 'uint16', 'SlaafGender': 'bool', 'SlaafNaamNieuw': 'float16', 'BezitterGender': 'bool', 'BezitterVoornaam': 'float16', 'BezitterBeroep': 'float16', 'BezitterAchternaam': 'float16'})\n",
    "    distances = pd.concat([distances, df2])\n",
    "distances.reset_index(inplace=True)"
   ]
  },
  {
   "cell_type": "markdown",
   "metadata": {},
   "source": [
    "Split the data into a test and training set:"
   ]
  },
  {
   "cell_type": "code",
   "execution_count": 8,
   "metadata": {},
   "outputs": [
    {
     "name": "stderr",
     "output_type": "stream",
     "text": [
      "<ipython-input-8-f1a6ee68ef38>:2: SettingWithCopyWarning: \n",
      "A value is trying to be set on a copy of a slice from a DataFrame.\n",
      "Try using .loc[row_indexer,col_indexer] = value instead\n",
      "\n",
      "See the caveats in the documentation: https://pandas.pydata.org/pandas-docs/stable/user_guide/indexing.html#returning-a-view-versus-a-copy\n",
      "  all_data[\"Match\"] = 0\n",
      "C:\\Users\\basvd\\anaconda3\\lib\\site-packages\\pandas\\core\\indexing.py:1817: SettingWithCopyWarning: \n",
      "A value is trying to be set on a copy of a slice from a DataFrame.\n",
      "Try using .loc[row_indexer,col_indexer] = value instead\n",
      "\n",
      "See the caveats in the documentation: https://pandas.pydata.org/pandas-docs/stable/user_guide/indexing.html#returning-a-view-versus-a-copy\n",
      "  self._setitem_single_column(loc, value, pi)\n"
     ]
    }
   ],
   "source": [
    "all_data = distances[distances['permission_indx'].isin(matches[\"permission_indx\"].unique())]\n",
    "all_data[\"Match\"] = 0\n",
    "for i, match in matches.iterrows():\n",
    "    if match[\"transaction_indx\"] != \"None\":\n",
    "        indx = distances.query(f\"permission_indx == {match['permission_indx']} & transaction_indx == {match['transaction_indx']}\").index\n",
    "        all_data.loc[indx, \"Match\"] = 1\n",
    "data = all_data.iloc[:, :-1]\n",
    "y = all_data.iloc[:, -1]"
   ]
  },
  {
   "cell_type": "code",
   "execution_count": 9,
   "metadata": {},
   "outputs": [],
   "source": [
    "Classifiers = dict()\n",
    "Scores = dict()"
   ]
  },
  {
   "cell_type": "markdown",
   "metadata": {},
   "source": [
    "# Blocking\n",
    "Perform blocking to reduce the size of the data"
   ]
  },
  {
   "cell_type": "code",
   "execution_count": 10,
   "metadata": {},
   "outputs": [
    {
     "name": "stdout",
     "output_type": "stream",
     "text": [
      "4981284 rows before blocking\n",
      "79964 rows after blocking\n"
     ]
    }
   ],
   "source": [
    "print(f\"{data.shape[0]} rows before blocking\")\n",
    "mask = (data[\"SlaafNaamNieuw\"] > 0.6)\n",
    "X = data[mask]\n",
    "y = y[mask]\n",
    "print(f\"{X.shape[0]} rows after blocking\")"
   ]
  },
  {
   "cell_type": "code",
   "execution_count": 11,
   "metadata": {},
   "outputs": [],
   "source": [
    "X_df = X\n",
    "X = X.iloc[:, 3:]"
   ]
  },
  {
   "cell_type": "code",
   "execution_count": 12,
   "metadata": {},
   "outputs": [],
   "source": [
    "# X = X.iloc[:,3:].to_numpy().astype(float)\n",
    "# y = y.to_numpy().astype(float)"
   ]
  },
  {
   "cell_type": "code",
   "execution_count": 13,
   "metadata": {},
   "outputs": [],
   "source": [
    "# X = data"
   ]
  },
  {
   "cell_type": "code",
   "execution_count": 14,
   "metadata": {},
   "outputs": [],
   "source": [
    "kf = KFold(n_splits=5, random_state=42, shuffle=True)"
   ]
  },
  {
   "cell_type": "markdown",
   "metadata": {},
   "source": [
    "# Rule based"
   ]
  },
  {
   "cell_type": "code",
   "execution_count": 15,
   "metadata": {},
   "outputs": [],
   "source": [
    "class Rule_based_classifier():\n",
    "    def __init__(self, alg):\n",
    "        self.alg = alg\n",
    "        \n",
    "    def predict_proba(self, X_test):\n",
    "        pred = self.alg(X_test)\n",
    "        return pred\n",
    "    \n",
    "    def predict(self, X_test, thresh):\n",
    "        pred = self.alg(X_test)\n",
    "        return (pred >= thresh).astype(float)"
   ]
  },
  {
   "cell_type": "markdown",
   "metadata": {},
   "source": [
    "## Exact Match"
   ]
  },
  {
   "cell_type": "code",
   "execution_count": 16,
   "metadata": {},
   "outputs": [],
   "source": [
    "def exact_match(X_test):\n",
    "    pred = []\n",
    "    for x in X_test:\n",
    "        pred.append((x == 1.).sum())\n",
    "    return np.array(pred)/X_test.shape[1]"
   ]
  },
  {
   "cell_type": "code",
   "execution_count": 17,
   "metadata": {},
   "outputs": [],
   "source": [
    "Classifiers[\"Exact Match\"] = Rule_based_classifier(exact_match)\n",
    "s = evaluate_rule_based_methods(Classifiers[\"Exact Match\"], kf, X, y, 0.6)\n",
    "Scores[\"Exact Match\"] = avg_dict_values(s)"
   ]
  },
  {
   "cell_type": "markdown",
   "metadata": {},
   "source": [
    "## Fuzzy Match"
   ]
  },
  {
   "cell_type": "code",
   "execution_count": 18,
   "metadata": {},
   "outputs": [],
   "source": [
    "def fuzzy_match(X_test):\n",
    "    pred = []\n",
    "    for x in X_test:\n",
    "        pred.append((x > 0.8).sum())\n",
    "    return np.array(pred)/X_test.shape[1]"
   ]
  },
  {
   "cell_type": "code",
   "execution_count": 19,
   "metadata": {},
   "outputs": [],
   "source": [
    "Classifiers[\"Fuzzy Match\"] = Rule_based_classifier(fuzzy_match)\n",
    "s = evaluate_rule_based_methods(Classifiers[\"Fuzzy Match\"], kf, X, y, 0.6)\n",
    "Scores[\"Fuzzy Match\"] = avg_dict_values(s)"
   ]
  },
  {
   "cell_type": "code",
   "execution_count": null,
   "metadata": {},
   "outputs": [],
   "source": []
  },
  {
   "cell_type": "markdown",
   "metadata": {},
   "source": [
    "# Statisitcal methods"
   ]
  },
  {
   "cell_type": "markdown",
   "metadata": {},
   "source": [
    "# K nearest neighbors"
   ]
  },
  {
   "cell_type": "code",
   "execution_count": 20,
   "metadata": {
    "scrolled": true
   },
   "outputs": [],
   "source": [
    "model = make_pipeline(StandardScaler(), KNeighborsClassifier(n_neighbors=2))\n",
    "s = evaluate_stat_based_methods(model, kf, X, y)\n",
    "Scores[\"KNeigb ors classifier\"] = avg_dict_values(s)"
   ]
  },
  {
   "cell_type": "markdown",
   "metadata": {},
   "source": [
    "## Logistic Regression"
   ]
  },
  {
   "cell_type": "code",
   "execution_count": 21,
   "metadata": {},
   "outputs": [],
   "source": [
    "model = make_pipeline(StandardScaler(), LogisticRegressionCV(scoring='f1', penalty='l2', max_iter=200))\n",
    "s = evaluate_stat_based_methods(model, kf, X, y)\n",
    "Scores[\"Logistic Regression\"] = avg_dict_values(s)"
   ]
  },
  {
   "cell_type": "code",
   "execution_count": null,
   "metadata": {},
   "outputs": [],
   "source": []
  },
  {
   "cell_type": "markdown",
   "metadata": {},
   "source": [
    "## ADAboost"
   ]
  },
  {
   "cell_type": "code",
   "execution_count": 22,
   "metadata": {},
   "outputs": [],
   "source": [
    "model = make_pipeline(StandardScaler(),AdaBoostClassifier(n_estimators=30, random_state=0))\n",
    "s = evaluate_stat_based_methods(model, kf, X, y)\n",
    "Scores[\"ADAboost\"] = avg_dict_values(s)"
   ]
  },
  {
   "cell_type": "markdown",
   "metadata": {},
   "source": [
    "## Naive Bayes"
   ]
  },
  {
   "cell_type": "code",
   "execution_count": 23,
   "metadata": {},
   "outputs": [
    {
     "name": "stderr",
     "output_type": "stream",
     "text": [
      "C:\\Users\\basvd\\anaconda3\\lib\\site-packages\\sklearn\\metrics\\_classification.py:1308: UndefinedMetricWarning: Precision is ill-defined and being set to 0.0 due to no predicted samples. Use `zero_division` parameter to control this behavior.\n",
      "  _warn_prf(average, modifier, msg_start, len(result))\n",
      "C:\\Users\\basvd\\anaconda3\\lib\\site-packages\\sklearn\\metrics\\_classification.py:1308: UndefinedMetricWarning: Precision is ill-defined and being set to 0.0 due to no predicted samples. Use `zero_division` parameter to control this behavior.\n",
      "  _warn_prf(average, modifier, msg_start, len(result))\n",
      "C:\\Users\\basvd\\anaconda3\\lib\\site-packages\\sklearn\\metrics\\_classification.py:1308: UndefinedMetricWarning: Precision is ill-defined and being set to 0.0 due to no predicted samples. Use `zero_division` parameter to control this behavior.\n",
      "  _warn_prf(average, modifier, msg_start, len(result))\n",
      "C:\\Users\\basvd\\anaconda3\\lib\\site-packages\\sklearn\\metrics\\_classification.py:1308: UndefinedMetricWarning: Precision is ill-defined and being set to 0.0 due to no predicted samples. Use `zero_division` parameter to control this behavior.\n",
      "  _warn_prf(average, modifier, msg_start, len(result))\n",
      "C:\\Users\\basvd\\anaconda3\\lib\\site-packages\\sklearn\\metrics\\_classification.py:1308: UndefinedMetricWarning: Precision is ill-defined and being set to 0.0 due to no predicted samples. Use `zero_division` parameter to control this behavior.\n",
      "  _warn_prf(average, modifier, msg_start, len(result))\n"
     ]
    }
   ],
   "source": [
    "model = make_pipeline(Normalizer(), MultinomialNB())\n",
    "s = evaluate_stat_based_methods(model, kf, X, y)\n",
    "Scores[\"Naive Bayes\"] = avg_dict_values(s)"
   ]
  },
  {
   "cell_type": "markdown",
   "metadata": {},
   "source": [
    "## Linear Support Vector Classifier"
   ]
  },
  {
   "cell_type": "code",
   "execution_count": 24,
   "metadata": {},
   "outputs": [
    {
     "name": "stderr",
     "output_type": "stream",
     "text": [
      "C:\\Users\\basvd\\anaconda3\\lib\\site-packages\\sklearn\\svm\\_base.py:1206: ConvergenceWarning: Liblinear failed to converge, increase the number of iterations.\n",
      "  warnings.warn(\n",
      "C:\\Users\\basvd\\anaconda3\\lib\\site-packages\\sklearn\\svm\\_base.py:1206: ConvergenceWarning: Liblinear failed to converge, increase the number of iterations.\n",
      "  warnings.warn(\n",
      "C:\\Users\\basvd\\anaconda3\\lib\\site-packages\\sklearn\\svm\\_base.py:1206: ConvergenceWarning: Liblinear failed to converge, increase the number of iterations.\n",
      "  warnings.warn(\n",
      "C:\\Users\\basvd\\anaconda3\\lib\\site-packages\\sklearn\\svm\\_base.py:1206: ConvergenceWarning: Liblinear failed to converge, increase the number of iterations.\n",
      "  warnings.warn(\n",
      "C:\\Users\\basvd\\anaconda3\\lib\\site-packages\\sklearn\\svm\\_base.py:1206: ConvergenceWarning: Liblinear failed to converge, increase the number of iterations.\n",
      "  warnings.warn(\n"
     ]
    }
   ],
   "source": [
    "model = make_pipeline(StandardScaler(), LinearSVC(random_state=0, max_iter=2000))\n",
    "s = evaluate_stat_based_methods(model, kf, X, y)\n",
    "Scores[\"Linear SVC\"] = avg_dict_values(s)"
   ]
  },
  {
   "cell_type": "markdown",
   "metadata": {},
   "source": [
    "## Neural Network"
   ]
  },
  {
   "cell_type": "code",
   "execution_count": 25,
   "metadata": {},
   "outputs": [],
   "source": [
    "model = make_pipeline(StandardScaler(), MLPClassifier(activation='relu', solver='adam', alpha=1e-5, hidden_layer_sizes=(100, 100), learning_rate='adaptive', random_state=1, verbose=False))\n",
    "s = evaluate_stat_based_methods(model, kf, X, y)\n",
    "Scores[\"Neural network\"] = avg_dict_values(s)"
   ]
  },
  {
   "cell_type": "code",
   "execution_count": null,
   "metadata": {},
   "outputs": [],
   "source": []
  },
  {
   "cell_type": "markdown",
   "metadata": {},
   "source": [
    "# Results table"
   ]
  },
  {
   "cell_type": "code",
   "execution_count": 26,
   "metadata": {},
   "outputs": [
    {
     "data": {
      "text/html": [
       "<div>\n",
       "<style scoped>\n",
       "    .dataframe tbody tr th:only-of-type {\n",
       "        vertical-align: middle;\n",
       "    }\n",
       "\n",
       "    .dataframe tbody tr th {\n",
       "        vertical-align: top;\n",
       "    }\n",
       "\n",
       "    .dataframe thead th {\n",
       "        text-align: right;\n",
       "    }\n",
       "</style>\n",
       "<table border=\"1\" class=\"dataframe\">\n",
       "  <thead>\n",
       "    <tr style=\"text-align: right;\">\n",
       "      <th></th>\n",
       "      <th>recall score:</th>\n",
       "      <th>precision score:</th>\n",
       "      <th>f1 score:</th>\n",
       "    </tr>\n",
       "  </thead>\n",
       "  <tbody>\n",
       "    <tr>\n",
       "      <th>Exact Match</th>\n",
       "      <td>0.099174</td>\n",
       "      <td>0.866667</td>\n",
       "      <td>0.173939</td>\n",
       "    </tr>\n",
       "    <tr>\n",
       "      <th>Fuzzy Match</th>\n",
       "      <td>0.319202</td>\n",
       "      <td>0.842857</td>\n",
       "      <td>0.458042</td>\n",
       "    </tr>\n",
       "    <tr>\n",
       "      <th>KNeigb ors classifier</th>\n",
       "      <td>0.825043</td>\n",
       "      <td>0.977500</td>\n",
       "      <td>0.892178</td>\n",
       "    </tr>\n",
       "    <tr>\n",
       "      <th>Logistic Regression</th>\n",
       "      <td>0.824872</td>\n",
       "      <td>0.857283</td>\n",
       "      <td>0.839853</td>\n",
       "    </tr>\n",
       "    <tr>\n",
       "      <th>ADAboost</th>\n",
       "      <td>0.844872</td>\n",
       "      <td>0.889455</td>\n",
       "      <td>0.863994</td>\n",
       "    </tr>\n",
       "    <tr>\n",
       "      <th>Naive Bayes</th>\n",
       "      <td>0.000000</td>\n",
       "      <td>0.000000</td>\n",
       "      <td>0.000000</td>\n",
       "    </tr>\n",
       "    <tr>\n",
       "      <th>Linear SVC</th>\n",
       "      <td>0.844872</td>\n",
       "      <td>0.862367</td>\n",
       "      <td>0.852078</td>\n",
       "    </tr>\n",
       "    <tr>\n",
       "      <th>Neural network</th>\n",
       "      <td>0.857208</td>\n",
       "      <td>0.917778</td>\n",
       "      <td>0.880948</td>\n",
       "    </tr>\n",
       "  </tbody>\n",
       "</table>\n",
       "</div>"
      ],
      "text/plain": [
       "                       recall score:   precision score:   f1 score: \n",
       "Exact Match                  0.099174           0.866667    0.173939\n",
       "Fuzzy Match                  0.319202           0.842857    0.458042\n",
       "KNeigb ors classifier        0.825043           0.977500    0.892178\n",
       "Logistic Regression          0.824872           0.857283    0.839853\n",
       "ADAboost                     0.844872           0.889455    0.863994\n",
       "Naive Bayes                  0.000000           0.000000    0.000000\n",
       "Linear SVC                   0.844872           0.862367    0.852078\n",
       "Neural network               0.857208           0.917778    0.880948"
      ]
     },
     "execution_count": 26,
     "metadata": {},
     "output_type": "execute_result"
    }
   ],
   "source": [
    "s = []\n",
    "for c in Scores:\n",
    "    s.append(pd.Series(Scores[c]))\n",
    "results = pd.concat(s, axis=1)\n",
    "results.columns = Scores.keys()\n",
    "results.transpose()"
   ]
  },
  {
   "cell_type": "code",
   "execution_count": 27,
   "metadata": {},
   "outputs": [
    {
     "data": {
      "text/plain": [
       "Pipeline(steps=[('standardscaler', StandardScaler()),\n",
       "                ('logisticregressioncv',\n",
       "                 LogisticRegressionCV(max_iter=200, scoring='f1'))])"
      ]
     },
     "execution_count": 27,
     "metadata": {},
     "output_type": "execute_result"
    }
   ],
   "source": [
    "model = make_pipeline(StandardScaler(), LogisticRegressionCV(scoring='f1', penalty='l2', max_iter=200))\n",
    "\n",
    "model.fit(X, y)"
   ]
  },
  {
   "cell_type": "code",
   "execution_count": 28,
   "metadata": {},
   "outputs": [
    {
     "data": {
      "image/png": "[encoded data removed]",
      "text/plain": [
       "<Figure size 360x360 with 1 Axes>"
      ]
     },
     "metadata": {},
     "output_type": "display_data"
    }
   ],
   "source": [
    "x = [i for i in range(0,len(X.columns))]\n",
    "plt.rcParams[\"figure.figsize\"] = (5,5)\n",
    "plt.bar(X.columns, model[1].coef_[0])\n",
    "plt.xticks(rotation = 90)\n",
    "plt.xlabel(\"Feature name\")\n",
    "plt.ylabel(\"Coef value\")\n",
    "plt.tight_layout()\n",
    "plt.savefig(figure_folder + \"Coefs.png\")"
   ]
  },
  {
   "cell_type": "markdown",
   "metadata": {},
   "source": [
    "# Error Analysis"
   ]
  },
  {
   "cell_type": "code",
   "execution_count": 29,
   "metadata": {},
   "outputs": [],
   "source": [
    "def evaluate_stat_based_methods(model, kf, X, y):\n",
    "    all_scores = dict()\n",
    "    for train_index, test_index in kf.split(X):\n",
    "        X_train, X_test = X.iloc[train_index], X.iloc[test_index]\n",
    "        y_train, y_test = y.iloc[train_index], y.iloc[test_index]\n",
    "        model.fit(X_train, y_train)\n",
    "        pred = model.predict(X_test)\n",
    "        scores = evaluate_prediction(pred, y_test, model_name = \"Exact Match\", figure_folder=figure_folder)\n",
    "        all_scores = append_dict(all_scores, scores)\n",
    "    return all_scores"
   ]
  },
  {
   "cell_type": "code",
   "execution_count": 34,
   "metadata": {},
   "outputs": [],
   "source": [
    "def add_prefix_to_columns(df, prefix):\n",
    "    # Adds a given prefix to all column names\n",
    "    cols = df.columns\n",
    "    df.columns = [prefix + c for c in cols]\n",
    "    return df\n",
    "\n",
    "def get_mistakes(y_pred, y_true, X_df, t, p):\n",
    "    # Filters out errors in predictions and saves them as csv files\n",
    "    p.set_index(\"Entry-ID\")\n",
    "    mist_indx = np.invert(y_true == y_pred)\n",
    "    mist_dist = X_df[mist_indx]\n",
    "#     print(mist_dist.shape)\n",
    "    mist_p = p.loc[mist_dist['permission_indx'], :]\n",
    "    mist_t = t.loc[mist_dist['transaction_indx'], :]\n",
    "    vt = add_prefix_to_columns(mist_t, \"transaction_\")\n",
    "    vp = add_prefix_to_columns(mist_p, 'permission_')\n",
    "    vals = np.concatenate((vt, vp), axis=1)\n",
    "    mist_data = pd.DataFrame(data=vals, columns=list(vt) + list(vp), index=X_df.index[mist_indx])\n",
    "#     print(mist_data.shape)\n",
    "#     print(y_test.shape)\n",
    "#     print(y_test[mist_data.index])\n",
    "    mist_data[\"Match\"] = y_test\n",
    "    return mist_data"
   ]
  },
  {
   "cell_type": "code",
   "execution_count": 31,
   "metadata": {},
   "outputs": [],
   "source": [
    "model = make_pipeline(StandardScaler(), LogisticRegressionCV(scoring='f1', penalty='l2', max_iter=200))"
   ]
  },
  {
   "cell_type": "code",
   "execution_count": 35,
   "metadata": {},
   "outputs": [],
   "source": [
    "mistakes = []\n",
    "for train_index, test_index in kf.split(X):\n",
    "    X_train, X_test = X.iloc[train_index], X.iloc[test_index]\n",
    "    y_train, y_test = y.iloc[train_index], y.iloc[test_index]\n",
    "    X_test_df = X_df.iloc[test_index]\n",
    "    model.fit(X_train, y_train)\n",
    "    pred = model.predict(X_test)\n",
    "    mistakes.append(get_mistakes(pred, y_test, X_test_df, transactions, permissions))"
   ]
  },
  {
   "cell_type": "code",
   "execution_count": 36,
   "metadata": {},
   "outputs": [
    {
     "name": "stderr",
     "output_type": "stream",
     "text": [
      "<ipython-input-36-03c874438cae>:1: SettingWithCopyWarning: \n",
      "A value is trying to be set on a copy of a slice from a DataFrame.\n",
      "Try using .loc[row_indexer,col_indexer] = value instead\n",
      "\n",
      "See the caveats in the documentation: https://pandas.pydata.org/pandas-docs/stable/user_guide/indexing.html#returning-a-view-versus-a-copy\n",
      "  X_test[\"Match\"] = y_test\n"
     ]
    }
   ],
   "source": [
    "X_test[\"Match\"] = y_test\n",
    "mist_data = pd.concat(mistakes)\n",
    "mist_data[mist_data[\"Match\"] == 0].to_csv(error_folder + \"False_Positives.csv\")\n",
    "mist_data[mist_data[\"Match\"] == 1].to_csv(error_folder + \"False_Negatives.csv\")"
   ]
  },
  {
   "cell_type": "code",
   "execution_count": null,
   "metadata": {},
   "outputs": [],
   "source": []
  }
 ],
 "metadata": {
  "kernelspec": {
   "display_name": "Python 3",
   "language": "python",
   "name": "python3"
  },
  "language_info": {
   "codemirror_mode": {
    "name": "ipython",
    "version": 3
   },
   "file_extension": ".py",
   "mimetype": "text/x-python",
   "name": "python",
   "nbconvert_exporter": "python",
   "pygments_lexer": "ipython3",
   "version": "3.8.3"
  }
 },
 "nbformat": 4,
 "nbformat_minor": 4
}
