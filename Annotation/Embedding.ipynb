{
 "cells": [
  {
   "cell_type": "code",
   "execution_count": 1,
   "metadata": {},
   "outputs": [],
   "source": [
    "from Annotation_helper import *\n",
    "\n",
    "import os\n",
    "import re  # For preprocessing\n",
    "import time\n",
    "from gensim.models import Word2Vec\n",
    "from gensim.models import FastText\n",
    "from gensim.utils import simple_preprocess\n",
    "import numpy as np\n",
    "import matplotlib.pyplot as plt\n",
    "\n",
    "from sklearn.model_selection import train_test_split\n",
    "from sklearn.metrics import accuracy_score\n",
    "from sklearn.metrics import recall_score\n",
    "from sklearn.metrics import f1_score\n",
    "from sklearn.metrics import precision_score\n",
    "from sklearn.metrics import balanced_accuracy_score\n",
    "from sklearn.metrics import confusion_matrix\n",
    "from sklearn.metrics import confusion_matrix, ConfusionMatrixDisplay\n",
    "from sklearn.metrics import PrecisionRecallDisplay\n",
    "from sklearn.metrics import classification_report, confusion_matrix  \n",
    "from sklearn.pipeline import make_pipeline\n",
    "\n",
    "from sklearn.preprocessing import StandardScaler\n",
    "from sklearn.preprocessing import Normalizer"
   ]
  },
  {
   "cell_type": "code",
   "execution_count": 2,
   "metadata": {},
   "outputs": [],
   "source": [
    "# roc curve and auc on an imbalanced dataset\n",
    "from sklearn.datasets import make_classification\n",
    "from sklearn.linear_model import LogisticRegression\n",
    "from sklearn.model_selection import train_test_split\n",
    "from sklearn.metrics import roc_curve\n",
    "from sklearn.metrics import roc_auc_score\n",
    "from sklearn.linear_model import LogisticRegressionCV\n",
    "from sklearn.neural_network import MLPClassifier\n",
    "from sklearn.neighbors import KNeighborsClassifier"
   ]
  },
  {
   "cell_type": "code",
   "execution_count": 3,
   "metadata": {},
   "outputs": [],
   "source": [
    "from sklearn.linear_model import LogisticRegressionCV\n",
    "from sklearn.neural_network import MLPClassifier\n",
    "from sklearn.neighbors import KNeighborsClassifier"
   ]
  },
  {
   "cell_type": "code",
   "execution_count": 8,
   "metadata": {},
   "outputs": [],
   "source": [
    "data_folder = \"../../Data\"\n",
    "structured_data_folder = data_folder + \"/structured_data\"\n",
    "text_path = data_folder + \"/text\"\n",
    "data_path = structured_data_folder + \"/test.csv\"\n",
    "dist_folder = structured_data_folder + \"/filtered_Distances\"\n",
    "figure_folder = \"../Figures/Results/Embeddings\"\n",
    "model_folder = \"../Models/Embeddings\""
   ]
  },
  {
   "cell_type": "code",
   "execution_count": 14,
   "metadata": {},
   "outputs": [],
   "source": [
    "transactions = load_transactions(structured_data_folder + \"\\VOC Cochin Slave Transactions 1706-1801 - IISH - Database - 2018 - v1.csv\")\n",
    "permissions = load_permissions(structured_data_folder + \"\\VOC Cochin Slave Transport Permissions 1770-1795 - IISH - Database - 2018 - v1.csv\")\n",
    "matches = pd.read_csv(structured_data_folder + \"/Matches/Bas3.csv\", index_col=0)\n",
    "possible_matches = pd.read_csv(structured_data_folder + \"/blocked_possible_matches.csv\", index_col=0)\n",
    "possible_matches[\"total\"] = possible_matches[\"transaction_indx\"].astype(str) + \"_\" + possible_matches[\"permission_indx\"].astype(str)\n",
    "perms = permissions.iloc[:, 4:-1]\n",
    "trans = transactions.iloc[:, 2:-1]"
   ]
  },
  {
   "cell_type": "code",
   "execution_count": 15,
   "metadata": {},
   "outputs": [],
   "source": [
    "class text_loader:\n",
    "    def __init__(self, file_names, max_files=None):\n",
    "        self.file_names = file_names\n",
    "        self.max_files = max_files\n",
    "    \n",
    "    def __iter__(self):\n",
    "        self.file_n = 0\n",
    "        self.row_n = 0\n",
    "        self.lines = open(self.file_names[self.file_n], \"r\").read().split('\\n')\n",
    "        return self\n",
    "\n",
    "    def __next__(self):\n",
    "        if self.max_files:\n",
    "            if self.file_n >= self.max_files:\n",
    "                raise StopIteration\n",
    "        if self.row_n >= len(self.lines):\n",
    "            self.file_n += 1\n",
    "            self.row_n = 0\n",
    "            self.lines = open(self.file_names[self.file_n], \"r\").read().split('\\n')\n",
    "        if self.file_n <= len(self.file_names):\n",
    "            if self.lines != \"\":\n",
    "                self.row_n += 1\n",
    "                res = simple_preprocess(str(self.lines[self.row_n - 1]))\n",
    "                if len(res) > 4:\n",
    "                    return res\n",
    "                else:\n",
    "                    return ['']\n",
    "                    return next(self)\n",
    "            else:\n",
    "                self.row_n += 1\n",
    "                return ['']\n",
    "                return next(self)\n",
    "\n",
    "def embed_dataframe(df, model):\n",
    "    text = df.astype(str).agg(' '.join, axis=1)\n",
    "    return pd.DataFrame(data = model.wv[text], index=df.index)\n",
    "            \n",
    "def evaluate_prediction(pred, y_true):\n",
    "    cm = confusion_matrix(y_true, pred)\n",
    "    disp = ConfusionMatrixDisplay(confusion_matrix=cm)\n",
    "    disp.plot()\n",
    "    plt.show()\n",
    "    print(\"recall score: \", recall_score(y_true, pred))\n",
    "    print(\"precision score: \", precision_score(y_true, pred))\n",
    "    print(\"f1 score: \", f1_score(y_true, pred))"
   ]
  },
  {
   "cell_type": "code",
   "execution_count": 18,
   "metadata": {},
   "outputs": [],
   "source": [
    "def load_or_train_fasttext(loc, force_new_model=False):\n",
    "    try:\n",
    "        if force_new_model:\n",
    "            raise None\n",
    "        model = FastText.load(loc)\n",
    "        print(\"Loaded model\")\n",
    "    except:\n",
    "        print(\"Generating model\")\n",
    "        allFiles = []\n",
    "        for path, subdirs, files in os.walk(text_path):\n",
    "            for name in files:\n",
    "                allFiles.append(os.path.join(path, name))\n",
    "        tl = text_loader(allFiles, max_files = 10000)\n",
    "        t = iter(tl)\n",
    "        model = FastText(sentences=t, size=10, window=5, min_count=1, workers=32)\n",
    "        model.save(loc)\n",
    "    return model"
   ]
  },
  {
   "cell_type": "code",
   "execution_count": 19,
   "metadata": {},
   "outputs": [
    {
     "name": "stdout",
     "output_type": "stream",
     "text": [
      "Loaded model\n",
      "134210\n"
     ]
    }
   ],
   "source": [
    "force_new_model = False\n",
    "model = load_or_train_fasttext(model_folder + \"/fasttext4.model\", force_new_model=False)\n",
    "print(len(model.wv.vocab))"
   ]
  },
  {
   "cell_type": "code",
   "execution_count": 20,
   "metadata": {},
   "outputs": [],
   "source": [
    "et = embed_dataframe(trans, model).astype('float16')\n",
    "ep = embed_dataframe(perms, model).astype('float16')\n",
    "et[\"indx\"] = et.index\n",
    "ep[\"indx\"] = ep.index"
   ]
  },
  {
   "cell_type": "code",
   "execution_count": 21,
   "metadata": {},
   "outputs": [],
   "source": [
    "allFiles = None\n",
    "transactions = None\n",
    "permissions = None\n",
    "trans = None\n",
    "perms = None"
   ]
  },
  {
   "cell_type": "code",
   "execution_count": 28,
   "metadata": {},
   "outputs": [],
   "source": [
    "def generate_distances(data_path, force_new_dist=False):\n",
    "    if force_new_dist:\n",
    "        raise None\n",
    "    distances = pd.read_csv(data_path, index_col=0)\n",
    "    print(\"Loaded model\")"
   ]
  },
  {
   "cell_type": "code",
   "execution_count": 30,
   "metadata": {},
   "outputs": [],
   "source": [
    "def generate_distances(data_path, force_new_dist=False):\n",
    "    try:\n",
    "        if force_new_dist:\n",
    "            raise None\n",
    "        distances = pd.read_csv(data_path, index_col=0)\n",
    "        print(\"Loaded model\")\n",
    "    except:\n",
    "        print(\"Generating dataset\")\n",
    "        n_batches = 20\n",
    "        et_indexes = np.linspace(0, et.shape[0], n_batches).astype(int)\n",
    "        ep_indexes = np.linspace(0, ep.shape[0], n_batches).astype(int)\n",
    "\n",
    "        batch_results = []\n",
    "        for i in range(1, n_batches):\n",
    "            clear_output(wait=True)\n",
    "            print(f\"[{i}/{n_batches}]\")\n",
    "            ep_slice = ep.iloc[ep_indexes[i-1]:ep_indexes[i] + 1]\n",
    "            res = ep_slice.merge(et, how='cross',suffixes=('_permission', '_transaction'))\n",
    "            comb_index = res['indx_transaction'].astype(str) + \"_\" + res['indx_permission'].astype(str)\n",
    "            batch_results.append(res[comb_index.isin(possible_matches[\"total\"])])\n",
    "\n",
    "        distances = pd.concat(batch_results)\n",
    "        batch_results = None\n",
    "        distances.reset_index(inplace=True, drop=True)\n",
    "        distances.to_csv(data_path)\n",
    "    return distances"
   ]
  },
  {
   "cell_type": "code",
   "execution_count": 31,
   "metadata": {},
   "outputs": [
    {
     "name": "stdout",
     "output_type": "stream",
     "text": [
      "Loaded model\n"
     ]
    }
   ],
   "source": [
    "distances = generate_distances(data_path, force_new_dist=False)"
   ]
  },
  {
   "cell_type": "code",
   "execution_count": null,
   "metadata": {},
   "outputs": [],
   "source": [
    "X = distances[distances['indx_permission'].isin(matches[\"permission_indx\"].unique())]\n",
    "X[\"Match\"] = 0\n",
    "for i, match in matches.iterrows():\n",
    "    if match[\"transaction_indx\"] != \"None\":\n",
    "        indx = distances.query(f\"indx_permission == {match['permission_indx']} & indx_transaction == {match['transaction_indx']}\").index\n",
    "        X.loc[indx, \"Match\"] = 1\n",
    "data = X.iloc[:, 3:-1]\n",
    "y = X.iloc[:, -1]\n",
    "X_train, X_test, y_train, y_test = train_test_split(data, y, test_size=0.3, random_state=42)"
   ]
  },
  {
   "cell_type": "code",
   "execution_count": null,
   "metadata": {},
   "outputs": [],
   "source": [
    "X_train = X_train.to_numpy().astype(float)\n",
    "y_train = y_train.to_numpy().astype(float)\n",
    "\n",
    "X_test = X_test.to_numpy().astype(float)\n",
    "y_test = y_test.to_numpy().astype(float)"
   ]
  },
  {
   "cell_type": "code",
   "execution_count": null,
   "metadata": {},
   "outputs": [],
   "source": [
    "est = make_pipeline(StandardScaler(), LogisticRegressionCV(scoring='f1'))\n",
    "LGClf = fit_and_test_classifier(est, X_train, X_test, y_train, y_test, model_name=\"Log_reg2\", figure_folder=figure_folder)\n",
    "\n",
    "Classifiers[\"Logistic Regression\"] = LGClf"
   ]
  },
  {
   "cell_type": "code",
   "execution_count": null,
   "metadata": {},
   "outputs": [],
   "source": [
    "KNNClf = fit_and_test_classifier(KNeighborsClassifier(n_neighbors=1), X_train, X_test, y_train, y_test, model_name=\"KNN\", figure_folder=figure_folder)\n",
    "\n",
    "Classifiers[\"KNeigbors classifier\"] = KNNClf"
   ]
  },
  {
   "cell_type": "markdown",
   "metadata": {},
   "source": [
    "## "
   ]
  },
  {
   "cell_type": "code",
   "execution_count": null,
   "metadata": {},
   "outputs": [],
   "source": [
    "est = make_pipeline(StandardScaler(), MLPClassifier(activation='relu', solver='adam', alpha=1e-5, hidden_layer_sizes=(30, 30), learning_rate='adaptive', random_state=1, verbose=False))\n",
    "\n",
    "NNClf = fit_and_test_classifier(est, X_train, X_test, y_train, y_test, model_name=\"MLP\", figure_folder=figure_folder)\n",
    "Classifiers[\"Neural network\"] = NNClf"
   ]
  },
  {
   "cell_type": "code",
   "execution_count": null,
   "metadata": {},
   "outputs": [],
   "source": [
    "for name in Classifiers:\n",
    "    model = Classifiers[name]\n",
    "#     print(\"name:\", name)\n",
    "    # predict probabilities\n",
    "    lr_probs = model.predict_proba(X_test)\n",
    "    # keep probabilities for the positive outcome only\n",
    "#     print(\"lr_probs\", lr_probs)\n",
    "    if type(lr_probs[0]) == np.ndarray:\n",
    "        lr_probs = lr_probs[:, 1]\n",
    "    # calculate scores\n",
    "    lr_auc = roc_auc_score(y_test, lr_probs)\n",
    "    # summarize scores\n",
    "    print(name + ': ROC AUC=%.3f' % (lr_auc))\n",
    "    # calculate roc curves\n",
    "    lr_fpr, lr_tpr, _ = roc_curve(y_test, lr_probs)\n",
    "    # plot the roc curve for the model\n",
    "    pyplot.plot(lr_fpr, lr_tpr, marker='.', label=name)\n",
    "    \n",
    "ns_probs = [0 for _ in range(len(y_test))]\n",
    "ns_auc = roc_auc_score(y_test, ns_probs)\n",
    "ns_fpr, ns_tpr, _ = roc_curve(y_test, ns_probs)\n",
    "pyplot.plot(ns_fpr, ns_tpr, linestyle='--', label='No Skill')\n",
    "print('No Skill: ROC AUC=%.3f' % (ns_auc))\n",
    "\n",
    "# axis labels\n",
    "pyplot.xlabel('False Positive Rate')\n",
    "pyplot.ylabel('True Positive Rate')\n",
    "# show the legend\n",
    "pyplot.legend()\n",
    "# show the plot\n",
    "pyplot.show()"
   ]
  }
 ],
 "metadata": {
  "kernelspec": {
   "display_name": "Python 3",
   "language": "python",
   "name": "python3"
  },
  "language_info": {
   "codemirror_mode": {
    "name": "ipython",
    "version": 3
   },
   "file_extension": ".py",
   "mimetype": "text/x-python",
   "name": "python",
   "nbconvert_exporter": "python",
   "pygments_lexer": "ipython3",
   "version": "3.8.3"
  }
 },
 "nbformat": 4,
 "nbformat_minor": 4
}
