{
 "cells": [
  {
   "cell_type": "code",
   "execution_count": 1,
   "metadata": {},
   "outputs": [],
   "source": [
    "from Annotation_helper import *"
   ]
  },
  {
   "cell_type": "code",
   "execution_count": 2,
   "metadata": {},
   "outputs": [],
   "source": [
    "transactions = load_transactions(\"../../Data/structured_data\\VOC Cochin Slave Transactions 1706-1801 - IISH - Database - 2018 - v1.csv\")\n",
    "permissions = load_permissions(\"../../Data/structured_data\\VOC Cochin Slave Transport Permissions 1770-1795 - IISH - Database - 2018 - v1.csv\")"
   ]
  },
  {
   "cell_type": "code",
   "execution_count": 3,
   "metadata": {},
   "outputs": [],
   "source": [
    "per_to_trans = {\n",
    "                \"BezitterVoornaam\" : (\"KoperVoornaam\", 2),\n",
    "                \"BezitterTussen\": (\"KoperTussen\", 1),\n",
    "                \"BezitterAchternaam\" : (\"KoperAchternaam\", 2),\n",
    "                \"SlaafNaamNieuw\" : (\"SlaafNaamNieuw\", 2),\n",
    "                \"BezitterBeroep\" : (\"KoperBeroep\", 1),\n",
    "                \"BezitterStatus\" : (\"KoperStatus\", 1),\n",
    "                \"SlaafGender\" : (\"SlaafGender\", 1),\n",
    "                \"Datum\" : (\"Datum\", 1),\n",
    "                \"BezitterWerkplek\" : (\"KoperWerkplek\", 1),\n",
    "                \"SlaafKaste\" : (\"SlaafKaste\", 1)\n",
    "}"
   ]
  },
  {
   "cell_type": "code",
   "execution_count": 9,
   "metadata": {},
   "outputs": [
    {
     "name": "stdout",
     "output_type": "stream",
     "text": [
      "\\begin{tabular}{lllllllllllllllllllllllllllll}\n",
      "\\toprule\n",
      "{} &       ID &       Datum & VerkoperVoornaam & VerkoperPatroniem & VerkoperTussen & VerkoperAchternaam & VerkoperGender & VerkoperHerkomst & VerkoperBeroep &    VerkoperWerkplek & VerkoperEtniciteit & VerkoperStatus & KoperVoornaam & KoperPatroniem & KoperTussen & KoperAchternaam & KoperGender & KoperHerkomst & KoperBeroep &     KoperWerkplek & KoperEtniciteit & KoperStatus & SlaafNaamNieuw & SlaafNaamOrigineel & SlaafTaalNaam & SlaafKaste & SlaafGender & SlaafLeeftijd \\\\\n",
      "\\midrule\n",
      "0 &  554-1-1 &  1753-01-02 &          Michiel &               NaN &            NaN &             Kruijs &              m &              NaN &      Metselaar &              Cochin &                NaN &            VOC &        Gillis &            NaN &         NaN &          Dabijn &           m &           NaN &    Capitain &  Schip Sloterdijk &             NaN &         VOC &       December &                NaN &           NaN &        NaN &           m &           NaN \\\\\n",
      "1 &  554-3-1 &  1753-01-02 &          Michiel &               NaN &            NaN &             Kruijs &              m &              NaN &      Metselaar &              Cochin &                NaN &            VOC &        Gillis &            NaN &         NaN &          Dabijn &           m &           NaN &    Capitain &  Schip Sloterdijk &             NaN &         VOC &       Neptunes &                NaN &           NaN &        NaN &           m &           NaN \\\\\n",
      "2 &  554-5-1 &  1753-01-11 &          Gillis  &               NaN &        van der &              Sloot &              m &              NaN &      Assistent &  Secretarij politie &                NaN &            VOC &        Gillis &            NaN &         NaN &          Dabijn &           m &           NaN &    Capitain &               NaN &             NaN &         VOC &         Dalima &                NaN &           NaN &        NaN &           v &           NaN \\\\\n",
      "3 &  554-6-1 &  1753-01-12 &          Michiel &               NaN &            NaN &              Kruys &              m &              NaN &      Metselaar &                 NaN &                NaN &            VOC &        Casper &            NaN &         NaN &       Hesseling &           m &           NaN &         NaN &  Schip Sloterdijk &             NaN &         VOC &      Februarij &                NaN &           NaN &        NaN &           m &           NaN \\\\\n",
      "4 &  554-8-1 &  1753-01-13 &            Jacob &               NaN &            NaN &               Smit &              m &              NaN &    Serg[eant]  &                 NaN &                NaN &            VOC &         Jacob &            NaN &         NaN &         Legrand &           m &           NaN &  Boekhouder &               NaN &             NaN &         VOC &        Fortuyn &                NaN &           NaN &        NaN &           m &           NaN \\\\\n",
      "\\bottomrule\n",
      "\\end{tabular}\n",
      "\n"
     ]
    }
   ],
   "source": [
    "print(transactions.iloc[:,1:-2].head().to_latex())"
   ]
  },
  {
   "cell_type": "code",
   "execution_count": 10,
   "metadata": {},
   "outputs": [
    {
     "name": "stdout",
     "output_type": "stream",
     "text": [
      "\\begin{tabular}{llrrrlllrlllllllllllllll}\n",
      "\\toprule\n",
      "{} &       ID &  Permissie &  Inventarisnummer &  Scan &  Plaats &       Datum & BezitterVoornaam &  BezitterPatroniem & BezitterTussen & BezitterAchternaam & BezitterGender & BezitterHerkomst & BezitterBeroep & BezitterWerkplek & BezitterEtniciteit & BezitterStatus & SlaafNaamNieuw & SlaafNaamOrigineel & SlaafKaste & SlaafGender & Opmerking &                                           Betaling & Door[Kantlijn] \\\\\n",
      "\\midrule\n",
      "0 &  897-1-1 &          1 &               897 &     1 &  Cochin &  1770-08-06 &              NaN &                NaN &            NaN &                NaN &            NaN &              NaN &            NaN &              NaN &                NaN &            NaN &         Tutius &                NaN &        NaN &           m &       NaN &  Mits betalende geregtigheijd aan den pagter en... &            NaN \\\\\n",
      "1 &  897-1-2 &          2 &               897 &     1 &  Cochin &  1770-08-06 &              NaN &                NaN &            NaN &                NaN &            NaN &              NaN &            NaN &              NaN &                NaN &            NaN &          Cu[…] &                NaN &        NaN &           m &       NaN &  Mits betalende geregtigheijd aan den pagter en... &            NaN \\\\\n",
      "2 &  897-1-3 &          3 &               897 &     1 &  Cochin &  1770-08-06 &              NaN &                NaN &            NaN &                NaN &            NaN &              NaN &            NaN &              NaN &                NaN &            NaN &         Barido &                NaN &        NaN &           m &       NaN &  Mits betalende geregtigheijd aan den pagter en... &            NaN \\\\\n",
      "3 &  897-1-4 &          4 &               897 &     1 &  Cochin &  1770-08-06 &              NaN &                NaN &            NaN &                NaN &            NaN &              NaN &            NaN &              NaN &                NaN &            NaN &          April &                NaN &        NaN &           m &       NaN &  Mits betalende geregtigheijd aan den pagter en... &            NaN \\\\\n",
      "4 &  897-1-5 &          5 &               897 &     1 &  Cochin &  1770-08-06 &              NaN &                NaN &            NaN &                NaN &            NaN &              NaN &            NaN &              NaN &                NaN &            NaN &           Joan &                NaN &        NaN &           m &       NaN &  Mits betalende geregtigheijd aan den pagter en... &            NaN \\\\\n",
      "\\bottomrule\n",
      "\\end{tabular}\n",
      "\n"
     ]
    }
   ],
   "source": [
    "print(permissions.head().to_latex())"
   ]
  },
  {
   "cell_type": "markdown",
   "metadata": {},
   "source": [
    "# Translation table"
   ]
  },
  {
   "cell_type": "code",
   "execution_count": 12,
   "metadata": {},
   "outputs": [],
   "source": [
    "res = pd.DataFrame.from_dict(get_n_dict_value(per_to_trans), orient='index').reset_index().rename(columns={\"index\": \"permission dataset\", 0: \"transaction dataset\"})"
   ]
  },
  {
   "cell_type": "code",
   "execution_count": 13,
   "metadata": {},
   "outputs": [
    {
     "name": "stdout",
     "output_type": "stream",
     "text": [
      "\\begin{tabular}{ll}\n",
      "\\toprule\n",
      "permission dataset & transaction dataset \\\\\n",
      "\\midrule\n",
      "  BezitterVoornaam &       KoperVoornaam \\\\\n",
      "    BezitterTussen &         KoperTussen \\\\\n",
      "BezitterAchternaam &     KoperAchternaam \\\\\n",
      "    SlaafNaamNieuw &      SlaafNaamNieuw \\\\\n",
      "    BezitterBeroep &         KoperBeroep \\\\\n",
      "    BezitterStatus &         KoperStatus \\\\\n",
      "       SlaafGender &         SlaafGender \\\\\n",
      "             Datum &               Datum \\\\\n",
      "  BezitterWerkplek &       KoperWerkplek \\\\\n",
      "        SlaafKaste &          SlaafKaste \\\\\n",
      "\\bottomrule\n",
      "\\end{tabular}\n",
      "\n"
     ]
    }
   ],
   "source": [
    "print(res.to_latex(index=False))"
   ]
  },
  {
   "cell_type": "code",
   "execution_count": null,
   "metadata": {},
   "outputs": [],
   "source": []
  }
 ],
 "metadata": {
  "kernelspec": {
   "display_name": "Python 3",
   "language": "python",
   "name": "python3"
  },
  "language_info": {
   "codemirror_mode": {
    "name": "ipython",
    "version": 3
   },
   "file_extension": ".py",
   "mimetype": "text/x-python",
   "name": "python",
   "nbconvert_exporter": "python",
   "pygments_lexer": "ipython3",
   "version": "3.8.3"
  }
 },
 "nbformat": 4,
 "nbformat_minor": 4
}
