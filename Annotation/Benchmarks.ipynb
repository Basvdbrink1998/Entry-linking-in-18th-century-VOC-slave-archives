{
 "cells": [
  {
   "cell_type": "code",
   "execution_count": 1,
   "metadata": {},
   "outputs": [],
   "source": [
    "from Annotation_helper import *\n",
    "import numpy as np\n",
    "from collections import defaultdict\n",
    "from imblearn.over_sampling import RandomOverSampler\n",
    "from imblearn.under_sampling import RandomUnderSampler\n",
    "from imblearn.over_sampling import SMOTE, ADASYN\n",
    "import tensorflow as tf\n",
    "from tensorflow import keras\n",
    "import matplotlib.pyplot as plt\n",
    "import tempfile\n",
    "import matplotlib as mpl\n",
    "import matplotlib.pyplot as plt"
   ]
  },
  {
   "cell_type": "code",
   "execution_count": 2,
   "metadata": {},
   "outputs": [],
   "source": [
    "from sklearn.model_selection import train_test_split\n",
    "from sklearn.metrics import accuracy_score\n",
    "from sklearn.metrics import recall_score\n",
    "from sklearn.metrics import f1_score\n",
    "from sklearn.metrics import precision_score\n",
    "from sklearn.metrics import balanced_accuracy_score\n",
    "from sklearn.metrics import confusion_matrix\n",
    "from sklearn.metrics import confusion_matrix, ConfusionMatrixDisplay\n",
    "from sklearn.metrics import PrecisionRecallDisplay\n",
    "from sklearn.metrics import classification_report, confusion_matrix  \n",
    "from sklearn.pipeline import make_pipeline\n",
    "\n",
    "from sklearn.preprocessing import StandardScaler\n",
    "from sklearn.preprocessing import Normalizer\n",
    "# from sklearnex import patch_sklearn \n",
    "\n",
    "# patch_sklearn()"
   ]
  },
  {
   "cell_type": "code",
   "execution_count": 3,
   "metadata": {},
   "outputs": [],
   "source": [
    "from sklearn.linear_model import LogisticRegression\n",
    "from sklearn.neighbors import KNeighborsClassifier\n",
    "from sklearn.ensemble import AdaBoostClassifier\n",
    "from sklearn.neural_network import MLPClassifier"
   ]
  },
  {
   "cell_type": "markdown",
   "metadata": {},
   "source": [
    "# Helper functions"
   ]
  },
  {
   "cell_type": "code",
   "execution_count": 4,
   "metadata": {},
   "outputs": [],
   "source": [
    "# def plot_metrics(history):\n",
    "#   metrics = ['loss', 'prc', 'precision', 'recall']\n",
    "#   for n, metric in enumerate(metrics):\n",
    "#     name = metric.replace(\"_\",\" \").capitalize()\n",
    "#     plt.subplot(2,2,n+1)\n",
    "#     plt.plot(history.epoch, history.history[metric], color=colors[0], label='Train')\n",
    "#     plt.plot(history.epoch, history.history['val_'+metric],\n",
    "#              color=colors[0], linestyle=\"--\", label='Val')\n",
    "#     plt.xlabel('Epoch')\n",
    "#     plt.ylabel(name)\n",
    "#     if metric == 'loss':\n",
    "#       plt.ylim([0, plt.ylim()[1]])\n",
    "#     elif metric == 'auc':\n",
    "#       plt.ylim([0.8,1])\n",
    "#     else:\n",
    "#       plt.ylim([0,1])\n",
    "\n",
    "#     plt.legend();"
   ]
  },
  {
   "cell_type": "code",
   "execution_count": 5,
   "metadata": {},
   "outputs": [],
   "source": [
    "# def evaluate_prediction(pred, y_true, model_name=\"default_model\"):\n",
    "#     cm = confusion_matrix(y_true, pred)\n",
    "#     disp = ConfusionMatrixDisplay(confusion_matrix=cm)\n",
    "#     disp.plot()\n",
    "#     plt.savefig(f\"{figure_folder}_{model_name}_Confusion_matrix.png\")\n",
    "#     plt.show()\n",
    "#     print(\"recall score: \", recall_score(y_true, pred))\n",
    "#     print(\"precision score: \", precision_score(y_true, pred))\n",
    "#     print(\"f1 score: \", f1_score(y_true, pred))\n",
    "\n",
    "# def fit_and_test_classifier(clf, X_train, y_train, y_true, model_name=\"default_model\"):\n",
    "#     clf = clf.fit(X_train, y_train)\n",
    "#     pred = clf.predict(X_test)\n",
    "    \n",
    "#     evaluate_prediction(pred, y_true, model_name)\n",
    "    \n",
    "#     display = PrecisionRecallDisplay.from_estimator(\n",
    "#         clf, X_test, y_test, name=model_name\n",
    "#     )\n",
    "#     _ = display.ax_.set_title(\"2-class Precision-Recall curve\")\n",
    "    \n",
    "#     plt.savefig(f\"{figure_folder}_{model_name}_PR_curve.png\")\n",
    "#     return clf"
   ]
  },
  {
   "cell_type": "code",
   "execution_count": 6,
   "metadata": {},
   "outputs": [],
   "source": [
    "def make_meshgrid(x, y, h=.02):\n",
    "    x_min, x_max = x.min() - 1, x.max() + 1\n",
    "    y_min, y_max = y.min() - 1, y.max() + 1\n",
    "    xx, yy = np.meshgrid(np.arange(x_min, x_max, h), np.arange(y_min, y_max, h))\n",
    "    return xx, yy\n",
    "\n",
    "def plot_contours(ax, clf, xx, yy, **params):\n",
    "    Z = clf.predict(np.c_[xx.ravel(), yy.ravel()])\n",
    "    Z = Z.reshape(xx.shape)\n",
    "    out = ax.contourf(xx, yy, Z, **params)\n",
    "    return out"
   ]
  },
  {
   "cell_type": "markdown",
   "metadata": {},
   "source": [
    "# Loading data"
   ]
  },
  {
   "cell_type": "code",
   "execution_count": 7,
   "metadata": {},
   "outputs": [],
   "source": [
    "matches = pd.read_csv(\"Matches/Bas3.csv\", index_col=0)\n",
    "# dist_folder = \"Distances_levenshtein\"\n",
    "dist_folder = \"filtered_Distances\"\n",
    "figure_folder = \"../Figures/Results/Classic\""
   ]
  },
  {
   "cell_type": "code",
   "execution_count": 8,
   "metadata": {},
   "outputs": [],
   "source": [
    "distances = pd.read_csv(dist_folder + \"/distances_0.csv\", dtype={'permission_indx': 'uint16', 'transaction_indx': 'uint16', 'SlaafGender': 'bool', 'SlaafNaamNieuw': 'float16', 'BezitterGender': 'bool', 'BezitterVoornaam': 'float16', 'BezitterBeroep': 'float16', 'BezitterAchternaam': 'float16'})\n",
    "for i in range(1, 99):\n",
    "    df2 = pd.read_csv(f\"{dist_folder}/distances_{i}.csv\", dtype={'permission_indx': 'uint16', 'transaction_indx': 'uint16', 'SlaafGender': 'bool', 'SlaafNaamNieuw': 'float16', 'BezitterGender': 'bool', 'BezitterVoornaam': 'float16', 'BezitterBeroep': 'float16', 'BezitterAchternaam': 'float16'})\n",
    "    distances = pd.concat([distances, df2])\n",
    "distances.reset_index(inplace=True)"
   ]
  },
  {
   "cell_type": "code",
   "execution_count": 9,
   "metadata": {},
   "outputs": [
    {
     "data": {
      "text/plain": [
       "60"
      ]
     },
     "execution_count": 9,
     "metadata": {},
     "output_type": "execute_result"
    }
   ],
   "source": [
    "len(matches[matches['transaction_indx'] != 'None'][\"permission_indx\"].unique())"
   ]
  },
  {
   "cell_type": "code",
   "execution_count": 10,
   "metadata": {},
   "outputs": [
    {
     "data": {
      "text/html": [
       "<div>\n",
       "<style scoped>\n",
       "    .dataframe tbody tr th:only-of-type {\n",
       "        vertical-align: middle;\n",
       "    }\n",
       "\n",
       "    .dataframe tbody tr th {\n",
       "        vertical-align: top;\n",
       "    }\n",
       "\n",
       "    .dataframe thead th {\n",
       "        text-align: right;\n",
       "    }\n",
       "</style>\n",
       "<table border=\"1\" class=\"dataframe\">\n",
       "  <thead>\n",
       "    <tr style=\"text-align: right;\">\n",
       "      <th></th>\n",
       "      <th>Annotator</th>\n",
       "      <th>transaction_indx</th>\n",
       "      <th>permission_indx</th>\n",
       "    </tr>\n",
       "  </thead>\n",
       "  <tbody>\n",
       "    <tr>\n",
       "      <th>30</th>\n",
       "      <td>Bas</td>\n",
       "      <td>4097</td>\n",
       "      <td>32</td>\n",
       "    </tr>\n",
       "    <tr>\n",
       "      <th>31</th>\n",
       "      <td>Bas</td>\n",
       "      <td>4242</td>\n",
       "      <td>33</td>\n",
       "    </tr>\n",
       "    <tr>\n",
       "      <th>32</th>\n",
       "      <td>Bas</td>\n",
       "      <td>4242</td>\n",
       "      <td>33</td>\n",
       "    </tr>\n",
       "    <tr>\n",
       "      <th>33</th>\n",
       "      <td>Bas</td>\n",
       "      <td>4228</td>\n",
       "      <td>34</td>\n",
       "    </tr>\n",
       "    <tr>\n",
       "      <th>37</th>\n",
       "      <td>Bas</td>\n",
       "      <td>4220</td>\n",
       "      <td>38</td>\n",
       "    </tr>\n",
       "    <tr>\n",
       "      <th>...</th>\n",
       "      <td>...</td>\n",
       "      <td>...</td>\n",
       "      <td>...</td>\n",
       "    </tr>\n",
       "    <tr>\n",
       "      <th>364</th>\n",
       "      <td>Bas</td>\n",
       "      <td>2808</td>\n",
       "      <td>353</td>\n",
       "    </tr>\n",
       "    <tr>\n",
       "      <th>365</th>\n",
       "      <td>Bas</td>\n",
       "      <td>4313</td>\n",
       "      <td>353</td>\n",
       "    </tr>\n",
       "    <tr>\n",
       "      <th>366</th>\n",
       "      <td>Bas</td>\n",
       "      <td>4257</td>\n",
       "      <td>354</td>\n",
       "    </tr>\n",
       "    <tr>\n",
       "      <th>367</th>\n",
       "      <td>Bas</td>\n",
       "      <td>4312</td>\n",
       "      <td>354</td>\n",
       "    </tr>\n",
       "    <tr>\n",
       "      <th>368</th>\n",
       "      <td>Bas</td>\n",
       "      <td>4317</td>\n",
       "      <td>355</td>\n",
       "    </tr>\n",
       "  </tbody>\n",
       "</table>\n",
       "<p>72 rows × 3 columns</p>\n",
       "</div>"
      ],
      "text/plain": [
       "    Annotator transaction_indx  permission_indx\n",
       "30        Bas             4097               32\n",
       "31        Bas             4242               33\n",
       "32        Bas             4242               33\n",
       "33        Bas             4228               34\n",
       "37        Bas             4220               38\n",
       "..        ...              ...              ...\n",
       "364       Bas             2808              353\n",
       "365       Bas             4313              353\n",
       "366       Bas             4257              354\n",
       "367       Bas             4312              354\n",
       "368       Bas             4317              355\n",
       "\n",
       "[72 rows x 3 columns]"
      ]
     },
     "execution_count": 10,
     "metadata": {},
     "output_type": "execute_result"
    }
   ],
   "source": [
    "matches[matches['transaction_indx'] != 'None']"
   ]
  },
  {
   "cell_type": "code",
   "execution_count": 11,
   "metadata": {},
   "outputs": [
    {
     "data": {
      "text/html": [
       "<div>\n",
       "<style scoped>\n",
       "    .dataframe tbody tr th:only-of-type {\n",
       "        vertical-align: middle;\n",
       "    }\n",
       "\n",
       "    .dataframe tbody tr th {\n",
       "        vertical-align: top;\n",
       "    }\n",
       "\n",
       "    .dataframe thead th {\n",
       "        text-align: right;\n",
       "    }\n",
       "</style>\n",
       "<table border=\"1\" class=\"dataframe\">\n",
       "  <thead>\n",
       "    <tr style=\"text-align: right;\">\n",
       "      <th></th>\n",
       "      <th>index</th>\n",
       "      <th>permission_indx</th>\n",
       "      <th>transaction_indx</th>\n",
       "      <th>SlaafGender</th>\n",
       "      <th>SlaafNaamNieuw</th>\n",
       "      <th>BezitterGender</th>\n",
       "      <th>BezitterVoornaam</th>\n",
       "      <th>BezitterTussen</th>\n",
       "      <th>BezitterAchternaam</th>\n",
       "      <th>BezitterBeroep</th>\n",
       "      <th>BezitterStatus</th>\n",
       "      <th>BezitterEtniciteit</th>\n",
       "    </tr>\n",
       "  </thead>\n",
       "  <tbody>\n",
       "    <tr>\n",
       "      <th>0</th>\n",
       "      <td>0</td>\n",
       "      <td>0</td>\n",
       "      <td>0</td>\n",
       "      <td>True</td>\n",
       "      <td>0.000000</td>\n",
       "      <td>False</td>\n",
       "      <td>0.000000</td>\n",
       "      <td>0.0</td>\n",
       "      <td>0.000000</td>\n",
       "      <td>0.0</td>\n",
       "      <td>0.0</td>\n",
       "      <td>0.0</td>\n",
       "    </tr>\n",
       "    <tr>\n",
       "      <th>1</th>\n",
       "      <td>1</td>\n",
       "      <td>0</td>\n",
       "      <td>1</td>\n",
       "      <td>True</td>\n",
       "      <td>0.250000</td>\n",
       "      <td>False</td>\n",
       "      <td>0.000000</td>\n",
       "      <td>0.0</td>\n",
       "      <td>0.000000</td>\n",
       "      <td>0.0</td>\n",
       "      <td>0.0</td>\n",
       "      <td>0.0</td>\n",
       "    </tr>\n",
       "    <tr>\n",
       "      <th>2</th>\n",
       "      <td>2</td>\n",
       "      <td>0</td>\n",
       "      <td>2</td>\n",
       "      <td>False</td>\n",
       "      <td>0.166626</td>\n",
       "      <td>False</td>\n",
       "      <td>0.000000</td>\n",
       "      <td>0.0</td>\n",
       "      <td>0.000000</td>\n",
       "      <td>0.0</td>\n",
       "      <td>0.0</td>\n",
       "      <td>0.0</td>\n",
       "    </tr>\n",
       "    <tr>\n",
       "      <th>3</th>\n",
       "      <td>3</td>\n",
       "      <td>0</td>\n",
       "      <td>3</td>\n",
       "      <td>True</td>\n",
       "      <td>0.111084</td>\n",
       "      <td>False</td>\n",
       "      <td>0.000000</td>\n",
       "      <td>0.0</td>\n",
       "      <td>0.000000</td>\n",
       "      <td>0.0</td>\n",
       "      <td>0.0</td>\n",
       "      <td>0.0</td>\n",
       "    </tr>\n",
       "    <tr>\n",
       "      <th>4</th>\n",
       "      <td>4</td>\n",
       "      <td>0</td>\n",
       "      <td>4</td>\n",
       "      <td>True</td>\n",
       "      <td>0.142822</td>\n",
       "      <td>False</td>\n",
       "      <td>0.000000</td>\n",
       "      <td>0.0</td>\n",
       "      <td>0.000000</td>\n",
       "      <td>0.0</td>\n",
       "      <td>0.0</td>\n",
       "      <td>0.0</td>\n",
       "    </tr>\n",
       "    <tr>\n",
       "      <th>...</th>\n",
       "      <td>...</td>\n",
       "      <td>...</td>\n",
       "      <td>...</td>\n",
       "      <td>...</td>\n",
       "      <td>...</td>\n",
       "      <td>...</td>\n",
       "      <td>...</td>\n",
       "      <td>...</td>\n",
       "      <td>...</td>\n",
       "      <td>...</td>\n",
       "      <td>...</td>\n",
       "      <td>...</td>\n",
       "    </tr>\n",
       "    <tr>\n",
       "      <th>26638723</th>\n",
       "      <td>265951</td>\n",
       "      <td>3889</td>\n",
       "      <td>7192</td>\n",
       "      <td>True</td>\n",
       "      <td>0.250000</td>\n",
       "      <td>True</td>\n",
       "      <td>0.166626</td>\n",
       "      <td>0.0</td>\n",
       "      <td>0.166626</td>\n",
       "      <td>0.0</td>\n",
       "      <td>0.0</td>\n",
       "      <td>1.0</td>\n",
       "    </tr>\n",
       "    <tr>\n",
       "      <th>26638724</th>\n",
       "      <td>265952</td>\n",
       "      <td>3889</td>\n",
       "      <td>7193</td>\n",
       "      <td>False</td>\n",
       "      <td>0.250000</td>\n",
       "      <td>True</td>\n",
       "      <td>0.166626</td>\n",
       "      <td>0.0</td>\n",
       "      <td>0.166626</td>\n",
       "      <td>0.0</td>\n",
       "      <td>0.0</td>\n",
       "      <td>1.0</td>\n",
       "    </tr>\n",
       "    <tr>\n",
       "      <th>26638725</th>\n",
       "      <td>265953</td>\n",
       "      <td>3889</td>\n",
       "      <td>7194</td>\n",
       "      <td>False</td>\n",
       "      <td>0.000000</td>\n",
       "      <td>True</td>\n",
       "      <td>0.277832</td>\n",
       "      <td>0.0</td>\n",
       "      <td>0.000000</td>\n",
       "      <td>0.0</td>\n",
       "      <td>0.0</td>\n",
       "      <td>1.0</td>\n",
       "    </tr>\n",
       "    <tr>\n",
       "      <th>26638726</th>\n",
       "      <td>265954</td>\n",
       "      <td>3889</td>\n",
       "      <td>7195</td>\n",
       "      <td>False</td>\n",
       "      <td>0.000000</td>\n",
       "      <td>True</td>\n",
       "      <td>0.166626</td>\n",
       "      <td>0.0</td>\n",
       "      <td>0.166626</td>\n",
       "      <td>0.0</td>\n",
       "      <td>0.0</td>\n",
       "      <td>1.0</td>\n",
       "    </tr>\n",
       "    <tr>\n",
       "      <th>26638727</th>\n",
       "      <td>265955</td>\n",
       "      <td>3889</td>\n",
       "      <td>7196</td>\n",
       "      <td>True</td>\n",
       "      <td>0.000000</td>\n",
       "      <td>False</td>\n",
       "      <td>0.166626</td>\n",
       "      <td>0.0</td>\n",
       "      <td>0.000000</td>\n",
       "      <td>0.0</td>\n",
       "      <td>0.0</td>\n",
       "      <td>0.0</td>\n",
       "    </tr>\n",
       "  </tbody>\n",
       "</table>\n",
       "<p>26638728 rows × 12 columns</p>\n",
       "</div>"
      ],
      "text/plain": [
       "           index  permission_indx  transaction_indx  SlaafGender  \\\n",
       "0              0                0                 0         True   \n",
       "1              1                0                 1         True   \n",
       "2              2                0                 2        False   \n",
       "3              3                0                 3         True   \n",
       "4              4                0                 4         True   \n",
       "...          ...              ...               ...          ...   \n",
       "26638723  265951             3889              7192         True   \n",
       "26638724  265952             3889              7193        False   \n",
       "26638725  265953             3889              7194        False   \n",
       "26638726  265954             3889              7195        False   \n",
       "26638727  265955             3889              7196         True   \n",
       "\n",
       "          SlaafNaamNieuw  BezitterGender  BezitterVoornaam  BezitterTussen  \\\n",
       "0               0.000000           False          0.000000             0.0   \n",
       "1               0.250000           False          0.000000             0.0   \n",
       "2               0.166626           False          0.000000             0.0   \n",
       "3               0.111084           False          0.000000             0.0   \n",
       "4               0.142822           False          0.000000             0.0   \n",
       "...                  ...             ...               ...             ...   \n",
       "26638723        0.250000            True          0.166626             0.0   \n",
       "26638724        0.250000            True          0.166626             0.0   \n",
       "26638725        0.000000            True          0.277832             0.0   \n",
       "26638726        0.000000            True          0.166626             0.0   \n",
       "26638727        0.000000           False          0.166626             0.0   \n",
       "\n",
       "          BezitterAchternaam  BezitterBeroep  BezitterStatus  \\\n",
       "0                   0.000000             0.0             0.0   \n",
       "1                   0.000000             0.0             0.0   \n",
       "2                   0.000000             0.0             0.0   \n",
       "3                   0.000000             0.0             0.0   \n",
       "4                   0.000000             0.0             0.0   \n",
       "...                      ...             ...             ...   \n",
       "26638723            0.166626             0.0             0.0   \n",
       "26638724            0.166626             0.0             0.0   \n",
       "26638725            0.000000             0.0             0.0   \n",
       "26638726            0.166626             0.0             0.0   \n",
       "26638727            0.000000             0.0             0.0   \n",
       "\n",
       "          BezitterEtniciteit  \n",
       "0                        0.0  \n",
       "1                        0.0  \n",
       "2                        0.0  \n",
       "3                        0.0  \n",
       "4                        0.0  \n",
       "...                      ...  \n",
       "26638723                 1.0  \n",
       "26638724                 1.0  \n",
       "26638725                 1.0  \n",
       "26638726                 1.0  \n",
       "26638727                 0.0  \n",
       "\n",
       "[26638728 rows x 12 columns]"
      ]
     },
     "execution_count": 11,
     "metadata": {},
     "output_type": "execute_result"
    }
   ],
   "source": [
    "distances"
   ]
  },
  {
   "cell_type": "code",
   "execution_count": null,
   "metadata": {},
   "outputs": [],
   "source": []
  },
  {
   "cell_type": "code",
   "execution_count": 12,
   "metadata": {},
   "outputs": [
    {
     "name": "stderr",
     "output_type": "stream",
     "text": [
      "<ipython-input-12-e521af8c2916>:2: SettingWithCopyWarning: \n",
      "A value is trying to be set on a copy of a slice from a DataFrame.\n",
      "Try using .loc[row_indexer,col_indexer] = value instead\n",
      "\n",
      "See the caveats in the documentation: https://pandas.pydata.org/pandas-docs/stable/user_guide/indexing.html#returning-a-view-versus-a-copy\n",
      "  all_data[\"Match\"] = 0\n",
      "C:\\Users\\basvd\\anaconda3\\lib\\site-packages\\pandas\\core\\indexing.py:1817: SettingWithCopyWarning: \n",
      "A value is trying to be set on a copy of a slice from a DataFrame.\n",
      "Try using .loc[row_indexer,col_indexer] = value instead\n",
      "\n",
      "See the caveats in the documentation: https://pandas.pydata.org/pandas-docs/stable/user_guide/indexing.html#returning-a-view-versus-a-copy\n",
      "  self._setitem_single_column(loc, value, pi)\n"
     ]
    }
   ],
   "source": [
    "all_data = distances[distances['permission_indx'].isin(matches[\"permission_indx\"].unique())]\n",
    "all_data[\"Match\"] = 0\n",
    "for i, match in matches.iterrows():\n",
    "    if match[\"transaction_indx\"] != \"None\":\n",
    "        indx = distances.query(f\"permission_indx == {match['permission_indx']} & transaction_indx == {match['transaction_indx']}\").index\n",
    "        all_data.loc[indx, \"Match\"] = 1\n",
    "data = all_data.iloc[:, 3:-1]\n",
    "y = all_data.iloc[:, -1]\n",
    "X_train, X_test, y_train, y_test = train_test_split(data, y, test_size=0.3, random_state=42)"
   ]
  },
  {
   "cell_type": "code",
   "execution_count": 13,
   "metadata": {},
   "outputs": [
    {
     "data": {
      "text/html": [
       "<div>\n",
       "<style scoped>\n",
       "    .dataframe tbody tr th:only-of-type {\n",
       "        vertical-align: middle;\n",
       "    }\n",
       "\n",
       "    .dataframe tbody tr th {\n",
       "        vertical-align: top;\n",
       "    }\n",
       "\n",
       "    .dataframe thead th {\n",
       "        text-align: right;\n",
       "    }\n",
       "</style>\n",
       "<table border=\"1\" class=\"dataframe\">\n",
       "  <thead>\n",
       "    <tr style=\"text-align: right;\">\n",
       "      <th></th>\n",
       "      <th>index</th>\n",
       "      <th>permission_indx</th>\n",
       "      <th>transaction_indx</th>\n",
       "      <th>SlaafGender</th>\n",
       "      <th>SlaafNaamNieuw</th>\n",
       "      <th>BezitterGender</th>\n",
       "      <th>BezitterVoornaam</th>\n",
       "      <th>BezitterTussen</th>\n",
       "      <th>BezitterAchternaam</th>\n",
       "      <th>BezitterBeroep</th>\n",
       "      <th>BezitterStatus</th>\n",
       "      <th>BezitterEtniciteit</th>\n",
       "    </tr>\n",
       "  </thead>\n",
       "  <tbody>\n",
       "    <tr>\n",
       "      <th>173655</th>\n",
       "      <td>173655</td>\n",
       "      <td>24</td>\n",
       "      <td>1143</td>\n",
       "      <td>True</td>\n",
       "      <td>0.600098</td>\n",
       "      <td>True</td>\n",
       "      <td>1.000000</td>\n",
       "      <td>0.0</td>\n",
       "      <td>0.142822</td>\n",
       "      <td>0.000000</td>\n",
       "      <td>0.0</td>\n",
       "      <td>0.0</td>\n",
       "    </tr>\n",
       "    <tr>\n",
       "      <th>185629</th>\n",
       "      <td>185629</td>\n",
       "      <td>26</td>\n",
       "      <td>5933</td>\n",
       "      <td>True</td>\n",
       "      <td>1.000000</td>\n",
       "      <td>True</td>\n",
       "      <td>0.799805</td>\n",
       "      <td>0.0</td>\n",
       "      <td>0.142822</td>\n",
       "      <td>0.000000</td>\n",
       "      <td>0.0</td>\n",
       "      <td>0.0</td>\n",
       "    </tr>\n",
       "    <tr>\n",
       "      <th>196131</th>\n",
       "      <td>196131</td>\n",
       "      <td>28</td>\n",
       "      <td>2057</td>\n",
       "      <td>True</td>\n",
       "      <td>0.555664</td>\n",
       "      <td>True</td>\n",
       "      <td>1.000000</td>\n",
       "      <td>0.0</td>\n",
       "      <td>0.199951</td>\n",
       "      <td>0.199951</td>\n",
       "      <td>0.0</td>\n",
       "      <td>0.0</td>\n",
       "    </tr>\n",
       "    <tr>\n",
       "      <th>203319</th>\n",
       "      <td>203319</td>\n",
       "      <td>29</td>\n",
       "      <td>2057</td>\n",
       "      <td>True</td>\n",
       "      <td>0.555664</td>\n",
       "      <td>True</td>\n",
       "      <td>1.000000</td>\n",
       "      <td>0.0</td>\n",
       "      <td>0.199951</td>\n",
       "      <td>0.199951</td>\n",
       "      <td>0.0</td>\n",
       "      <td>0.0</td>\n",
       "    </tr>\n",
       "    <tr>\n",
       "      <th>216328</th>\n",
       "      <td>216328</td>\n",
       "      <td>31</td>\n",
       "      <td>688</td>\n",
       "      <td>True</td>\n",
       "      <td>1.000000</td>\n",
       "      <td>True</td>\n",
       "      <td>0.636230</td>\n",
       "      <td>0.0</td>\n",
       "      <td>0.142822</td>\n",
       "      <td>0.115356</td>\n",
       "      <td>0.0</td>\n",
       "      <td>0.0</td>\n",
       "    </tr>\n",
       "    <tr>\n",
       "      <th>...</th>\n",
       "      <td>...</td>\n",
       "      <td>...</td>\n",
       "      <td>...</td>\n",
       "      <td>...</td>\n",
       "      <td>...</td>\n",
       "      <td>...</td>\n",
       "      <td>...</td>\n",
       "      <td>...</td>\n",
       "      <td>...</td>\n",
       "      <td>...</td>\n",
       "      <td>...</td>\n",
       "      <td>...</td>\n",
       "    </tr>\n",
       "    <tr>\n",
       "      <th>26591775</th>\n",
       "      <td>219003</td>\n",
       "      <td>3883</td>\n",
       "      <td>3365</td>\n",
       "      <td>True</td>\n",
       "      <td>0.399902</td>\n",
       "      <td>True</td>\n",
       "      <td>1.000000</td>\n",
       "      <td>0.0</td>\n",
       "      <td>0.272705</td>\n",
       "      <td>0.125000</td>\n",
       "      <td>0.0</td>\n",
       "      <td>0.0</td>\n",
       "    </tr>\n",
       "    <tr>\n",
       "      <th>26598762</th>\n",
       "      <td>225990</td>\n",
       "      <td>3884</td>\n",
       "      <td>3164</td>\n",
       "      <td>True</td>\n",
       "      <td>1.000000</td>\n",
       "      <td>True</td>\n",
       "      <td>0.866699</td>\n",
       "      <td>0.0</td>\n",
       "      <td>0.500000</td>\n",
       "      <td>0.000000</td>\n",
       "      <td>0.0</td>\n",
       "      <td>0.0</td>\n",
       "    </tr>\n",
       "    <tr>\n",
       "      <th>26598809</th>\n",
       "      <td>226037</td>\n",
       "      <td>3884</td>\n",
       "      <td>3211</td>\n",
       "      <td>True</td>\n",
       "      <td>0.399902</td>\n",
       "      <td>True</td>\n",
       "      <td>0.866699</td>\n",
       "      <td>0.0</td>\n",
       "      <td>0.500000</td>\n",
       "      <td>0.000000</td>\n",
       "      <td>0.0</td>\n",
       "      <td>0.0</td>\n",
       "    </tr>\n",
       "    <tr>\n",
       "      <th>26600335</th>\n",
       "      <td>227563</td>\n",
       "      <td>3884</td>\n",
       "      <td>4738</td>\n",
       "      <td>True</td>\n",
       "      <td>0.333252</td>\n",
       "      <td>True</td>\n",
       "      <td>0.866699</td>\n",
       "      <td>0.0</td>\n",
       "      <td>0.500000</td>\n",
       "      <td>0.000000</td>\n",
       "      <td>0.0</td>\n",
       "      <td>0.0</td>\n",
       "    </tr>\n",
       "    <tr>\n",
       "      <th>26606079</th>\n",
       "      <td>233307</td>\n",
       "      <td>3885</td>\n",
       "      <td>3293</td>\n",
       "      <td>True</td>\n",
       "      <td>0.500000</td>\n",
       "      <td>True</td>\n",
       "      <td>0.714355</td>\n",
       "      <td>0.0</td>\n",
       "      <td>0.199951</td>\n",
       "      <td>0.000000</td>\n",
       "      <td>0.0</td>\n",
       "      <td>1.0</td>\n",
       "    </tr>\n",
       "  </tbody>\n",
       "</table>\n",
       "<p>7957 rows × 12 columns</p>\n",
       "</div>"
      ],
      "text/plain": [
       "           index  permission_indx  transaction_indx  SlaafGender  \\\n",
       "173655    173655               24              1143         True   \n",
       "185629    185629               26              5933         True   \n",
       "196131    196131               28              2057         True   \n",
       "203319    203319               29              2057         True   \n",
       "216328    216328               31               688         True   \n",
       "...          ...              ...               ...          ...   \n",
       "26591775  219003             3883              3365         True   \n",
       "26598762  225990             3884              3164         True   \n",
       "26598809  226037             3884              3211         True   \n",
       "26600335  227563             3884              4738         True   \n",
       "26606079  233307             3885              3293         True   \n",
       "\n",
       "          SlaafNaamNieuw  BezitterGender  BezitterVoornaam  BezitterTussen  \\\n",
       "173655          0.600098            True          1.000000             0.0   \n",
       "185629          1.000000            True          0.799805             0.0   \n",
       "196131          0.555664            True          1.000000             0.0   \n",
       "203319          0.555664            True          1.000000             0.0   \n",
       "216328          1.000000            True          0.636230             0.0   \n",
       "...                  ...             ...               ...             ...   \n",
       "26591775        0.399902            True          1.000000             0.0   \n",
       "26598762        1.000000            True          0.866699             0.0   \n",
       "26598809        0.399902            True          0.866699             0.0   \n",
       "26600335        0.333252            True          0.866699             0.0   \n",
       "26606079        0.500000            True          0.714355             0.0   \n",
       "\n",
       "          BezitterAchternaam  BezitterBeroep  BezitterStatus  \\\n",
       "173655              0.142822        0.000000             0.0   \n",
       "185629              0.142822        0.000000             0.0   \n",
       "196131              0.199951        0.199951             0.0   \n",
       "203319              0.199951        0.199951             0.0   \n",
       "216328              0.142822        0.115356             0.0   \n",
       "...                      ...             ...             ...   \n",
       "26591775            0.272705        0.125000             0.0   \n",
       "26598762            0.500000        0.000000             0.0   \n",
       "26598809            0.500000        0.000000             0.0   \n",
       "26600335            0.500000        0.000000             0.0   \n",
       "26606079            0.199951        0.000000             0.0   \n",
       "\n",
       "          BezitterEtniciteit  \n",
       "173655                   0.0  \n",
       "185629                   0.0  \n",
       "196131                   0.0  \n",
       "203319                   0.0  \n",
       "216328                   0.0  \n",
       "...                      ...  \n",
       "26591775                 0.0  \n",
       "26598762                 0.0  \n",
       "26598809                 0.0  \n",
       "26600335                 0.0  \n",
       "26606079                 1.0  \n",
       "\n",
       "[7957 rows x 12 columns]"
      ]
     },
     "execution_count": 13,
     "metadata": {},
     "output_type": "execute_result"
    }
   ],
   "source": [
    "d = distances\n",
    "d = d[d[\"SlaafNaamNieuw\"] > 0.3]\n",
    "d = d[d[\"SlaafGender\"] > 0.3]\n",
    "d = d[d[\"BezitterAchternaam\"] > 0.1]\n",
    "d = d[d[\"BezitterVoornaam\"] > 0.6]\n",
    "d"
   ]
  },
  {
   "cell_type": "code",
   "execution_count": null,
   "metadata": {},
   "outputs": [],
   "source": []
  },
  {
   "cell_type": "code",
   "execution_count": 14,
   "metadata": {},
   "outputs": [
    {
     "data": {
      "text/html": [
       "<div>\n",
       "<style scoped>\n",
       "    .dataframe tbody tr th:only-of-type {\n",
       "        vertical-align: middle;\n",
       "    }\n",
       "\n",
       "    .dataframe tbody tr th {\n",
       "        vertical-align: top;\n",
       "    }\n",
       "\n",
       "    .dataframe thead th {\n",
       "        text-align: right;\n",
       "    }\n",
       "</style>\n",
       "<table border=\"1\" class=\"dataframe\">\n",
       "  <thead>\n",
       "    <tr style=\"text-align: right;\">\n",
       "      <th></th>\n",
       "      <th>index</th>\n",
       "      <th>permission_indx</th>\n",
       "      <th>transaction_indx</th>\n",
       "      <th>SlaafGender</th>\n",
       "      <th>SlaafNaamNieuw</th>\n",
       "      <th>BezitterGender</th>\n",
       "      <th>BezitterVoornaam</th>\n",
       "      <th>BezitterTussen</th>\n",
       "      <th>BezitterAchternaam</th>\n",
       "      <th>BezitterBeroep</th>\n",
       "      <th>BezitterStatus</th>\n",
       "      <th>BezitterEtniciteit</th>\n",
       "      <th>Match</th>\n",
       "    </tr>\n",
       "  </thead>\n",
       "  <tbody>\n",
       "    <tr>\n",
       "      <th>0</th>\n",
       "      <td>0</td>\n",
       "      <td>0</td>\n",
       "      <td>0</td>\n",
       "      <td>True</td>\n",
       "      <td>0.000000</td>\n",
       "      <td>False</td>\n",
       "      <td>0.000000</td>\n",
       "      <td>0.0</td>\n",
       "      <td>0.0</td>\n",
       "      <td>0.0</td>\n",
       "      <td>0.000000</td>\n",
       "      <td>0.0</td>\n",
       "      <td>0</td>\n",
       "    </tr>\n",
       "    <tr>\n",
       "      <th>1</th>\n",
       "      <td>1</td>\n",
       "      <td>0</td>\n",
       "      <td>1</td>\n",
       "      <td>True</td>\n",
       "      <td>0.250000</td>\n",
       "      <td>False</td>\n",
       "      <td>0.000000</td>\n",
       "      <td>0.0</td>\n",
       "      <td>0.0</td>\n",
       "      <td>0.0</td>\n",
       "      <td>0.000000</td>\n",
       "      <td>0.0</td>\n",
       "      <td>0</td>\n",
       "    </tr>\n",
       "    <tr>\n",
       "      <th>2</th>\n",
       "      <td>2</td>\n",
       "      <td>0</td>\n",
       "      <td>2</td>\n",
       "      <td>False</td>\n",
       "      <td>0.166626</td>\n",
       "      <td>False</td>\n",
       "      <td>0.000000</td>\n",
       "      <td>0.0</td>\n",
       "      <td>0.0</td>\n",
       "      <td>0.0</td>\n",
       "      <td>0.000000</td>\n",
       "      <td>0.0</td>\n",
       "      <td>0</td>\n",
       "    </tr>\n",
       "    <tr>\n",
       "      <th>3</th>\n",
       "      <td>3</td>\n",
       "      <td>0</td>\n",
       "      <td>3</td>\n",
       "      <td>True</td>\n",
       "      <td>0.111084</td>\n",
       "      <td>False</td>\n",
       "      <td>0.000000</td>\n",
       "      <td>0.0</td>\n",
       "      <td>0.0</td>\n",
       "      <td>0.0</td>\n",
       "      <td>0.000000</td>\n",
       "      <td>0.0</td>\n",
       "      <td>0</td>\n",
       "    </tr>\n",
       "    <tr>\n",
       "      <th>4</th>\n",
       "      <td>4</td>\n",
       "      <td>0</td>\n",
       "      <td>4</td>\n",
       "      <td>True</td>\n",
       "      <td>0.142822</td>\n",
       "      <td>False</td>\n",
       "      <td>0.000000</td>\n",
       "      <td>0.0</td>\n",
       "      <td>0.0</td>\n",
       "      <td>0.0</td>\n",
       "      <td>0.000000</td>\n",
       "      <td>0.0</td>\n",
       "      <td>0</td>\n",
       "    </tr>\n",
       "    <tr>\n",
       "      <th>...</th>\n",
       "      <td>...</td>\n",
       "      <td>...</td>\n",
       "      <td>...</td>\n",
       "      <td>...</td>\n",
       "      <td>...</td>\n",
       "      <td>...</td>\n",
       "      <td>...</td>\n",
       "      <td>...</td>\n",
       "      <td>...</td>\n",
       "      <td>...</td>\n",
       "      <td>...</td>\n",
       "      <td>...</td>\n",
       "      <td>...</td>\n",
       "    </tr>\n",
       "    <tr>\n",
       "      <th>2695495</th>\n",
       "      <td>237199</td>\n",
       "      <td>375</td>\n",
       "      <td>7192</td>\n",
       "      <td>True</td>\n",
       "      <td>0.166626</td>\n",
       "      <td>True</td>\n",
       "      <td>0.142822</td>\n",
       "      <td>0.0</td>\n",
       "      <td>0.0</td>\n",
       "      <td>0.0</td>\n",
       "      <td>0.090909</td>\n",
       "      <td>0.0</td>\n",
       "      <td>0</td>\n",
       "    </tr>\n",
       "    <tr>\n",
       "      <th>2695496</th>\n",
       "      <td>237200</td>\n",
       "      <td>375</td>\n",
       "      <td>7193</td>\n",
       "      <td>False</td>\n",
       "      <td>0.000000</td>\n",
       "      <td>True</td>\n",
       "      <td>0.142822</td>\n",
       "      <td>0.0</td>\n",
       "      <td>0.0</td>\n",
       "      <td>0.0</td>\n",
       "      <td>0.090909</td>\n",
       "      <td>0.0</td>\n",
       "      <td>0</td>\n",
       "    </tr>\n",
       "    <tr>\n",
       "      <th>2695497</th>\n",
       "      <td>237201</td>\n",
       "      <td>375</td>\n",
       "      <td>7194</td>\n",
       "      <td>False</td>\n",
       "      <td>0.000000</td>\n",
       "      <td>True</td>\n",
       "      <td>0.142822</td>\n",
       "      <td>0.0</td>\n",
       "      <td>0.0</td>\n",
       "      <td>0.0</td>\n",
       "      <td>0.090909</td>\n",
       "      <td>0.0</td>\n",
       "      <td>0</td>\n",
       "    </tr>\n",
       "    <tr>\n",
       "      <th>2695498</th>\n",
       "      <td>237202</td>\n",
       "      <td>375</td>\n",
       "      <td>7195</td>\n",
       "      <td>False</td>\n",
       "      <td>0.111084</td>\n",
       "      <td>True</td>\n",
       "      <td>0.125000</td>\n",
       "      <td>0.0</td>\n",
       "      <td>0.0</td>\n",
       "      <td>0.0</td>\n",
       "      <td>0.090909</td>\n",
       "      <td>0.0</td>\n",
       "      <td>0</td>\n",
       "    </tr>\n",
       "    <tr>\n",
       "      <th>2695499</th>\n",
       "      <td>237203</td>\n",
       "      <td>375</td>\n",
       "      <td>7196</td>\n",
       "      <td>True</td>\n",
       "      <td>0.428467</td>\n",
       "      <td>False</td>\n",
       "      <td>0.111084</td>\n",
       "      <td>0.0</td>\n",
       "      <td>0.0</td>\n",
       "      <td>0.0</td>\n",
       "      <td>0.061538</td>\n",
       "      <td>0.0</td>\n",
       "      <td>0</td>\n",
       "    </tr>\n",
       "  </tbody>\n",
       "</table>\n",
       "<p>2688244 rows × 13 columns</p>\n",
       "</div>"
      ],
      "text/plain": [
       "          index  permission_indx  transaction_indx  SlaafGender  \\\n",
       "0             0                0                 0         True   \n",
       "1             1                0                 1         True   \n",
       "2             2                0                 2        False   \n",
       "3             3                0                 3         True   \n",
       "4             4                0                 4         True   \n",
       "...         ...              ...               ...          ...   \n",
       "2695495  237199              375              7192         True   \n",
       "2695496  237200              375              7193        False   \n",
       "2695497  237201              375              7194        False   \n",
       "2695498  237202              375              7195        False   \n",
       "2695499  237203              375              7196         True   \n",
       "\n",
       "         SlaafNaamNieuw  BezitterGender  BezitterVoornaam  BezitterTussen  \\\n",
       "0              0.000000           False          0.000000             0.0   \n",
       "1              0.250000           False          0.000000             0.0   \n",
       "2              0.166626           False          0.000000             0.0   \n",
       "3              0.111084           False          0.000000             0.0   \n",
       "4              0.142822           False          0.000000             0.0   \n",
       "...                 ...             ...               ...             ...   \n",
       "2695495        0.166626            True          0.142822             0.0   \n",
       "2695496        0.000000            True          0.142822             0.0   \n",
       "2695497        0.000000            True          0.142822             0.0   \n",
       "2695498        0.111084            True          0.125000             0.0   \n",
       "2695499        0.428467           False          0.111084             0.0   \n",
       "\n",
       "         BezitterAchternaam  BezitterBeroep  BezitterStatus  \\\n",
       "0                       0.0             0.0        0.000000   \n",
       "1                       0.0             0.0        0.000000   \n",
       "2                       0.0             0.0        0.000000   \n",
       "3                       0.0             0.0        0.000000   \n",
       "4                       0.0             0.0        0.000000   \n",
       "...                     ...             ...             ...   \n",
       "2695495                 0.0             0.0        0.090909   \n",
       "2695496                 0.0             0.0        0.090909   \n",
       "2695497                 0.0             0.0        0.090909   \n",
       "2695498                 0.0             0.0        0.090909   \n",
       "2695499                 0.0             0.0        0.061538   \n",
       "\n",
       "         BezitterEtniciteit  Match  \n",
       "0                       0.0      0  \n",
       "1                       0.0      0  \n",
       "2                       0.0      0  \n",
       "3                       0.0      0  \n",
       "4                       0.0      0  \n",
       "...                     ...    ...  \n",
       "2695495                 0.0      0  \n",
       "2695496                 0.0      0  \n",
       "2695497                 0.0      0  \n",
       "2695498                 0.0      0  \n",
       "2695499                 0.0      0  \n",
       "\n",
       "[2688244 rows x 13 columns]"
      ]
     },
     "execution_count": 14,
     "metadata": {},
     "output_type": "execute_result"
    }
   ],
   "source": [
    "all_data[all_data[\"Match\"] == 0]"
   ]
  },
  {
   "cell_type": "code",
   "execution_count": 15,
   "metadata": {},
   "outputs": [
    {
     "data": {
      "text/html": [
       "<div>\n",
       "<style scoped>\n",
       "    .dataframe tbody tr th:only-of-type {\n",
       "        vertical-align: middle;\n",
       "    }\n",
       "\n",
       "    .dataframe tbody tr th {\n",
       "        vertical-align: top;\n",
       "    }\n",
       "\n",
       "    .dataframe thead th {\n",
       "        text-align: right;\n",
       "    }\n",
       "</style>\n",
       "<table border=\"1\" class=\"dataframe\">\n",
       "  <thead>\n",
       "    <tr style=\"text-align: right;\">\n",
       "      <th></th>\n",
       "      <th>index</th>\n",
       "      <th>permission_indx</th>\n",
       "      <th>transaction_indx</th>\n",
       "      <th>SlaafGender</th>\n",
       "      <th>SlaafNaamNieuw</th>\n",
       "      <th>BezitterGender</th>\n",
       "      <th>BezitterVoornaam</th>\n",
       "      <th>BezitterTussen</th>\n",
       "      <th>BezitterAchternaam</th>\n",
       "      <th>BezitterBeroep</th>\n",
       "      <th>BezitterStatus</th>\n",
       "      <th>BezitterEtniciteit</th>\n",
       "      <th>Match</th>\n",
       "    </tr>\n",
       "  </thead>\n",
       "  <tbody>\n",
       "    <tr>\n",
       "      <th>226923</th>\n",
       "      <td>226923</td>\n",
       "      <td>32</td>\n",
       "      <td>4097</td>\n",
       "      <td>True</td>\n",
       "      <td>0.856934</td>\n",
       "      <td>True</td>\n",
       "      <td>0.769043</td>\n",
       "      <td>0.0</td>\n",
       "      <td>1.000000</td>\n",
       "      <td>0.884766</td>\n",
       "      <td>0.0</td>\n",
       "      <td>0.0</td>\n",
       "      <td>1</td>\n",
       "    </tr>\n",
       "    <tr>\n",
       "      <th>234255</th>\n",
       "      <td>234255</td>\n",
       "      <td>33</td>\n",
       "      <td>4242</td>\n",
       "      <td>True</td>\n",
       "      <td>1.000000</td>\n",
       "      <td>True</td>\n",
       "      <td>0.916504</td>\n",
       "      <td>0.0</td>\n",
       "      <td>1.000000</td>\n",
       "      <td>0.884766</td>\n",
       "      <td>0.0</td>\n",
       "      <td>0.0</td>\n",
       "      <td>1</td>\n",
       "    </tr>\n",
       "    <tr>\n",
       "      <th>241429</th>\n",
       "      <td>241429</td>\n",
       "      <td>34</td>\n",
       "      <td>4228</td>\n",
       "      <td>True</td>\n",
       "      <td>0.428467</td>\n",
       "      <td>True</td>\n",
       "      <td>0.846191</td>\n",
       "      <td>0.0</td>\n",
       "      <td>1.000000</td>\n",
       "      <td>0.307617</td>\n",
       "      <td>0.0</td>\n",
       "      <td>0.0</td>\n",
       "      <td>1</td>\n",
       "    </tr>\n",
       "    <tr>\n",
       "      <th>270173</th>\n",
       "      <td>270173</td>\n",
       "      <td>38</td>\n",
       "      <td>4220</td>\n",
       "      <td>True</td>\n",
       "      <td>0.777832</td>\n",
       "      <td>True</td>\n",
       "      <td>0.888672</td>\n",
       "      <td>0.0</td>\n",
       "      <td>0.714355</td>\n",
       "      <td>1.000000</td>\n",
       "      <td>0.0</td>\n",
       "      <td>0.0</td>\n",
       "      <td>1</td>\n",
       "    </tr>\n",
       "    <tr>\n",
       "      <th>284531</th>\n",
       "      <td>11387</td>\n",
       "      <td>40</td>\n",
       "      <td>4202</td>\n",
       "      <td>True</td>\n",
       "      <td>1.000000</td>\n",
       "      <td>True</td>\n",
       "      <td>1.000000</td>\n",
       "      <td>0.0</td>\n",
       "      <td>0.856934</td>\n",
       "      <td>1.000000</td>\n",
       "      <td>0.0</td>\n",
       "      <td>0.0</td>\n",
       "      <td>1</td>\n",
       "    </tr>\n",
       "    <tr>\n",
       "      <th>...</th>\n",
       "      <td>...</td>\n",
       "      <td>...</td>\n",
       "      <td>...</td>\n",
       "      <td>...</td>\n",
       "      <td>...</td>\n",
       "      <td>...</td>\n",
       "      <td>...</td>\n",
       "      <td>...</td>\n",
       "      <td>...</td>\n",
       "      <td>...</td>\n",
       "      <td>...</td>\n",
       "      <td>...</td>\n",
       "      <td>...</td>\n",
       "    </tr>\n",
       "    <tr>\n",
       "      <th>2532982</th>\n",
       "      <td>74686</td>\n",
       "      <td>353</td>\n",
       "      <td>2808</td>\n",
       "      <td>True</td>\n",
       "      <td>1.000000</td>\n",
       "      <td>True</td>\n",
       "      <td>1.000000</td>\n",
       "      <td>0.0</td>\n",
       "      <td>1.000000</td>\n",
       "      <td>1.000000</td>\n",
       "      <td>0.0</td>\n",
       "      <td>0.0</td>\n",
       "      <td>1</td>\n",
       "    </tr>\n",
       "    <tr>\n",
       "      <th>2534486</th>\n",
       "      <td>76190</td>\n",
       "      <td>353</td>\n",
       "      <td>4313</td>\n",
       "      <td>True</td>\n",
       "      <td>1.000000</td>\n",
       "      <td>True</td>\n",
       "      <td>1.000000</td>\n",
       "      <td>0.0</td>\n",
       "      <td>1.000000</td>\n",
       "      <td>1.000000</td>\n",
       "      <td>0.0</td>\n",
       "      <td>0.0</td>\n",
       "      <td>1</td>\n",
       "    </tr>\n",
       "    <tr>\n",
       "      <th>2541618</th>\n",
       "      <td>83322</td>\n",
       "      <td>354</td>\n",
       "      <td>4257</td>\n",
       "      <td>True</td>\n",
       "      <td>1.000000</td>\n",
       "      <td>True</td>\n",
       "      <td>0.909180</td>\n",
       "      <td>0.0</td>\n",
       "      <td>1.000000</td>\n",
       "      <td>1.000000</td>\n",
       "      <td>0.0</td>\n",
       "      <td>0.0</td>\n",
       "      <td>1</td>\n",
       "    </tr>\n",
       "    <tr>\n",
       "      <th>2541673</th>\n",
       "      <td>83377</td>\n",
       "      <td>354</td>\n",
       "      <td>4312</td>\n",
       "      <td>True</td>\n",
       "      <td>1.000000</td>\n",
       "      <td>True</td>\n",
       "      <td>1.000000</td>\n",
       "      <td>0.0</td>\n",
       "      <td>1.000000</td>\n",
       "      <td>1.000000</td>\n",
       "      <td>0.0</td>\n",
       "      <td>0.0</td>\n",
       "      <td>1</td>\n",
       "    </tr>\n",
       "    <tr>\n",
       "      <th>2548866</th>\n",
       "      <td>90570</td>\n",
       "      <td>355</td>\n",
       "      <td>4317</td>\n",
       "      <td>True</td>\n",
       "      <td>0.875000</td>\n",
       "      <td>True</td>\n",
       "      <td>1.000000</td>\n",
       "      <td>0.0</td>\n",
       "      <td>1.000000</td>\n",
       "      <td>1.000000</td>\n",
       "      <td>0.0</td>\n",
       "      <td>0.0</td>\n",
       "      <td>1</td>\n",
       "    </tr>\n",
       "  </tbody>\n",
       "</table>\n",
       "<p>68 rows × 13 columns</p>\n",
       "</div>"
      ],
      "text/plain": [
       "          index  permission_indx  transaction_indx  SlaafGender  \\\n",
       "226923   226923               32              4097         True   \n",
       "234255   234255               33              4242         True   \n",
       "241429   241429               34              4228         True   \n",
       "270173   270173               38              4220         True   \n",
       "284531    11387               40              4202         True   \n",
       "...         ...              ...               ...          ...   \n",
       "2532982   74686              353              2808         True   \n",
       "2534486   76190              353              4313         True   \n",
       "2541618   83322              354              4257         True   \n",
       "2541673   83377              354              4312         True   \n",
       "2548866   90570              355              4317         True   \n",
       "\n",
       "         SlaafNaamNieuw  BezitterGender  BezitterVoornaam  BezitterTussen  \\\n",
       "226923         0.856934            True          0.769043             0.0   \n",
       "234255         1.000000            True          0.916504             0.0   \n",
       "241429         0.428467            True          0.846191             0.0   \n",
       "270173         0.777832            True          0.888672             0.0   \n",
       "284531         1.000000            True          1.000000             0.0   \n",
       "...                 ...             ...               ...             ...   \n",
       "2532982        1.000000            True          1.000000             0.0   \n",
       "2534486        1.000000            True          1.000000             0.0   \n",
       "2541618        1.000000            True          0.909180             0.0   \n",
       "2541673        1.000000            True          1.000000             0.0   \n",
       "2548866        0.875000            True          1.000000             0.0   \n",
       "\n",
       "         BezitterAchternaam  BezitterBeroep  BezitterStatus  \\\n",
       "226923             1.000000        0.884766             0.0   \n",
       "234255             1.000000        0.884766             0.0   \n",
       "241429             1.000000        0.307617             0.0   \n",
       "270173             0.714355        1.000000             0.0   \n",
       "284531             0.856934        1.000000             0.0   \n",
       "...                     ...             ...             ...   \n",
       "2532982            1.000000        1.000000             0.0   \n",
       "2534486            1.000000        1.000000             0.0   \n",
       "2541618            1.000000        1.000000             0.0   \n",
       "2541673            1.000000        1.000000             0.0   \n",
       "2548866            1.000000        1.000000             0.0   \n",
       "\n",
       "         BezitterEtniciteit  Match  \n",
       "226923                  0.0      1  \n",
       "234255                  0.0      1  \n",
       "241429                  0.0      1  \n",
       "270173                  0.0      1  \n",
       "284531                  0.0      1  \n",
       "...                     ...    ...  \n",
       "2532982                 0.0      1  \n",
       "2534486                 0.0      1  \n",
       "2541618                 0.0      1  \n",
       "2541673                 0.0      1  \n",
       "2548866                 0.0      1  \n",
       "\n",
       "[68 rows x 13 columns]"
      ]
     },
     "execution_count": 15,
     "metadata": {},
     "output_type": "execute_result"
    }
   ],
   "source": [
    "all_data[all_data[\"Match\"] == 1]"
   ]
  },
  {
   "cell_type": "code",
   "execution_count": 16,
   "metadata": {},
   "outputs": [
    {
     "data": {
      "text/html": [
       "<div>\n",
       "<style scoped>\n",
       "    .dataframe tbody tr th:only-of-type {\n",
       "        vertical-align: middle;\n",
       "    }\n",
       "\n",
       "    .dataframe tbody tr th {\n",
       "        vertical-align: top;\n",
       "    }\n",
       "\n",
       "    .dataframe thead th {\n",
       "        text-align: right;\n",
       "    }\n",
       "</style>\n",
       "<table border=\"1\" class=\"dataframe\">\n",
       "  <thead>\n",
       "    <tr style=\"text-align: right;\">\n",
       "      <th></th>\n",
       "      <th>index</th>\n",
       "      <th>permission_indx</th>\n",
       "      <th>transaction_indx</th>\n",
       "      <th>SlaafGender</th>\n",
       "      <th>SlaafNaamNieuw</th>\n",
       "      <th>BezitterGender</th>\n",
       "      <th>BezitterVoornaam</th>\n",
       "      <th>BezitterTussen</th>\n",
       "      <th>BezitterAchternaam</th>\n",
       "      <th>BezitterBeroep</th>\n",
       "      <th>BezitterStatus</th>\n",
       "      <th>BezitterEtniciteit</th>\n",
       "      <th>Match</th>\n",
       "    </tr>\n",
       "  </thead>\n",
       "  <tbody>\n",
       "    <tr>\n",
       "      <th>0</th>\n",
       "      <td>0</td>\n",
       "      <td>0</td>\n",
       "      <td>0</td>\n",
       "      <td>True</td>\n",
       "      <td>0.000000</td>\n",
       "      <td>False</td>\n",
       "      <td>0.000000</td>\n",
       "      <td>0.0</td>\n",
       "      <td>0.0</td>\n",
       "      <td>0.0</td>\n",
       "      <td>0.000000</td>\n",
       "      <td>0.0</td>\n",
       "      <td>0</td>\n",
       "    </tr>\n",
       "    <tr>\n",
       "      <th>1</th>\n",
       "      <td>1</td>\n",
       "      <td>0</td>\n",
       "      <td>1</td>\n",
       "      <td>True</td>\n",
       "      <td>0.250000</td>\n",
       "      <td>False</td>\n",
       "      <td>0.000000</td>\n",
       "      <td>0.0</td>\n",
       "      <td>0.0</td>\n",
       "      <td>0.0</td>\n",
       "      <td>0.000000</td>\n",
       "      <td>0.0</td>\n",
       "      <td>0</td>\n",
       "    </tr>\n",
       "    <tr>\n",
       "      <th>2</th>\n",
       "      <td>2</td>\n",
       "      <td>0</td>\n",
       "      <td>2</td>\n",
       "      <td>False</td>\n",
       "      <td>0.166626</td>\n",
       "      <td>False</td>\n",
       "      <td>0.000000</td>\n",
       "      <td>0.0</td>\n",
       "      <td>0.0</td>\n",
       "      <td>0.0</td>\n",
       "      <td>0.000000</td>\n",
       "      <td>0.0</td>\n",
       "      <td>0</td>\n",
       "    </tr>\n",
       "    <tr>\n",
       "      <th>3</th>\n",
       "      <td>3</td>\n",
       "      <td>0</td>\n",
       "      <td>3</td>\n",
       "      <td>True</td>\n",
       "      <td>0.111084</td>\n",
       "      <td>False</td>\n",
       "      <td>0.000000</td>\n",
       "      <td>0.0</td>\n",
       "      <td>0.0</td>\n",
       "      <td>0.0</td>\n",
       "      <td>0.000000</td>\n",
       "      <td>0.0</td>\n",
       "      <td>0</td>\n",
       "    </tr>\n",
       "    <tr>\n",
       "      <th>4</th>\n",
       "      <td>4</td>\n",
       "      <td>0</td>\n",
       "      <td>4</td>\n",
       "      <td>True</td>\n",
       "      <td>0.142822</td>\n",
       "      <td>False</td>\n",
       "      <td>0.000000</td>\n",
       "      <td>0.0</td>\n",
       "      <td>0.0</td>\n",
       "      <td>0.0</td>\n",
       "      <td>0.000000</td>\n",
       "      <td>0.0</td>\n",
       "      <td>0</td>\n",
       "    </tr>\n",
       "    <tr>\n",
       "      <th>...</th>\n",
       "      <td>...</td>\n",
       "      <td>...</td>\n",
       "      <td>...</td>\n",
       "      <td>...</td>\n",
       "      <td>...</td>\n",
       "      <td>...</td>\n",
       "      <td>...</td>\n",
       "      <td>...</td>\n",
       "      <td>...</td>\n",
       "      <td>...</td>\n",
       "      <td>...</td>\n",
       "      <td>...</td>\n",
       "      <td>...</td>\n",
       "    </tr>\n",
       "    <tr>\n",
       "      <th>2695495</th>\n",
       "      <td>237199</td>\n",
       "      <td>375</td>\n",
       "      <td>7192</td>\n",
       "      <td>True</td>\n",
       "      <td>0.166626</td>\n",
       "      <td>True</td>\n",
       "      <td>0.142822</td>\n",
       "      <td>0.0</td>\n",
       "      <td>0.0</td>\n",
       "      <td>0.0</td>\n",
       "      <td>0.090909</td>\n",
       "      <td>0.0</td>\n",
       "      <td>0</td>\n",
       "    </tr>\n",
       "    <tr>\n",
       "      <th>2695496</th>\n",
       "      <td>237200</td>\n",
       "      <td>375</td>\n",
       "      <td>7193</td>\n",
       "      <td>False</td>\n",
       "      <td>0.000000</td>\n",
       "      <td>True</td>\n",
       "      <td>0.142822</td>\n",
       "      <td>0.0</td>\n",
       "      <td>0.0</td>\n",
       "      <td>0.0</td>\n",
       "      <td>0.090909</td>\n",
       "      <td>0.0</td>\n",
       "      <td>0</td>\n",
       "    </tr>\n",
       "    <tr>\n",
       "      <th>2695497</th>\n",
       "      <td>237201</td>\n",
       "      <td>375</td>\n",
       "      <td>7194</td>\n",
       "      <td>False</td>\n",
       "      <td>0.000000</td>\n",
       "      <td>True</td>\n",
       "      <td>0.142822</td>\n",
       "      <td>0.0</td>\n",
       "      <td>0.0</td>\n",
       "      <td>0.0</td>\n",
       "      <td>0.090909</td>\n",
       "      <td>0.0</td>\n",
       "      <td>0</td>\n",
       "    </tr>\n",
       "    <tr>\n",
       "      <th>2695498</th>\n",
       "      <td>237202</td>\n",
       "      <td>375</td>\n",
       "      <td>7195</td>\n",
       "      <td>False</td>\n",
       "      <td>0.111084</td>\n",
       "      <td>True</td>\n",
       "      <td>0.125000</td>\n",
       "      <td>0.0</td>\n",
       "      <td>0.0</td>\n",
       "      <td>0.0</td>\n",
       "      <td>0.090909</td>\n",
       "      <td>0.0</td>\n",
       "      <td>0</td>\n",
       "    </tr>\n",
       "    <tr>\n",
       "      <th>2695499</th>\n",
       "      <td>237203</td>\n",
       "      <td>375</td>\n",
       "      <td>7196</td>\n",
       "      <td>True</td>\n",
       "      <td>0.428467</td>\n",
       "      <td>False</td>\n",
       "      <td>0.111084</td>\n",
       "      <td>0.0</td>\n",
       "      <td>0.0</td>\n",
       "      <td>0.0</td>\n",
       "      <td>0.061538</td>\n",
       "      <td>0.0</td>\n",
       "      <td>0</td>\n",
       "    </tr>\n",
       "  </tbody>\n",
       "</table>\n",
       "<p>2688312 rows × 13 columns</p>\n",
       "</div>"
      ],
      "text/plain": [
       "          index  permission_indx  transaction_indx  SlaafGender  \\\n",
       "0             0                0                 0         True   \n",
       "1             1                0                 1         True   \n",
       "2             2                0                 2        False   \n",
       "3             3                0                 3         True   \n",
       "4             4                0                 4         True   \n",
       "...         ...              ...               ...          ...   \n",
       "2695495  237199              375              7192         True   \n",
       "2695496  237200              375              7193        False   \n",
       "2695497  237201              375              7194        False   \n",
       "2695498  237202              375              7195        False   \n",
       "2695499  237203              375              7196         True   \n",
       "\n",
       "         SlaafNaamNieuw  BezitterGender  BezitterVoornaam  BezitterTussen  \\\n",
       "0              0.000000           False          0.000000             0.0   \n",
       "1              0.250000           False          0.000000             0.0   \n",
       "2              0.166626           False          0.000000             0.0   \n",
       "3              0.111084           False          0.000000             0.0   \n",
       "4              0.142822           False          0.000000             0.0   \n",
       "...                 ...             ...               ...             ...   \n",
       "2695495        0.166626            True          0.142822             0.0   \n",
       "2695496        0.000000            True          0.142822             0.0   \n",
       "2695497        0.000000            True          0.142822             0.0   \n",
       "2695498        0.111084            True          0.125000             0.0   \n",
       "2695499        0.428467           False          0.111084             0.0   \n",
       "\n",
       "         BezitterAchternaam  BezitterBeroep  BezitterStatus  \\\n",
       "0                       0.0             0.0        0.000000   \n",
       "1                       0.0             0.0        0.000000   \n",
       "2                       0.0             0.0        0.000000   \n",
       "3                       0.0             0.0        0.000000   \n",
       "4                       0.0             0.0        0.000000   \n",
       "...                     ...             ...             ...   \n",
       "2695495                 0.0             0.0        0.090909   \n",
       "2695496                 0.0             0.0        0.090909   \n",
       "2695497                 0.0             0.0        0.090909   \n",
       "2695498                 0.0             0.0        0.090909   \n",
       "2695499                 0.0             0.0        0.061538   \n",
       "\n",
       "         BezitterEtniciteit  Match  \n",
       "0                       0.0      0  \n",
       "1                       0.0      0  \n",
       "2                       0.0      0  \n",
       "3                       0.0      0  \n",
       "4                       0.0      0  \n",
       "...                     ...    ...  \n",
       "2695495                 0.0      0  \n",
       "2695496                 0.0      0  \n",
       "2695497                 0.0      0  \n",
       "2695498                 0.0      0  \n",
       "2695499                 0.0      0  \n",
       "\n",
       "[2688312 rows x 13 columns]"
      ]
     },
     "execution_count": 16,
     "metadata": {},
     "output_type": "execute_result"
    }
   ],
   "source": [
    "all_data"
   ]
  },
  {
   "cell_type": "code",
   "execution_count": 17,
   "metadata": {},
   "outputs": [
    {
     "data": {
      "image/png": "[encoded data removed]",
      "text/plain": [
       "<Figure size 432x288 with 1 Axes>"
      ]
     },
     "metadata": {
      "needs_background": "light"
     },
     "output_type": "display_data"
    }
   ],
   "source": [
    "sample1 = all_data[all_data[\"Match\"] == 1].sample(68)\n",
    "plt.scatter(sample1[\"SlaafNaamNieuw\"], sample1[\"BezitterVoornaam\"], color=\"r\")\n",
    "sample2 = all_data[all_data[\"Match\"] == 0].sample(5000)\n",
    "plt.scatter(sample2[\"SlaafNaamNieuw\"], sample2[\"BezitterVoornaam\"], color=\"b\")\n",
    "plt.xlabel(\"Slave Name Distance\")\n",
    "plt.ylabel(\"Owner First Name Distance\")\n",
    "\n",
    "plt.show()"
   ]
  },
  {
   "cell_type": "code",
   "execution_count": 18,
   "metadata": {},
   "outputs": [
    {
     "data": {
      "text/plain": [
       "0          0\n",
       "1          0\n",
       "2          0\n",
       "3          0\n",
       "4          0\n",
       "          ..\n",
       "2695495    0\n",
       "2695496    0\n",
       "2695497    0\n",
       "2695498    0\n",
       "2695499    0\n",
       "Name: Match, Length: 2688312, dtype: int64"
      ]
     },
     "execution_count": 18,
     "metadata": {},
     "output_type": "execute_result"
    }
   ],
   "source": [
    "y"
   ]
  },
  {
   "cell_type": "code",
   "execution_count": 19,
   "metadata": {},
   "outputs": [],
   "source": [
    "sample = pd.concat([sample1, sample2])\n",
    "y = sample[\"Match\"]"
   ]
  },
  {
   "cell_type": "code",
   "execution_count": 20,
   "metadata": {},
   "outputs": [],
   "source": [
    "def plot_decision_boundary(X, y, model, model_name=\"Default_model\", ax_labels=('x', 'y'), colors = (\"b\", \"r\"), labels=(\"non-matches\", \"matches\")):\n",
    "    clf = model.fit(X, y)\n",
    "\n",
    "    fig, ax = plt.subplots()\n",
    "    # title for the plots\n",
    "    title = (f'Decision surface of {model_name}')\n",
    "    # Set-up grid for plotting.\n",
    "    X0, X1 = X[:, 0], X[:, 1]\n",
    "    xx, yy = make_meshgrid(X0, X1)\n",
    "\n",
    "    plot_contours(ax, clf, xx, yy, cmap=plt.cm.coolwarm, alpha=0.8)\n",
    "    ax.scatter(X0, X1, c=y, cmap=plt.cm.coolwarm, s=20, edgecolors='k')\n",
    "    for i in range(0, 2):\n",
    "        mask = (y == i)\n",
    "        tX = X[mask]\n",
    "        ty = y[mask]\n",
    "        X0, X1 = tX[:, 0], tX[:, 1]\n",
    "        ax.scatter(X0, X1, c=colors[i], s=20, edgecolors='k', label=labels[i])\n",
    "    ax.set_ylabel(f'Owner {ax_labels[1]} similarity')\n",
    "    ax.set_xlabel(f'{ax_labels[0]} similarity')\n",
    "\n",
    "    ax.set_title(title)\n",
    "    ax.legend()\n",
    "    plt.savefig(figure_folder + f\"Decision_boundary_{model_name}.png\")\n",
    "    plt.show()"
   ]
  },
  {
   "cell_type": "code",
   "execution_count": 21,
   "metadata": {},
   "outputs": [],
   "source": [
    "from sklearn.svm import SVC\n",
    "import numpy as np\n",
    "import matplotlib.pyplot as plt\n",
    "from sklearn import svm, datasets\n",
    "\n",
    "X = sample.iloc[:, 3:-1][[\"SlaafNaamNieuw\", \"BezitterVoornaam\"]].values\n",
    "\n",
    "# model = svm.SVC(kernel='linear')\n",
    "# model = KNeighborsClassifier(n_neighbors=1)\n",
    "# model = make_pipeline(StandardScaler(), MLPClassifier(activation='relu', solver='adam', alpha=1e-5, hidden_layer_sizes=(30, 30), learning_rate='adaptive', random_state=1, verbose=False))\n",
    "# model = make_pipeline(StandardScaler(),svm.SVC())\n",
    "# model = AdaBoostClassifier(n_estimators=100, random_state=0)"
   ]
  },
  {
   "cell_type": "code",
   "execution_count": 22,
   "metadata": {},
   "outputs": [
    {
     "data": {
      "image/png": "[encoded data removed]",
      "text/plain": [
       "<Figure size 432x288 with 1 Axes>"
      ]
     },
     "metadata": {
      "needs_background": "light"
     },
     "output_type": "display_data"
    }
   ],
   "source": [
    "plot_decision_boundary(X, y, make_pipeline(StandardScaler(), LogisticRegression()), \"Logistic_regression\", (\"slave name\", \"owner first name\"))"
   ]
  },
  {
   "cell_type": "code",
   "execution_count": 23,
   "metadata": {},
   "outputs": [
    {
     "data": {
      "image/png": "[encoded data removed]",
      "text/plain": [
       "<Figure size 432x288 with 1 Axes>"
      ]
     },
     "metadata": {
      "needs_background": "light"
     },
     "output_type": "display_data"
    }
   ],
   "source": [
    "plot_decision_boundary(X, y, make_pipeline(StandardScaler(), AdaBoostClassifier(n_estimators=30, random_state=0)), \"ADAboost\", (\"slave name\", \"owner first name\"))"
   ]
  },
  {
   "cell_type": "code",
   "execution_count": 24,
   "metadata": {},
   "outputs": [
    {
     "data": {
      "image/png": "[encoded data removed]",
      "text/plain": [
       "<Figure size 432x288 with 1 Axes>"
      ]
     },
     "metadata": {
      "needs_background": "light"
     },
     "output_type": "display_data"
    }
   ],
   "source": [
    "plot_decision_boundary(X, y, make_pipeline(StandardScaler(), MLPClassifier(activation='relu', solver='adam', alpha=1e-5, hidden_layer_sizes=(30, 30), learning_rate='adaptive', random_state=1, verbose=False)), \"Neural Network\", (\"slave name\", \"owner first name\"))"
   ]
  },
  {
   "cell_type": "code",
   "execution_count": 25,
   "metadata": {},
   "outputs": [],
   "source": [
    "sample = pd.concat([sample1, sample2])\n",
    "y = sample[\"Match\"]"
   ]
  },
  {
   "cell_type": "code",
   "execution_count": 26,
   "metadata": {},
   "outputs": [],
   "source": [
    "clf = LogisticRegression().fit(sample[[\"SlaafNaamNieuw\", \"BezitterVoornaam\"]], sample[\"Match\"])"
   ]
  },
  {
   "cell_type": "code",
   "execution_count": 27,
   "metadata": {},
   "outputs": [
    {
     "data": {
      "text/plain": [
       "array([1, 1, 1, ..., 0, 0, 0], dtype=int64)"
      ]
     },
     "execution_count": 27,
     "metadata": {},
     "output_type": "execute_result"
    }
   ],
   "source": [
    "clf.predict(sample[[\"SlaafNaamNieuw\", \"BezitterVoornaam\"]])"
   ]
  },
  {
   "cell_type": "code",
   "execution_count": null,
   "metadata": {},
   "outputs": [],
   "source": []
  },
  {
   "cell_type": "code",
   "execution_count": 28,
   "metadata": {},
   "outputs": [
    {
     "data": {
      "text/plain": [
       "1143156    0\n",
       "556077     0\n",
       "1180356    0\n",
       "421248     0\n",
       "1155921    0\n",
       "          ..\n",
       "110268     0\n",
       "1699931    0\n",
       "2363518    0\n",
       "2236272    0\n",
       "2226298    0\n",
       "Name: Match, Length: 1881818, dtype: int64"
      ]
     },
     "execution_count": 28,
     "metadata": {},
     "output_type": "execute_result"
    }
   ],
   "source": [
    "y_train"
   ]
  },
  {
   "cell_type": "code",
   "execution_count": 29,
   "metadata": {},
   "outputs": [],
   "source": [
    "Classifiers = dict()"
   ]
  },
  {
   "cell_type": "markdown",
   "metadata": {},
   "source": [
    "# Normalizing data"
   ]
  },
  {
   "cell_type": "code",
   "execution_count": 30,
   "metadata": {
    "scrolled": true
   },
   "outputs": [
    {
     "name": "stdout",
     "output_type": "stream",
     "text": [
      "X:  (1881818, 9)\n",
      "y:  (1881818,)\n"
     ]
    }
   ],
   "source": [
    "print(\"X: \", X_train.shape)\n",
    "print(\"y: \", y_train.shape)"
   ]
  },
  {
   "cell_type": "markdown",
   "metadata": {},
   "source": [
    "# Blocking"
   ]
  },
  {
   "cell_type": "code",
   "execution_count": 31,
   "metadata": {},
   "outputs": [
    {
     "name": "stdout",
     "output_type": "stream",
     "text": [
      "1881818 rows before blocking\n"
     ]
    }
   ],
   "source": [
    "print(f\"{X_train.shape[0]} rows before blocking\")"
   ]
  },
  {
   "cell_type": "code",
   "execution_count": 32,
   "metadata": {},
   "outputs": [],
   "source": [
    "mask = (X_train[\"SlaafNaamNieuw\"] > 0.3) & (X_train[\"SlaafGender\"] > 0.1) & (X_train[\"BezitterAchternaam\"] > 0.1) & (X_train[\"BezitterVoornaam\"] > 0.1)"
   ]
  },
  {
   "cell_type": "code",
   "execution_count": null,
   "metadata": {},
   "outputs": [],
   "source": []
  },
  {
   "cell_type": "code",
   "execution_count": null,
   "metadata": {},
   "outputs": [],
   "source": []
  },
  {
   "cell_type": "code",
   "execution_count": 33,
   "metadata": {},
   "outputs": [],
   "source": [
    "X_train = X_train[mask]\n",
    "y_train = y_train[mask]"
   ]
  },
  {
   "cell_type": "code",
   "execution_count": 34,
   "metadata": {},
   "outputs": [],
   "source": [
    "# d = distances\n",
    "# d = d[d[\"SlaafNaamNieuw\"] > 0.3]\n",
    "# d = d[d[\"SlaafGender\"] > 0.3]\n",
    "# d = d[d[\"BezitterAchternaam\"] > 0.1]\n",
    "# d = d[d[\"BezitterVoornaam\"] > 0.1]\n",
    "# distances = d"
   ]
  },
  {
   "cell_type": "code",
   "execution_count": 35,
   "metadata": {},
   "outputs": [
    {
     "name": "stdout",
     "output_type": "stream",
     "text": [
      "40961 rows after blocking\n"
     ]
    }
   ],
   "source": [
    "print(f\"{X_train.shape[0]} rows after blocking\")"
   ]
  },
  {
   "cell_type": "code",
   "execution_count": null,
   "metadata": {},
   "outputs": [],
   "source": []
  },
  {
   "cell_type": "code",
   "execution_count": null,
   "metadata": {},
   "outputs": [],
   "source": []
  },
  {
   "cell_type": "code",
   "execution_count": null,
   "metadata": {},
   "outputs": [],
   "source": []
  },
  {
   "cell_type": "markdown",
   "metadata": {},
   "source": [
    "# Oversampling"
   ]
  },
  {
   "cell_type": "code",
   "execution_count": null,
   "metadata": {},
   "outputs": [],
   "source": []
  },
  {
   "cell_type": "code",
   "execution_count": null,
   "metadata": {},
   "outputs": [],
   "source": []
  },
  {
   "cell_type": "code",
   "execution_count": 36,
   "metadata": {},
   "outputs": [
    {
     "data": {
      "text/plain": [
       "(array([ 1554,  1826,  3794,  6825,  8699,  8731,  9889, 10000, 10003,\n",
       "        11629, 11715, 12759, 14888, 16267, 16609, 17828, 17908, 19036,\n",
       "        20516, 20851, 24771, 25549, 25657, 25827, 28885, 32912, 36702,\n",
       "        37023, 37267, 38160, 39217, 39505], dtype=int64),)"
      ]
     },
     "execution_count": 36,
     "metadata": {},
     "output_type": "execute_result"
    }
   ],
   "source": [
    "np.where(y_train == 1)"
   ]
  },
  {
   "cell_type": "code",
   "execution_count": 37,
   "metadata": {},
   "outputs": [],
   "source": [
    "# ros = RandomUnderSampler()\n",
    "# X_train, y_train = RandomUnderSampler().fit_resample(X_train, y_train)"
   ]
  },
  {
   "cell_type": "code",
   "execution_count": null,
   "metadata": {},
   "outputs": [],
   "source": []
  },
  {
   "cell_type": "code",
   "execution_count": null,
   "metadata": {},
   "outputs": [],
   "source": []
  },
  {
   "cell_type": "code",
   "execution_count": 38,
   "metadata": {},
   "outputs": [],
   "source": [
    "X_train = X_train.to_numpy().astype(float)\n",
    "y_train = y_train.to_numpy().astype(float)\n",
    "\n",
    "X_test = X_test.to_numpy().astype(float)\n",
    "y_test = y_test.to_numpy().astype(float)"
   ]
  },
  {
   "cell_type": "markdown",
   "metadata": {},
   "source": [
    "# Rule based"
   ]
  },
  {
   "cell_type": "code",
   "execution_count": 39,
   "metadata": {},
   "outputs": [],
   "source": [
    "class Rule_based_classifier():\n",
    "    def __init__(self, alg):\n",
    "        self.alg = alg\n",
    "        \n",
    "    def predict_proba(self, X_test):\n",
    "        pred = self.alg(X_test)\n",
    "        return pred\n",
    "    \n",
    "    def predict(self, X_test, thresh):\n",
    "        pred = self.alg(X_test)\n",
    "        return (pred >= thresh).astype(float)"
   ]
  },
  {
   "cell_type": "markdown",
   "metadata": {},
   "source": [
    "## Exact match"
   ]
  },
  {
   "cell_type": "code",
   "execution_count": 40,
   "metadata": {},
   "outputs": [],
   "source": [
    "def exact_match(X_test):\n",
    "    pred = []\n",
    "    for x in X_test:\n",
    "        pred.append((x == 1.).sum())\n",
    "    return np.array(pred)/X_test.shape[1]"
   ]
  },
  {
   "cell_type": "code",
   "execution_count": null,
   "metadata": {},
   "outputs": [],
   "source": []
  },
  {
   "cell_type": "code",
   "execution_count": 41,
   "metadata": {},
   "outputs": [],
   "source": [
    "EM = Rule_based_classifier(exact_match)\n",
    "pred = EM.predict(X_test, 0.5)"
   ]
  },
  {
   "cell_type": "code",
   "execution_count": 42,
   "metadata": {},
   "outputs": [
    {
     "data": {
      "image/png": "[encoded data removed]",
      "text/plain": [
       "<Figure size 432x288 with 2 Axes>"
      ]
     },
     "metadata": {
      "needs_background": "light"
     },
     "output_type": "display_data"
    },
    {
     "name": "stdout",
     "output_type": "stream",
     "text": [
      "recall score:  0.3548387096774194\n",
      "precision score:  0.06626506024096386\n",
      "f1 score:  0.11167512690355332\n"
     ]
    }
   ],
   "source": [
    "evaluate_prediction(pred, y_test, model_name = \"Exact Match\")"
   ]
  },
  {
   "cell_type": "code",
   "execution_count": 43,
   "metadata": {},
   "outputs": [],
   "source": [
    "Classifiers[\"Exact Match\"] = EM"
   ]
  },
  {
   "cell_type": "markdown",
   "metadata": {},
   "source": [
    "# Fuzzy match"
   ]
  },
  {
   "cell_type": "code",
   "execution_count": 44,
   "metadata": {},
   "outputs": [],
   "source": [
    "def fuzzy_match(X_test):\n",
    "    pred = []\n",
    "    for x in X_test:\n",
    "        pred.append((x > 0.1).sum())\n",
    "    return np.array(pred)/X_test.shape[1]"
   ]
  },
  {
   "cell_type": "code",
   "execution_count": 45,
   "metadata": {},
   "outputs": [],
   "source": [
    "FM = Rule_based_classifier(fuzzy_match)\n",
    "pred = FM.predict(X_test, 1.)"
   ]
  },
  {
   "cell_type": "code",
   "execution_count": 46,
   "metadata": {},
   "outputs": [
    {
     "data": {
      "image/png": "[encoded data removed]",
      "text/plain": [
       "<Figure size 432x288 with 2 Axes>"
      ]
     },
     "metadata": {
      "needs_background": "light"
     },
     "output_type": "display_data"
    },
    {
     "name": "stdout",
     "output_type": "stream",
     "text": [
      "recall score:  0.0\n"
     ]
    },
    {
     "name": "stderr",
     "output_type": "stream",
     "text": [
      "C:\\Users\\basvd\\anaconda3\\lib\\site-packages\\sklearn\\metrics\\_classification.py:1308: UndefinedMetricWarning: Precision is ill-defined and being set to 0.0 due to no predicted samples. Use `zero_division` parameter to control this behavior.\n",
      "  _warn_prf(average, modifier, msg_start, len(result))\n"
     ]
    },
    {
     "name": "stdout",
     "output_type": "stream",
     "text": [
      "precision score:  0.0\n",
      "f1 score:  0.0\n"
     ]
    }
   ],
   "source": [
    "evaluate_prediction(pred, y_test, model_name = \"Fuzzy Match\")"
   ]
  },
  {
   "cell_type": "code",
   "execution_count": 47,
   "metadata": {},
   "outputs": [],
   "source": [
    "Classifiers[\"Fuzzy Match\"] = FM"
   ]
  },
  {
   "cell_type": "markdown",
   "metadata": {},
   "source": [
    "# All 0"
   ]
  },
  {
   "cell_type": "code",
   "execution_count": 48,
   "metadata": {},
   "outputs": [
    {
     "data": {
      "text/plain": [
       "array([0., 0., 0., ..., 0., 0., 0.])"
      ]
     },
     "execution_count": 48,
     "metadata": {},
     "output_type": "execute_result"
    }
   ],
   "source": [
    "pred = np.zeros(len(y_test))\n",
    "pred"
   ]
  },
  {
   "cell_type": "code",
   "execution_count": 49,
   "metadata": {},
   "outputs": [
    {
     "data": {
      "image/png": "[encoded data removed]",
      "text/plain": [
       "<Figure size 432x288 with 2 Axes>"
      ]
     },
     "metadata": {
      "needs_background": "light"
     },
     "output_type": "display_data"
    },
    {
     "name": "stdout",
     "output_type": "stream",
     "text": [
      "recall score:  0.0\n"
     ]
    },
    {
     "name": "stderr",
     "output_type": "stream",
     "text": [
      "C:\\Users\\basvd\\anaconda3\\lib\\site-packages\\sklearn\\metrics\\_classification.py:1308: UndefinedMetricWarning: Precision is ill-defined and being set to 0.0 due to no predicted samples. Use `zero_division` parameter to control this behavior.\n",
      "  _warn_prf(average, modifier, msg_start, len(result))\n"
     ]
    },
    {
     "name": "stdout",
     "output_type": "stream",
     "text": [
      "precision score:  0.0\n",
      "f1 score:  0.0\n"
     ]
    }
   ],
   "source": [
    "evaluate_prediction(pred, y_test, model_name=\"All 0\")"
   ]
  },
  {
   "cell_type": "markdown",
   "metadata": {},
   "source": [
    "# K nearest neighbors"
   ]
  },
  {
   "cell_type": "code",
   "execution_count": 50,
   "metadata": {},
   "outputs": [
    {
     "data": {
      "image/png": "[encoded data removed]",
      "text/plain": [
       "<Figure size 432x288 with 2 Axes>"
      ]
     },
     "metadata": {
      "needs_background": "light"
     },
     "output_type": "display_data"
    },
    {
     "name": "stdout",
     "output_type": "stream",
     "text": [
      "recall score:  0.6774193548387096\n",
      "precision score:  0.9130434782608695\n",
      "f1 score:  0.7777777777777777\n"
     ]
    },
    {
     "data": {
      "image/png": "[encoded data removed]",
      "text/plain": [
       "<Figure size 432x288 with 1 Axes>"
      ]
     },
     "metadata": {
      "needs_background": "light"
     },
     "output_type": "display_data"
    }
   ],
   "source": [
    "from sklearn.neighbors import KNeighborsClassifier\n",
    "KNNClf = fit_and_test_classifier(KNeighborsClassifier(n_neighbors=1), X_train, X_test, y_train, y_test, model_name=\"KNN\", figure_folder=figure_folder)\n",
    "\n",
    "Classifiers[\"KNeigbors classifier\"] = KNNClf"
   ]
  },
  {
   "cell_type": "markdown",
   "metadata": {},
   "source": [
    "# Logistic regression"
   ]
  },
  {
   "cell_type": "code",
   "execution_count": 51,
   "metadata": {},
   "outputs": [
    {
     "data": {
      "image/png": "[encoded data removed]",
      "text/plain": [
       "<Figure size 432x288 with 2 Axes>"
      ]
     },
     "metadata": {
      "needs_background": "light"
     },
     "output_type": "display_data"
    },
    {
     "name": "stdout",
     "output_type": "stream",
     "text": [
      "recall score:  0.6451612903225806\n",
      "precision score:  0.9523809523809523\n",
      "f1 score:  0.7692307692307692\n"
     ]
    },
    {
     "data": {
      "image/png": "[encoded data removed]",
      "text/plain": [
       "<Figure size 432x288 with 1 Axes>"
      ]
     },
     "metadata": {
      "needs_background": "light"
     },
     "output_type": "display_data"
    }
   ],
   "source": [
    "est = make_pipeline(StandardScaler(),AdaBoostClassifier(n_estimators=30, random_state=0))\n",
    "LGClf = fit_and_test_classifier(est, X_train, X_test, y_train, y_test, model_name=\"ADAboost\", figure_folder=figure_folder)\n",
    "\n",
    "Classifiers[\"Logistic Regression\"] = LGClf"
   ]
  },
  {
   "cell_type": "code",
   "execution_count": null,
   "metadata": {},
   "outputs": [],
   "source": []
  },
  {
   "cell_type": "code",
   "execution_count": 52,
   "metadata": {},
   "outputs": [
    {
     "data": {
      "image/png": "[encoded data removed]",
      "text/plain": [
       "<Figure size 432x288 with 2 Axes>"
      ]
     },
     "metadata": {
      "needs_background": "light"
     },
     "output_type": "display_data"
    },
    {
     "name": "stdout",
     "output_type": "stream",
     "text": [
      "recall score:  0.5161290322580645\n",
      "precision score:  0.8888888888888888\n",
      "f1 score:  0.6530612244897959\n"
     ]
    },
    {
     "data": {
      "image/png": "[encoded data removed]",
      "text/plain": [
       "<Figure size 432x288 with 1 Axes>"
      ]
     },
     "metadata": {
      "needs_background": "light"
     },
     "output_type": "display_data"
    }
   ],
   "source": [
    "est = make_pipeline(StandardScaler(), LogisticRegression())\n",
    "LGClf = fit_and_test_classifier(est, X_train, X_test, y_train, y_test, model_name=\"Log_reg\", figure_folder=figure_folder)\n",
    "\n",
    "Classifiers[\"Logistic Regression\"] = LGClf"
   ]
  },
  {
   "cell_type": "code",
   "execution_count": 53,
   "metadata": {},
   "outputs": [
    {
     "data": {
      "text/plain": [
       "array([[ 0.        ,  2.59744965,  0.1965662 ,  0.88618936,  0.11568327,\n",
       "         0.65890996,  0.52320332,  0.48134031, -0.05626728]])"
      ]
     },
     "execution_count": 53,
     "metadata": {},
     "output_type": "execute_result"
    }
   ],
   "source": [
    "LGClf.steps[1][1].coef_"
   ]
  },
  {
   "cell_type": "code",
   "execution_count": 54,
   "metadata": {},
   "outputs": [
    {
     "data": {
      "image/png": "[encoded data removed]",
      "text/plain": [
       "<Figure size 432x288 with 1 Axes>"
      ]
     },
     "metadata": {
      "needs_background": "light"
     },
     "output_type": "display_data"
    }
   ],
   "source": [
    "fig = plt.figure()\n",
    "# ax = fig.add_axes([0,0,1,1])\n",
    "langs = data.columns\n",
    "langs = [\"Slave gender\", \"Slave new name\", \"Owner gender\", \"Owner first name\", \"Owner second name\", \"Owner last name\", \"Owner occupation\", \"Owner status\", \"Owner Ethnicity\"]\n",
    "students = LGClf.steps[1][1].coef_[0]\n",
    "plt.bar(langs,students)\n",
    "plt.xticks(rotation = 45)\n",
    "plt.savefig(figure_folder + \"Coefs.jpg\")\n",
    "plt.show()"
   ]
  },
  {
   "cell_type": "code",
   "execution_count": null,
   "metadata": {},
   "outputs": [],
   "source": []
  },
  {
   "cell_type": "code",
   "execution_count": 55,
   "metadata": {},
   "outputs": [
    {
     "data": {
      "text/plain": [
       "Index(['SlaafGender', 'SlaafNaamNieuw', 'BezitterGender', 'BezitterVoornaam',\n",
       "       'BezitterTussen', 'BezitterAchternaam', 'BezitterBeroep',\n",
       "       'BezitterStatus', 'BezitterEtniciteit'],\n",
       "      dtype='object')"
      ]
     },
     "execution_count": 55,
     "metadata": {},
     "output_type": "execute_result"
    }
   ],
   "source": [
    "data.columns"
   ]
  },
  {
   "cell_type": "code",
   "execution_count": null,
   "metadata": {},
   "outputs": [],
   "source": []
  },
  {
   "cell_type": "code",
   "execution_count": 56,
   "metadata": {},
   "outputs": [
    {
     "data": {
      "image/png": "[encoded data removed]",
      "text/plain": [
       "<Figure size 432x288 with 2 Axes>"
      ]
     },
     "metadata": {
      "needs_background": "light"
     },
     "output_type": "display_data"
    },
    {
     "name": "stdout",
     "output_type": "stream",
     "text": [
      "recall score:  0.5161290322580645\n",
      "precision score:  0.8888888888888888\n",
      "f1 score:  0.6530612244897959\n"
     ]
    },
    {
     "data": {
      "image/png": "[encoded data removed]",
      "text/plain": [
       "<Figure size 432x288 with 1 Axes>"
      ]
     },
     "metadata": {
      "needs_background": "light"
     },
     "output_type": "display_data"
    }
   ],
   "source": [
    "from sklearn.linear_model import LogisticRegressionCV\n",
    "\n",
    "est = make_pipeline(StandardScaler(), LogisticRegressionCV(scoring='f1'))\n",
    "LGClf = fit_and_test_classifier(est, X_train, X_test, y_train, y_test, model_name=\"Log_reg2\", figure_folder=figure_folder)\n",
    "\n",
    "Classifiers[\"Logistic Regression\"] = LGClf"
   ]
  },
  {
   "cell_type": "code",
   "execution_count": null,
   "metadata": {},
   "outputs": [],
   "source": []
  },
  {
   "cell_type": "code",
   "execution_count": null,
   "metadata": {},
   "outputs": [],
   "source": []
  },
  {
   "cell_type": "markdown",
   "metadata": {},
   "source": [
    "# Naive Bayes"
   ]
  },
  {
   "cell_type": "code",
   "execution_count": 57,
   "metadata": {},
   "outputs": [
    {
     "data": {
      "image/png": "[encoded data removed]",
      "text/plain": [
       "<Figure size 432x288 with 2 Axes>"
      ]
     },
     "metadata": {
      "needs_background": "light"
     },
     "output_type": "display_data"
    },
    {
     "name": "stdout",
     "output_type": "stream",
     "text": [
      "recall score:  0.0\n"
     ]
    },
    {
     "name": "stderr",
     "output_type": "stream",
     "text": [
      "C:\\Users\\basvd\\anaconda3\\lib\\site-packages\\sklearn\\metrics\\_classification.py:1308: UndefinedMetricWarning: Precision is ill-defined and being set to 0.0 due to no predicted samples. Use `zero_division` parameter to control this behavior.\n",
      "  _warn_prf(average, modifier, msg_start, len(result))\n"
     ]
    },
    {
     "name": "stdout",
     "output_type": "stream",
     "text": [
      "precision score:  0.0\n",
      "f1 score:  0.0\n"
     ]
    },
    {
     "data": {
      "image/png": "[encoded data removed]",
      "text/plain": [
       "<Figure size 432x288 with 1 Axes>"
      ]
     },
     "metadata": {
      "needs_background": "light"
     },
     "output_type": "display_data"
    }
   ],
   "source": [
    "from sklearn.naive_bayes import MultinomialNB\n",
    "\n",
    "est = make_pipeline(Normalizer(), MultinomialNB())\n",
    "NBClf = fit_and_test_classifier(est, X_train, X_test, y_train, y_test, model_name=\"NB\", figure_folder=figure_folder)\n",
    "\n",
    "Classifiers[\"Naive Bayes\"] = NBClf"
   ]
  },
  {
   "cell_type": "markdown",
   "metadata": {},
   "source": [
    "# SVM"
   ]
  },
  {
   "cell_type": "code",
   "execution_count": 58,
   "metadata": {},
   "outputs": [],
   "source": [
    "# from sklearn.svm import SVC\n",
    "# fit_and_test_classifier(SVC(gamma=2, C=1), X_train, y_train, y_test)"
   ]
  },
  {
   "cell_type": "markdown",
   "metadata": {},
   "source": [
    "# New technique"
   ]
  },
  {
   "cell_type": "code",
   "execution_count": 59,
   "metadata": {},
   "outputs": [
    {
     "data": {
      "image/png": "[encoded data removed]",
      "text/plain": [
       "<Figure size 432x288 with 2 Axes>"
      ]
     },
     "metadata": {
      "needs_background": "light"
     },
     "output_type": "display_data"
    },
    {
     "name": "stdout",
     "output_type": "stream",
     "text": [
      "recall score:  0.3225806451612903\n",
      "precision score:  0.8333333333333334\n",
      "f1 score:  0.4651162790697674\n"
     ]
    },
    {
     "data": {
      "text/plain": [
       "Pipeline(steps=[('standardscaler', StandardScaler()),\n",
       "                ('sgdclassifier', SGDClassifier(loss='perceptron'))])"
      ]
     },
     "execution_count": 59,
     "metadata": {},
     "output_type": "execute_result"
    },
    {
     "data": {
      "image/png": "[encoded data removed]",
      "text/plain": [
       "<Figure size 432x288 with 1 Axes>"
      ]
     },
     "metadata": {
      "needs_background": "light"
     },
     "output_type": "display_data"
    }
   ],
   "source": [
    "from sklearn.linear_model import SGDClassifier\n",
    "est = make_pipeline(StandardScaler(), SGDClassifier(loss='perceptron'))\n",
    "\n",
    "fit_and_test_classifier(est, X_train, X_test, y_train, y_test, model_name=\"SGD\", figure_folder=figure_folder)"
   ]
  },
  {
   "cell_type": "code",
   "execution_count": 60,
   "metadata": {},
   "outputs": [
    {
     "data": {
      "text/plain": [
       "array([1.        , 0.33325195, 0.        , 0.22216797, 0.        ,\n",
       "       0.11108398, 0.        , 0.        , 0.        ])"
      ]
     },
     "execution_count": 60,
     "metadata": {},
     "output_type": "execute_result"
    }
   ],
   "source": [
    "X_train[0]"
   ]
  },
  {
   "cell_type": "code",
   "execution_count": null,
   "metadata": {},
   "outputs": [],
   "source": []
  },
  {
   "cell_type": "markdown",
   "metadata": {},
   "source": [
    "# Evaluating results"
   ]
  },
  {
   "cell_type": "code",
   "execution_count": null,
   "metadata": {},
   "outputs": [],
   "source": []
  },
  {
   "cell_type": "code",
   "execution_count": null,
   "metadata": {},
   "outputs": [],
   "source": []
  },
  {
   "cell_type": "code",
   "execution_count": null,
   "metadata": {},
   "outputs": [],
   "source": []
  },
  {
   "cell_type": "code",
   "execution_count": 61,
   "metadata": {
    "scrolled": true
   },
   "outputs": [
    {
     "data": {
      "image/png": "[encoded data removed]",
      "text/plain": [
       "<Figure size 432x288 with 2 Axes>"
      ]
     },
     "metadata": {
      "needs_background": "light"
     },
     "output_type": "display_data"
    },
    {
     "name": "stdout",
     "output_type": "stream",
     "text": [
      "recall score:  0.5806451612903226\n",
      "precision score:  1.0\n",
      "f1 score:  0.7346938775510204\n"
     ]
    },
    {
     "data": {
      "image/png": "[encoded data removed]",
      "text/plain": [
       "<Figure size 432x288 with 1 Axes>"
      ]
     },
     "metadata": {
      "needs_background": "light"
     },
     "output_type": "display_data"
    }
   ],
   "source": [
    "est = make_pipeline(StandardScaler(), MLPClassifier(activation='relu', solver='adam', alpha=1e-5, hidden_layer_sizes=(30, 30), learning_rate='adaptive', random_state=1, verbose=False))\n",
    "\n",
    "NNClf = fit_and_test_classifier(est, X_train, X_test, y_train, y_test, model_name=\"MLP\", figure_folder=figure_folder)\n",
    "Classifiers[\"Neural network\"] = NNClf"
   ]
  },
  {
   "cell_type": "code",
   "execution_count": null,
   "metadata": {},
   "outputs": [],
   "source": []
  },
  {
   "cell_type": "code",
   "execution_count": null,
   "metadata": {},
   "outputs": [],
   "source": []
  },
  {
   "cell_type": "markdown",
   "metadata": {},
   "source": [
    "# Tensorflow"
   ]
  },
  {
   "cell_type": "code",
   "execution_count": 62,
   "metadata": {},
   "outputs": [],
   "source": [
    "import tensorflow as tf\n",
    "from tensorflow import keras\n",
    "import tensorflow_transform as tft\n",
    "\n",
    "tf.compat.v1.disable_eager_execution()"
   ]
  },
  {
   "cell_type": "code",
   "execution_count": null,
   "metadata": {},
   "outputs": [],
   "source": []
  },
  {
   "cell_type": "code",
   "execution_count": 63,
   "metadata": {},
   "outputs": [],
   "source": [
    "# model = tf.keras.Sequential([\n",
    "#     tf.keras.layers.InputLayer(X_train.shape[-1]),\n",
    "#     tf.keras.layers.Dense(3, activation='relu'),\n",
    "#     tf.keras.layers.Dense(3, activation='relu'),\n",
    "#     tf.keras.layers.Dense(3, activation='relu'),\n",
    "#     tf.keras.layers.Dense(1, activation='softmax'),\n",
    "# ])"
   ]
  },
  {
   "cell_type": "code",
   "execution_count": 64,
   "metadata": {},
   "outputs": [],
   "source": [
    "# model.compile(\"adam\", loss='binary_crossentropy', metrics=[\"Accuracy\"])"
   ]
  },
  {
   "cell_type": "code",
   "execution_count": 65,
   "metadata": {},
   "outputs": [],
   "source": [
    "# model.fit(X_train, tft.scale_to_0_1(y_train), steps_per_epoch=10)"
   ]
  },
  {
   "cell_type": "code",
   "execution_count": null,
   "metadata": {},
   "outputs": [],
   "source": []
  },
  {
   "cell_type": "code",
   "execution_count": 66,
   "metadata": {},
   "outputs": [],
   "source": [
    "# est = make_pipeline(StandardScaler(), model)\n",
    "\n",
    "# fit_and_test_classifier(est, X_train, y_train, y_test)"
   ]
  },
  {
   "cell_type": "code",
   "execution_count": 67,
   "metadata": {},
   "outputs": [],
   "source": [
    "# model.fit(X_train, y_train, batch_size = 128)"
   ]
  },
  {
   "cell_type": "code",
   "execution_count": null,
   "metadata": {},
   "outputs": [],
   "source": []
  },
  {
   "cell_type": "code",
   "execution_count": null,
   "metadata": {},
   "outputs": [],
   "source": []
  },
  {
   "cell_type": "code",
   "execution_count": 68,
   "metadata": {},
   "outputs": [],
   "source": [
    "# pred = model.predict(X_test)\n",
    "# cm = confusion_matrix(y_test, pred)\n",
    "# disp = ConfusionMatrixDisplay(confusion_matrix=cm)\n",
    "# disp.plot()"
   ]
  },
  {
   "cell_type": "code",
   "execution_count": null,
   "metadata": {},
   "outputs": [],
   "source": []
  },
  {
   "cell_type": "code",
   "execution_count": 69,
   "metadata": {},
   "outputs": [],
   "source": [
    "# roc curve and auc on an imbalanced dataset\n",
    "from sklearn.datasets import make_classification\n",
    "from sklearn.linear_model import LogisticRegression\n",
    "from sklearn.model_selection import train_test_split\n",
    "from sklearn.metrics import roc_curve\n",
    "from sklearn.metrics import roc_auc_score\n",
    "from matplotlib import pyplot"
   ]
  },
  {
   "cell_type": "code",
   "execution_count": null,
   "metadata": {},
   "outputs": [],
   "source": []
  },
  {
   "cell_type": "code",
   "execution_count": null,
   "metadata": {},
   "outputs": [],
   "source": []
  },
  {
   "cell_type": "code",
   "execution_count": 70,
   "metadata": {},
   "outputs": [],
   "source": [
    "# from sklearn.linear_model import LogisticRegression\n",
    "\n",
    "# model = make_pipeline(StandardScaler(), LogisticRegression())\n",
    "# model = fit_and_test_classifier(model, X_train, y_train, y_test)"
   ]
  },
  {
   "cell_type": "code",
   "execution_count": null,
   "metadata": {},
   "outputs": [
    {
     "name": "stdout",
     "output_type": "stream",
     "text": [
      "Exact Match: ROC AUC=0.978\n",
      "Fuzzy Match: ROC AUC=0.946\n"
     ]
    }
   ],
   "source": [
    "for name in Classifiers:\n",
    "    model = Classifiers[name]\n",
    "#     print(\"name:\", name)\n",
    "    # predict probabilities\n",
    "    lr_probs = model.predict_proba(X_test)\n",
    "    # keep probabilities for the positive outcome only\n",
    "#     print(\"lr_probs\", lr_probs)\n",
    "    if type(lr_probs[0]) == np.ndarray:\n",
    "        lr_probs = lr_probs[:, 1]\n",
    "    # calculate scores\n",
    "    lr_auc = roc_auc_score(y_test, lr_probs)\n",
    "    # summarize scores\n",
    "    print(name + ': ROC AUC=%.3f' % (lr_auc))\n",
    "    # calculate roc curves\n",
    "    lr_fpr, lr_tpr, _ = roc_curve(y_test, lr_probs)\n",
    "    # plot the roc curve for the model\n",
    "    pyplot.plot(lr_fpr, lr_tpr, marker='.', label=name)\n",
    "    \n",
    "ns_probs = [0 for _ in range(len(y_test))]\n",
    "ns_auc = roc_auc_score(y_test, ns_probs)\n",
    "ns_fpr, ns_tpr, _ = roc_curve(y_test, ns_probs)\n",
    "pyplot.plot(ns_fpr, ns_tpr, linestyle='--', label='No Skill')\n",
    "print('No Skill: ROC AUC=%.3f' % (ns_auc))\n",
    "\n",
    "# axis labels\n",
    "pyplot.xlabel('False Positive Rate')\n",
    "pyplot.ylabel('True Positive Rate')\n",
    "# show the legend\n",
    "pyplot.legend()\n",
    "# show the plot\n",
    "pyplot.show()"
   ]
  },
  {
   "cell_type": "code",
   "execution_count": null,
   "metadata": {},
   "outputs": [],
   "source": []
  },
  {
   "cell_type": "code",
   "execution_count": null,
   "metadata": {},
   "outputs": [],
   "source": []
  },
  {
   "cell_type": "code",
   "execution_count": null,
   "metadata": {},
   "outputs": [],
   "source": []
  },
  {
   "cell_type": "code",
   "execution_count": null,
   "metadata": {},
   "outputs": [],
   "source": []
  },
  {
   "cell_type": "code",
   "execution_count": null,
   "metadata": {},
   "outputs": [],
   "source": []
  },
  {
   "cell_type": "code",
   "execution_count": null,
   "metadata": {},
   "outputs": [],
   "source": []
  },
  {
   "cell_type": "code",
   "execution_count": null,
   "metadata": {},
   "outputs": [],
   "source": []
  }
 ],
 "metadata": {
  "kernelspec": {
   "display_name": "Python 3",
   "language": "python",
   "name": "python3"
  },
  "language_info": {
   "codemirror_mode": {
    "name": "ipython",
    "version": 3
   },
   "file_extension": ".py",
   "mimetype": "text/x-python",
   "name": "python",
   "nbconvert_exporter": "python",
   "pygments_lexer": "ipython3",
   "version": "3.8.3"
  }
 },
 "nbformat": 4,
 "nbformat_minor": 4
}
