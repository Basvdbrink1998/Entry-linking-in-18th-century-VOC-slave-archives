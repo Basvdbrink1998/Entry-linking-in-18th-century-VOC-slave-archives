{
 "cells": [
  {
   "cell_type": "code",
   "execution_count": 1,
   "metadata": {},
   "outputs": [],
   "source": [
    "from Annotation_helper import *\n",
    "import numpy as np\n",
    "from collections import defaultdict\n",
    "from imblearn.over_sampling import RandomOverSampler\n",
    "from imblearn.under_sampling import RandomUnderSampler\n",
    "from imblearn.over_sampling import SMOTE, ADASYN\n",
    "import tensorflow as tf\n",
    "from tensorflow import keras\n",
    "import matplotlib.pyplot as plt\n",
    "import tempfile\n",
    "import matplotlib as mpl\n",
    "import matplotlib.pyplot as plt"
   ]
  },
  {
   "cell_type": "code",
   "execution_count": 2,
   "metadata": {},
   "outputs": [],
   "source": [
    "from sklearn.model_selection import train_test_split\n",
    "from sklearn.metrics import accuracy_score\n",
    "from sklearn.metrics import recall_score\n",
    "from sklearn.metrics import f1_score\n",
    "from sklearn.metrics import precision_score\n",
    "from sklearn.metrics import balanced_accuracy_score\n",
    "from sklearn.metrics import confusion_matrix\n",
    "from sklearn.metrics import confusion_matrix, ConfusionMatrixDisplay\n",
    "from sklearn.metrics import PrecisionRecallDisplay\n",
    "from sklearn.metrics import classification_report, confusion_matrix  \n",
    "from sklearn.pipeline import make_pipeline\n",
    "from sklearn.preprocessing import StandardScaler\n",
    "from sklearn.preprocessing import Normalizer\n",
    "from sklearn.linear_model import LogisticRegression\n",
    "from sklearn.neighbors import KNeighborsClassifier\n",
    "from sklearn.ensemble import AdaBoostClassifier\n",
    "from sklearn.neural_network import MLPClassifier\n",
    "from sklearn.metrics import roc_curve\n",
    "from sklearn.metrics import roc_auc_score"
   ]
  },
  {
   "cell_type": "code",
   "execution_count": 3,
   "metadata": {},
   "outputs": [],
   "source": [
    "from sklearn.linear_model import LogisticRegressionCV\n",
    "from sklearn.neighbors import KNeighborsClassifier\n",
    "from sklearn.ensemble import AdaBoostClassifier\n",
    "from sklearn.neural_network import MLPClassifier\n",
    "from sklearn.naive_bayes import MultinomialNB"
   ]
  },
  {
   "cell_type": "markdown",
   "metadata": {},
   "source": [
    "# Helper functions"
   ]
  },
  {
   "cell_type": "code",
   "execution_count": 4,
   "metadata": {},
   "outputs": [],
   "source": [
    "def make_meshgrid(x, y, h=.02):\n",
    "    x_min, x_max = x.min() - 1, x.max() + 1\n",
    "    y_min, y_max = y.min() - 1, y.max() + 1\n",
    "    xx, yy = np.meshgrid(np.arange(x_min, x_max, h), np.arange(y_min, y_max, h))\n",
    "    return xx, yy\n",
    "\n",
    "def plot_contours(ax, clf, xx, yy, **params):\n",
    "    Z = clf.predict(np.c_[xx.ravel(), yy.ravel()])\n",
    "    Z = Z.reshape(xx.shape)\n",
    "    out = ax.contourf(xx, yy, Z, **params)\n",
    "    return out"
   ]
  },
  {
   "cell_type": "markdown",
   "metadata": {},
   "source": [
    "# Loading data"
   ]
  },
  {
   "cell_type": "code",
   "execution_count": 5,
   "metadata": {},
   "outputs": [],
   "source": [
    "data_folder = \"../../Data\"\n",
    "structured_data_folder = data_folder + \"/structured_data\"\n",
    "text_path = data_folder + \"/text\"\n",
    "data_path = structured_data_folder + \"/test.csv\"\n",
    "dist_folder = structured_data_folder + \"/Distances_jw\"\n",
    "figure_folder = \"../Figures/Results/Embeddings\"\n",
    "model_folder = \"../Models/Embeddings\"\n",
    "matches = pd.read_csv(structured_data_folder + \"/Matches/Bas3.csv\", index_col=0)\n",
    "figure_folder = \"../Figures/Results/Classic\""
   ]
  },
  {
   "cell_type": "code",
   "execution_count": 6,
   "metadata": {},
   "outputs": [],
   "source": [
    "transactions = load_transactions(structured_data_folder + \"\\VOC Cochin Slave Transactions 1706-1801 - IISH - Database - 2018 - v1.csv\")\n",
    "permissions = load_permissions(structured_data_folder + \"\\VOC Cochin Slave Transport Permissions 1770-1795 - IISH - Database - 2018 - v1.csv\")"
   ]
  },
  {
   "cell_type": "code",
   "execution_count": 7,
   "metadata": {},
   "outputs": [],
   "source": [
    "distances = pd.read_csv(dist_folder + \"/distances_0.csv\", dtype={'permission_indx': 'uint16', 'transaction_indx': 'uint16', 'SlaafGender': 'bool', 'SlaafNaamNieuw': 'float16', 'BezitterGender': 'bool', 'BezitterVoornaam': 'float16', 'BezitterBeroep': 'float16', 'BezitterAchternaam': 'float16'})\n",
    "for i in range(1, 99):\n",
    "    df2 = pd.read_csv(f\"{dist_folder}/distances_{i}.csv\", dtype={'permission_indx': 'uint16', 'transaction_indx': 'uint16', 'SlaafGender': 'bool', 'SlaafNaamNieuw': 'float16', 'BezitterGender': 'bool', 'BezitterVoornaam': 'float16', 'BezitterBeroep': 'float16', 'BezitterAchternaam': 'float16'})\n",
    "    distances = pd.concat([distances, df2])\n",
    "distances.reset_index(inplace=True)"
   ]
  },
  {
   "cell_type": "code",
   "execution_count": 8,
   "metadata": {},
   "outputs": [
    {
     "name": "stderr",
     "output_type": "stream",
     "text": [
      "<ipython-input-8-9c2468698aa0>:2: SettingWithCopyWarning: \n",
      "A value is trying to be set on a copy of a slice from a DataFrame.\n",
      "Try using .loc[row_indexer,col_indexer] = value instead\n",
      "\n",
      "See the caveats in the documentation: https://pandas.pydata.org/pandas-docs/stable/user_guide/indexing.html#returning-a-view-versus-a-copy\n",
      "  all_data[\"Match\"] = 0\n",
      "C:\\Users\\basvd\\anaconda3\\lib\\site-packages\\pandas\\core\\indexing.py:1817: SettingWithCopyWarning: \n",
      "A value is trying to be set on a copy of a slice from a DataFrame.\n",
      "Try using .loc[row_indexer,col_indexer] = value instead\n",
      "\n",
      "See the caveats in the documentation: https://pandas.pydata.org/pandas-docs/stable/user_guide/indexing.html#returning-a-view-versus-a-copy\n",
      "  self._setitem_single_column(loc, value, pi)\n"
     ]
    }
   ],
   "source": [
    "all_data = distances[distances['permission_indx'].isin(matches[\"permission_indx\"].unique())]\n",
    "all_data[\"Match\"] = 0\n",
    "for i, match in matches.iterrows():\n",
    "    if match[\"transaction_indx\"] != \"None\":\n",
    "        indx = distances.query(f\"permission_indx == {match['permission_indx']} & transaction_indx == {match['transaction_indx']}\").index\n",
    "        all_data.loc[indx, \"Match\"] = 1\n",
    "data = all_data.iloc[:, :-1]\n",
    "y = all_data.iloc[:, -1]\n",
    "X_train, X_test, y_train, y_test = train_test_split(data, y, test_size=0.5, random_state=42)"
   ]
  },
  {
   "cell_type": "code",
   "execution_count": null,
   "metadata": {},
   "outputs": [],
   "source": []
  },
  {
   "cell_type": "code",
   "execution_count": 9,
   "metadata": {},
   "outputs": [],
   "source": [
    "sample1 = all_data[all_data[\"Match\"] == 0].sample(61)\n",
    "sample2 = all_data[all_data[\"Match\"] == 1].sample(60)\n",
    "\n",
    "sample = pd.concat([sample1, sample2])\n",
    "y = sample[\"Match\"]"
   ]
  },
  {
   "cell_type": "code",
   "execution_count": null,
   "metadata": {},
   "outputs": [],
   "source": []
  },
  {
   "cell_type": "code",
   "execution_count": 10,
   "metadata": {},
   "outputs": [],
   "source": [
    "def plot_decision_boundary(X, y, model, model_name=\"Default_model\", ax_labels=('x', 'y'), colors = (\"b\", \"r\"), labels=(\"non-matches\", \"matches\")):\n",
    "    clf = model.fit(X, y)\n",
    "\n",
    "    fig, ax = plt.subplots()\n",
    "    # title for the plots\n",
    "    title = (f'Decision surface of {model_name}')\n",
    "    # Set-up grid for plotting.\n",
    "    X0, X1 = X[:, 0], X[:, 1]\n",
    "    xx, yy = make_meshgrid(X0, X1)\n",
    "\n",
    "    plot_contours(ax, clf, xx, yy, cmap=plt.cm.coolwarm, alpha=0.8)\n",
    "    ax.scatter(X0, X1, c=y, cmap=plt.cm.coolwarm, s=20, edgecolors='k')\n",
    "    for i in range(0, 2):\n",
    "        mask = (y == i)\n",
    "        tX = X[mask]\n",
    "        ty = y[mask]\n",
    "        X0, X1 = tX[:, 0], tX[:, 1]\n",
    "        ax.scatter(X0, X1, c=colors[i], s=20, edgecolors='k', label=labels[i])\n",
    "    ax.set_ylabel(f'{ax_labels[1]} similarity')\n",
    "    ax.set_xlabel(f'{ax_labels[0]} similarity')\n",
    "\n",
    "    ax.set_title(title)\n",
    "    ax.legend()\n",
    "    plt.savefig(figure_folder + f\"Decision_boundary_{model_name}.png\")\n",
    "    plt.show()"
   ]
  },
  {
   "cell_type": "code",
   "execution_count": 11,
   "metadata": {},
   "outputs": [
    {
     "data": {
      "text/html": [
       "<div>\n",
       "<style scoped>\n",
       "    .dataframe tbody tr th:only-of-type {\n",
       "        vertical-align: middle;\n",
       "    }\n",
       "\n",
       "    .dataframe tbody tr th {\n",
       "        vertical-align: top;\n",
       "    }\n",
       "\n",
       "    .dataframe thead th {\n",
       "        text-align: right;\n",
       "    }\n",
       "</style>\n",
       "<table border=\"1\" class=\"dataframe\">\n",
       "  <thead>\n",
       "    <tr style=\"text-align: right;\">\n",
       "      <th></th>\n",
       "      <th>index</th>\n",
       "      <th>permission_indx</th>\n",
       "      <th>transaction_indx</th>\n",
       "      <th>SlaafGender</th>\n",
       "      <th>SlaafNaamNieuw</th>\n",
       "      <th>BezitterGender</th>\n",
       "      <th>BezitterVoornaam</th>\n",
       "      <th>BezitterBeroep</th>\n",
       "      <th>BezitterAchternaam</th>\n",
       "    </tr>\n",
       "  </thead>\n",
       "  <tbody>\n",
       "    <tr>\n",
       "      <th>0</th>\n",
       "      <td>0</td>\n",
       "      <td>0</td>\n",
       "      <td>0</td>\n",
       "      <td>True</td>\n",
       "      <td>0.000000</td>\n",
       "      <td>False</td>\n",
       "      <td>0.000000</td>\n",
       "      <td>0.0</td>\n",
       "      <td>0.000000</td>\n",
       "    </tr>\n",
       "    <tr>\n",
       "      <th>1</th>\n",
       "      <td>1</td>\n",
       "      <td>0</td>\n",
       "      <td>1</td>\n",
       "      <td>True</td>\n",
       "      <td>0.250000</td>\n",
       "      <td>False</td>\n",
       "      <td>0.000000</td>\n",
       "      <td>0.0</td>\n",
       "      <td>0.000000</td>\n",
       "    </tr>\n",
       "    <tr>\n",
       "      <th>2</th>\n",
       "      <td>2</td>\n",
       "      <td>0</td>\n",
       "      <td>2</td>\n",
       "      <td>False</td>\n",
       "      <td>0.166626</td>\n",
       "      <td>False</td>\n",
       "      <td>0.000000</td>\n",
       "      <td>0.0</td>\n",
       "      <td>0.000000</td>\n",
       "    </tr>\n",
       "    <tr>\n",
       "      <th>3</th>\n",
       "      <td>3</td>\n",
       "      <td>0</td>\n",
       "      <td>3</td>\n",
       "      <td>True</td>\n",
       "      <td>0.111084</td>\n",
       "      <td>False</td>\n",
       "      <td>0.000000</td>\n",
       "      <td>0.0</td>\n",
       "      <td>0.000000</td>\n",
       "    </tr>\n",
       "    <tr>\n",
       "      <th>4</th>\n",
       "      <td>4</td>\n",
       "      <td>0</td>\n",
       "      <td>4</td>\n",
       "      <td>True</td>\n",
       "      <td>0.142822</td>\n",
       "      <td>False</td>\n",
       "      <td>0.000000</td>\n",
       "      <td>0.0</td>\n",
       "      <td>0.000000</td>\n",
       "    </tr>\n",
       "    <tr>\n",
       "      <th>...</th>\n",
       "      <td>...</td>\n",
       "      <td>...</td>\n",
       "      <td>...</td>\n",
       "      <td>...</td>\n",
       "      <td>...</td>\n",
       "      <td>...</td>\n",
       "      <td>...</td>\n",
       "      <td>...</td>\n",
       "      <td>...</td>\n",
       "    </tr>\n",
       "    <tr>\n",
       "      <th>26638723</th>\n",
       "      <td>265951</td>\n",
       "      <td>3889</td>\n",
       "      <td>7192</td>\n",
       "      <td>True</td>\n",
       "      <td>0.250000</td>\n",
       "      <td>True</td>\n",
       "      <td>0.166626</td>\n",
       "      <td>0.0</td>\n",
       "      <td>0.166626</td>\n",
       "    </tr>\n",
       "    <tr>\n",
       "      <th>26638724</th>\n",
       "      <td>265952</td>\n",
       "      <td>3889</td>\n",
       "      <td>7193</td>\n",
       "      <td>False</td>\n",
       "      <td>0.250000</td>\n",
       "      <td>True</td>\n",
       "      <td>0.166626</td>\n",
       "      <td>0.0</td>\n",
       "      <td>0.166626</td>\n",
       "    </tr>\n",
       "    <tr>\n",
       "      <th>26638725</th>\n",
       "      <td>265953</td>\n",
       "      <td>3889</td>\n",
       "      <td>7194</td>\n",
       "      <td>False</td>\n",
       "      <td>0.000000</td>\n",
       "      <td>True</td>\n",
       "      <td>0.277832</td>\n",
       "      <td>0.0</td>\n",
       "      <td>0.000000</td>\n",
       "    </tr>\n",
       "    <tr>\n",
       "      <th>26638726</th>\n",
       "      <td>265954</td>\n",
       "      <td>3889</td>\n",
       "      <td>7195</td>\n",
       "      <td>False</td>\n",
       "      <td>0.000000</td>\n",
       "      <td>True</td>\n",
       "      <td>0.166626</td>\n",
       "      <td>0.0</td>\n",
       "      <td>0.166626</td>\n",
       "    </tr>\n",
       "    <tr>\n",
       "      <th>26638727</th>\n",
       "      <td>265955</td>\n",
       "      <td>3889</td>\n",
       "      <td>7196</td>\n",
       "      <td>True</td>\n",
       "      <td>0.000000</td>\n",
       "      <td>False</td>\n",
       "      <td>0.166626</td>\n",
       "      <td>0.0</td>\n",
       "      <td>0.000000</td>\n",
       "    </tr>\n",
       "  </tbody>\n",
       "</table>\n",
       "<p>26638728 rows × 9 columns</p>\n",
       "</div>"
      ],
      "text/plain": [
       "           index  permission_indx  transaction_indx  SlaafGender  \\\n",
       "0              0                0                 0         True   \n",
       "1              1                0                 1         True   \n",
       "2              2                0                 2        False   \n",
       "3              3                0                 3         True   \n",
       "4              4                0                 4         True   \n",
       "...          ...              ...               ...          ...   \n",
       "26638723  265951             3889              7192         True   \n",
       "26638724  265952             3889              7193        False   \n",
       "26638725  265953             3889              7194        False   \n",
       "26638726  265954             3889              7195        False   \n",
       "26638727  265955             3889              7196         True   \n",
       "\n",
       "          SlaafNaamNieuw  BezitterGender  BezitterVoornaam  BezitterBeroep  \\\n",
       "0               0.000000           False          0.000000             0.0   \n",
       "1               0.250000           False          0.000000             0.0   \n",
       "2               0.166626           False          0.000000             0.0   \n",
       "3               0.111084           False          0.000000             0.0   \n",
       "4               0.142822           False          0.000000             0.0   \n",
       "...                  ...             ...               ...             ...   \n",
       "26638723        0.250000            True          0.166626             0.0   \n",
       "26638724        0.250000            True          0.166626             0.0   \n",
       "26638725        0.000000            True          0.277832             0.0   \n",
       "26638726        0.000000            True          0.166626             0.0   \n",
       "26638727        0.000000           False          0.166626             0.0   \n",
       "\n",
       "          BezitterAchternaam  \n",
       "0                   0.000000  \n",
       "1                   0.000000  \n",
       "2                   0.000000  \n",
       "3                   0.000000  \n",
       "4                   0.000000  \n",
       "...                      ...  \n",
       "26638723            0.166626  \n",
       "26638724            0.166626  \n",
       "26638725            0.000000  \n",
       "26638726            0.166626  \n",
       "26638727            0.000000  \n",
       "\n",
       "[26638728 rows x 9 columns]"
      ]
     },
     "execution_count": 11,
     "metadata": {},
     "output_type": "execute_result"
    }
   ],
   "source": [
    "distances"
   ]
  },
  {
   "cell_type": "code",
   "execution_count": 12,
   "metadata": {},
   "outputs": [],
   "source": [
    "from sklearn.svm import SVC\n",
    "import numpy as np\n",
    "import matplotlib.pyplot as plt\n",
    "from sklearn import svm, datasets\n",
    "\n",
    "X = sample.iloc[:, 3:-1][[\"SlaafNaamNieuw\", \"BezitterVoornaam\"]].values"
   ]
  },
  {
   "cell_type": "code",
   "execution_count": null,
   "metadata": {},
   "outputs": [],
   "source": []
  },
  {
   "cell_type": "code",
   "execution_count": null,
   "metadata": {},
   "outputs": [],
   "source": []
  },
  {
   "cell_type": "code",
   "execution_count": 13,
   "metadata": {},
   "outputs": [],
   "source": [
    "def plot_1d_pred(m, X2, y, model_name=\"Default model\"):\n",
    "    m.fit(X2.reshape(-1, 1), y)\n",
    "    x = np.linspace(0, 1, 100)\n",
    "    p = m.predict_proba(x.reshape(-1, 1))[:,1]\n",
    "    plt.plot(x, p, label=f\"prediction of {model_name}\")\n",
    "    plt.scatter(X2[y == 1], y[y==1], label=\"Matches\", c='r')\n",
    "    plt.scatter(X2[y == 0], y[y==0], label=\"Non-Matches\", c='b')\n",
    "    plt.xlabel(\"Slave name similarity\")\n",
    "    plt.ylabel(\"Match\")\n",
    "    plt.legend()\n",
    "    plt.savefig(figure_folder + f\"1D_example_{model_name}.png\")\n",
    "    plt.show()"
   ]
  },
  {
   "cell_type": "code",
   "execution_count": 14,
   "metadata": {},
   "outputs": [],
   "source": [
    "# plot_1d_pred(LogisticRegressionCV(), X2, y, \"logistic regression\")"
   ]
  },
  {
   "cell_type": "code",
   "execution_count": 15,
   "metadata": {},
   "outputs": [],
   "source": [
    "# plot_1d_pred(make_pipeline(StandardScaler(), MLPClassifier(activation='relu', solver='adam', alpha=1e-5, hidden_layer_sizes=(100, 100), learning_rate='adaptive', random_state=1, verbose=False)), X2, y)"
   ]
  },
  {
   "cell_type": "code",
   "execution_count": 16,
   "metadata": {},
   "outputs": [
    {
     "data": {
      "image/png": "[encoded data removed]",
      "text/plain": [
       "<Figure size 432x288 with 1 Axes>"
      ]
     },
     "metadata": {
      "needs_background": "light"
     },
     "output_type": "display_data"
    }
   ],
   "source": [
    "plot_decision_boundary(X, y, make_pipeline(StandardScaler(), LogisticRegressionCV()), \"Logistic_regression\", (\"slave name\", \"owner first name\"))"
   ]
  },
  {
   "cell_type": "code",
   "execution_count": 17,
   "metadata": {},
   "outputs": [
    {
     "data": {
      "image/png": "[encoded data removed]",
      "text/plain": [
       "<Figure size 432x288 with 1 Axes>"
      ]
     },
     "metadata": {
      "needs_background": "light"
     },
     "output_type": "display_data"
    }
   ],
   "source": [
    "plot_decision_boundary(X, y, make_pipeline(StandardScaler(), AdaBoostClassifier(n_estimators=30, random_state=0)), \"ADAboost\", (\"slave name\", \"owner first name\"))"
   ]
  },
  {
   "cell_type": "code",
   "execution_count": 18,
   "metadata": {},
   "outputs": [
    {
     "name": "stderr",
     "output_type": "stream",
     "text": [
      "C:\\Users\\basvd\\anaconda3\\lib\\site-packages\\sklearn\\neural_network\\_multilayer_perceptron.py:692: ConvergenceWarning: Stochastic Optimizer: Maximum iterations (200) reached and the optimization hasn't converged yet.\n",
      "  warnings.warn(\n"
     ]
    },
    {
     "data": {
      "image/png": "[encoded data removed]",
      "text/plain": [
       "<Figure size 432x288 with 1 Axes>"
      ]
     },
     "metadata": {
      "needs_background": "light"
     },
     "output_type": "display_data"
    }
   ],
   "source": [
    "plot_decision_boundary(X, y, make_pipeline(StandardScaler(), MLPClassifier(activation='relu', solver='adam', alpha=1e-5, hidden_layer_sizes=(30, 30), learning_rate='adaptive', random_state=1, verbose=False)), \"Neural Network\", (\"slave name\", \"owner first name\"))"
   ]
  },
  {
   "cell_type": "code",
   "execution_count": 19,
   "metadata": {},
   "outputs": [
    {
     "data": {
      "image/png": "[encoded data removed]",
      "text/plain": [
       "<Figure size 432x288 with 1 Axes>"
      ]
     },
     "metadata": {
      "needs_background": "light"
     },
     "output_type": "display_data"
    }
   ],
   "source": [
    "plot_decision_boundary(X, y, KNeighborsClassifier(n_neighbors=1), \"KNN\", (\"slave name\", \"owner first name\"))"
   ]
  },
  {
   "cell_type": "code",
   "execution_count": 20,
   "metadata": {},
   "outputs": [],
   "source": [
    "Classifiers = dict()"
   ]
  },
  {
   "cell_type": "markdown",
   "metadata": {},
   "source": [
    "# Normalizing data"
   ]
  },
  {
   "cell_type": "code",
   "execution_count": 21,
   "metadata": {
    "scrolled": true
   },
   "outputs": [
    {
     "name": "stdout",
     "output_type": "stream",
     "text": [
      "X:  (1904820, 9)\n",
      "y:  (1904820,)\n"
     ]
    }
   ],
   "source": [
    "print(\"X: \", X_train.shape)\n",
    "print(\"y: \", y_train.shape)"
   ]
  },
  {
   "cell_type": "markdown",
   "metadata": {},
   "source": [
    "# Blocking"
   ]
  },
  {
   "cell_type": "code",
   "execution_count": 22,
   "metadata": {},
   "outputs": [
    {
     "name": "stdout",
     "output_type": "stream",
     "text": [
      "1904820 rows before blocking\n"
     ]
    }
   ],
   "source": [
    "print(f\"{X_train.shape[0]} rows before blocking\")"
   ]
  },
  {
   "cell_type": "code",
   "execution_count": 23,
   "metadata": {},
   "outputs": [],
   "source": [
    "mask = (X_train[\"SlaafNaamNieuw\"] > 0.3) & (X_train[\"SlaafGender\"] > 0.1) & (X_train[\"BezitterAchternaam\"] > 0.1) & (X_train[\"BezitterVoornaam\"] > 0.1)"
   ]
  },
  {
   "cell_type": "code",
   "execution_count": 24,
   "metadata": {},
   "outputs": [],
   "source": [
    "X_train = X_train[mask]\n",
    "y_train = y_train[mask]"
   ]
  },
  {
   "cell_type": "code",
   "execution_count": 25,
   "metadata": {},
   "outputs": [
    {
     "name": "stdout",
     "output_type": "stream",
     "text": [
      "40692 rows after blocking\n"
     ]
    }
   ],
   "source": [
    "print(f\"{X_train.shape[0]} rows after blocking\")"
   ]
  },
  {
   "cell_type": "code",
   "execution_count": 26,
   "metadata": {},
   "outputs": [],
   "source": [
    "X_test_pd = X_test\n",
    "y_test_pd = y_test"
   ]
  },
  {
   "cell_type": "code",
   "execution_count": null,
   "metadata": {},
   "outputs": [],
   "source": []
  },
  {
   "cell_type": "code",
   "execution_count": 27,
   "metadata": {},
   "outputs": [],
   "source": [
    "X_train = X_train.iloc[:,3:].to_numpy().astype(float)\n",
    "y_train = y_train.to_numpy().astype(float)\n",
    "\n",
    "X_test = X_test.iloc[:,3:].to_numpy().astype(float)\n",
    "y_test = y_test.to_numpy().astype(float)"
   ]
  },
  {
   "cell_type": "markdown",
   "metadata": {},
   "source": [
    "# Rule based"
   ]
  },
  {
   "cell_type": "code",
   "execution_count": 28,
   "metadata": {},
   "outputs": [],
   "source": [
    "class Rule_based_classifier():\n",
    "    def __init__(self, alg):\n",
    "        self.alg = alg\n",
    "        \n",
    "    def predict_proba(self, X_test):\n",
    "        pred = self.alg(X_test)\n",
    "        return pred\n",
    "    \n",
    "    def predict(self, X_test, thresh):\n",
    "        pred = self.alg(X_test)\n",
    "        return (pred >= thresh).astype(float)"
   ]
  },
  {
   "cell_type": "markdown",
   "metadata": {},
   "source": [
    "## Exact match"
   ]
  },
  {
   "cell_type": "code",
   "execution_count": 29,
   "metadata": {},
   "outputs": [],
   "source": [
    "def exact_match(X_test):\n",
    "    pred = []\n",
    "    for x in X_test:\n",
    "        pred.append((x == 1.).sum())\n",
    "    return np.array(pred)/X_test.shape[1]"
   ]
  },
  {
   "cell_type": "code",
   "execution_count": 30,
   "metadata": {},
   "outputs": [],
   "source": [
    "EM = Rule_based_classifier(exact_match)\n",
    "pred = EM.predict(X_test, 0.5)"
   ]
  },
  {
   "cell_type": "code",
   "execution_count": 31,
   "metadata": {},
   "outputs": [
    {
     "data": {
      "image/png": "[encoded data removed]",
      "text/plain": [
       "<Figure size 432x288 with 2 Axes>"
      ]
     },
     "metadata": {
      "needs_background": "light"
     },
     "output_type": "display_data"
    },
    {
     "name": "stdout",
     "output_type": "stream",
     "text": [
      "recall score:  0.8909090909090909\n",
      "precision score:  0.0018523418893887271\n",
      "f1 score:  0.003696997132940999\n"
     ]
    }
   ],
   "source": [
    "evaluate_prediction(pred, y_test, model_name = \"Exact Match\")"
   ]
  },
  {
   "cell_type": "code",
   "execution_count": 32,
   "metadata": {},
   "outputs": [],
   "source": [
    "Classifiers[\"Exact Match\"] = EM"
   ]
  },
  {
   "cell_type": "markdown",
   "metadata": {},
   "source": [
    "# Fuzzy match"
   ]
  },
  {
   "cell_type": "code",
   "execution_count": 33,
   "metadata": {},
   "outputs": [],
   "source": [
    "def fuzzy_match(X_test):\n",
    "    pred = []\n",
    "    for x in X_test:\n",
    "        pred.append((x > 0.1).sum())\n",
    "    return np.array(pred)/X_test.shape[1]"
   ]
  },
  {
   "cell_type": "code",
   "execution_count": 34,
   "metadata": {},
   "outputs": [],
   "source": [
    "FM = Rule_based_classifier(fuzzy_match)\n",
    "pred = FM.predict(X_test, 1.)"
   ]
  },
  {
   "cell_type": "code",
   "execution_count": 35,
   "metadata": {},
   "outputs": [
    {
     "data": {
      "image/png": "[encoded data removed]",
      "text/plain": [
       "<Figure size 432x288 with 2 Axes>"
      ]
     },
     "metadata": {
      "needs_background": "light"
     },
     "output_type": "display_data"
    },
    {
     "name": "stdout",
     "output_type": "stream",
     "text": [
      "recall score:  0.6181818181818182\n",
      "precision score:  0.0004683453633809025\n",
      "f1 score:  0.0009359816107142365\n"
     ]
    }
   ],
   "source": [
    "evaluate_prediction(pred, y_test, model_name = \"Fuzzy Match\")"
   ]
  },
  {
   "cell_type": "code",
   "execution_count": 36,
   "metadata": {},
   "outputs": [],
   "source": [
    "Classifiers[\"Fuzzy Match\"] = FM"
   ]
  },
  {
   "cell_type": "markdown",
   "metadata": {},
   "source": [
    "# All 0"
   ]
  },
  {
   "cell_type": "code",
   "execution_count": 37,
   "metadata": {},
   "outputs": [
    {
     "data": {
      "text/plain": [
       "array([0., 0., 0., ..., 0., 0., 0.])"
      ]
     },
     "execution_count": 37,
     "metadata": {},
     "output_type": "execute_result"
    }
   ],
   "source": [
    "pred = np.zeros(len(y_test))\n",
    "pred"
   ]
  },
  {
   "cell_type": "code",
   "execution_count": 38,
   "metadata": {},
   "outputs": [],
   "source": [
    "# evaluate_prediction(pred, y_test, model_name=\"All 0\")"
   ]
  },
  {
   "cell_type": "markdown",
   "metadata": {},
   "source": [
    "# K nearest neighbors"
   ]
  },
  {
   "cell_type": "code",
   "execution_count": 39,
   "metadata": {},
   "outputs": [],
   "source": [
    "# from sklearn.neighbors import KNeighborsClassifier\n",
    "# KNNClf = fit_and_test_classifier(KNeighborsClassifier(n_neighbors=1), X_train, X_test, y_train, y_test, model_name=\"KNN\", figure_folder=figure_folder)\n",
    "\n",
    "# Classifiers[\"KNeigbors classifier\"] = KNNClf"
   ]
  },
  {
   "cell_type": "markdown",
   "metadata": {},
   "source": [
    "# Logistic regression"
   ]
  },
  {
   "cell_type": "code",
   "execution_count": 40,
   "metadata": {},
   "outputs": [
    {
     "data": {
      "image/png": "[encoded data removed]",
      "text/plain": [
       "<Figure size 432x288 with 2 Axes>"
      ]
     },
     "metadata": {
      "needs_background": "light"
     },
     "output_type": "display_data"
    },
    {
     "name": "stdout",
     "output_type": "stream",
     "text": [
      "recall score:  0.7636363636363637\n",
      "precision score:  0.8571428571428571\n",
      "f1 score:  0.8076923076923076\n"
     ]
    },
    {
     "ename": "NameError",
     "evalue": "name 'ADA' is not defined",
     "output_type": "error",
     "traceback": [
      "\u001b[1;31m---------------------------------------------------------------------------\u001b[0m",
      "\u001b[1;31mNameError\u001b[0m                                 Traceback (most recent call last)",
      "\u001b[1;32m<ipython-input-40-0e9ac2b488ce>\u001b[0m in \u001b[0;36m<module>\u001b[1;34m\u001b[0m\n\u001b[0;32m      2\u001b[0m \u001b[0mLGClf\u001b[0m \u001b[1;33m=\u001b[0m \u001b[0mfit_and_test_classifier\u001b[0m\u001b[1;33m(\u001b[0m\u001b[0mest\u001b[0m\u001b[1;33m,\u001b[0m \u001b[0mX_train\u001b[0m\u001b[1;33m,\u001b[0m \u001b[0mX_test\u001b[0m\u001b[1;33m,\u001b[0m \u001b[0my_train\u001b[0m\u001b[1;33m,\u001b[0m \u001b[0my_test\u001b[0m\u001b[1;33m,\u001b[0m \u001b[0mmodel_name\u001b[0m\u001b[1;33m=\u001b[0m\u001b[1;34m\"ADAboost\"\u001b[0m\u001b[1;33m,\u001b[0m \u001b[0mfigure_folder\u001b[0m\u001b[1;33m=\u001b[0m\u001b[0mfigure_folder\u001b[0m\u001b[1;33m)\u001b[0m\u001b[1;33m\u001b[0m\u001b[1;33m\u001b[0m\u001b[0m\n\u001b[0;32m      3\u001b[0m \u001b[1;33m\u001b[0m\u001b[0m\n\u001b[1;32m----> 4\u001b[1;33m \u001b[0mClassifiers\u001b[0m\u001b[1;33m[\u001b[0m\u001b[1;34m\"Logistic Regression\"\u001b[0m\u001b[1;33m]\u001b[0m \u001b[1;33m=\u001b[0m \u001b[0mADA\u001b[0m\u001b[1;33m\u001b[0m\u001b[1;33m\u001b[0m\u001b[0m\n\u001b[0m",
      "\u001b[1;31mNameError\u001b[0m: name 'ADA' is not defined"
     ]
    },
    {
     "data": {
      "image/png": "[encoded data removed]",
      "text/plain": [
       "<Figure size 432x288 with 1 Axes>"
      ]
     },
     "metadata": {
      "needs_background": "light"
     },
     "output_type": "display_data"
    }
   ],
   "source": [
    "est = make_pipeline(StandardScaler(),AdaBoostClassifier(n_estimators=100, random_state=0))\n",
    "LGClf = fit_and_test_classifier(est, X_train, X_test, y_train, y_test, model_name=\"ADAboost\", figure_folder=figure_folder)\n",
    "\n",
    "Classifiers[\"Logistic Regression\"] = ADA"
   ]
  },
  {
   "cell_type": "code",
   "execution_count": null,
   "metadata": {
    "scrolled": true
   },
   "outputs": [],
   "source": [
    "est = make_pipeline(StandardScaler(), LogisticRegressionCV(scoring='f1'))\n",
    "LGClf = fit_and_test_classifier(est, X_train, X_test, y_train, y_test, model_name=\"Log_reg2\", figure_folder=figure_folder)\n",
    "\n",
    "Classifiers[\"Logistic Regression\"] = LGClf"
   ]
  },
  {
   "cell_type": "code",
   "execution_count": null,
   "metadata": {},
   "outputs": [],
   "source": [
    "# fig = plt.figure()\n",
    "# # ax = fig.add_axes([0,0,1,1])\n",
    "# langs = data.columns\n",
    "# langs = [\"Slave gender\", \"Slave new name\", \"Owner gender\", \"Owner first name\", \"Owner second name\", \"Owner last name\", \"Owner occupation\", \"Owner status\", \"Owner Ethnicity\"]\n",
    "# students = LGClf.steps[1][1].coef_[0]\n",
    "# plt.bar(langs,students)\n",
    "# plt.xticks(rotation = 45)\n",
    "# plt.savefig(figure_folder + \"Coefs.jpg\")\n",
    "# plt.show()"
   ]
  },
  {
   "cell_type": "markdown",
   "metadata": {},
   "source": [
    "# Naive Bayes"
   ]
  },
  {
   "cell_type": "code",
   "execution_count": null,
   "metadata": {},
   "outputs": [],
   "source": [
    "# est = make_pipeline(Normalizer(), MultinomialNB())\n",
    "# NBClf = fit_and_test_classifier(est, X_train, X_test, y_train, y_test, model_name=\"NB\", figure_folder=figure_folder)\n",
    "\n",
    "# Classifiers[\"Naive Bayes\"] = NBClf"
   ]
  },
  {
   "cell_type": "markdown",
   "metadata": {},
   "source": [
    "# Neural Network"
   ]
  },
  {
   "cell_type": "code",
   "execution_count": null,
   "metadata": {
    "scrolled": true
   },
   "outputs": [],
   "source": [
    "est = make_pipeline(StandardScaler(), MLPClassifier(activation='relu', solver='adam', alpha=1e-5, hidden_layer_sizes=(30, 30), learning_rate='adaptive', random_state=1, verbose=False))\n",
    "\n",
    "NNClf = fit_and_test_classifier(est, X_train, X_test, y_train, y_test, model_name=\"MLP\", figure_folder=figure_folder)\n",
    "Classifiers[\"Neural network\"] = NNClf"
   ]
  },
  {
   "cell_type": "code",
   "execution_count": null,
   "metadata": {},
   "outputs": [],
   "source": [
    "permissions[permissions[\"Entry-ID\"] == 257]"
   ]
  },
  {
   "cell_type": "code",
   "execution_count": null,
   "metadata": {},
   "outputs": [],
   "source": [
    "def add_prefix_to_columns(df, prefix):\n",
    "    cols = df.columns\n",
    "    df.columns = [prefix + c for c in cols]\n",
    "    return df\n",
    "\n",
    "def get_mistakes(y_pred, y_true, X_array, X_df, t, p):\n",
    "    p.set_index(\"Entry-ID\")\n",
    "    mist_indx = np.invert(y_true == y_pred)\n",
    "    mist_dist = X_df[mist_indx]\n",
    "    print(mist_dist.shape)\n",
    "    mist_p = p.loc[mist_dist['permission_indx'], :]\n",
    "    mist_t = t.loc[mist_dist['transaction_indx'], :]\n",
    "#     mist_data = pd.merge((add_prefix_to_columns(mist_t, \"transaction_\"), add_prefix_to_columns(mist_p, 'permission_')))\n",
    "    vt = add_prefix_to_columns(mist_t, \"transaction_\")\n",
    "    vp = add_prefix_to_columns(mist_p, 'permission_')\n",
    "    vals = np.concatenate((vt, vp), axis=1)\n",
    "    mist_data = pd.DataFrame(data=vals, columns=list(vt) + list(vp))\n",
    "    \n",
    "    mist_data[\"Match\"] = 0\n",
    "    for i, match in matches.iterrows():\n",
    "        if match[\"transaction_indx\"] != \"None\":\n",
    "            l1 = mist_data[mist_data[\"permission_Entry-ID\"] == match[\"permission_indx\"]]\n",
    "            l2 = l1[l1[\"permission_Entry-ID\"] == match[\"permission_indx\"]]\n",
    "            if l2.shape[0] > 0:\n",
    "                mist_data.loc[l2.index[0], \"Match\"] = 1\n",
    "    \n",
    "    return mist_data\n",
    "             \n",
    "mist = get_mistakes(pred, y_test, X_test, X_test_pd, transactions, permissions)"
   ]
  },
  {
   "cell_type": "code",
   "execution_count": null,
   "metadata": {},
   "outputs": [],
   "source": [
    "mist.to_csv(\"mist.csv\")"
   ]
  },
  {
   "cell_type": "code",
   "execution_count": null,
   "metadata": {},
   "outputs": [],
   "source": []
  },
  {
   "cell_type": "code",
   "execution_count": null,
   "metadata": {},
   "outputs": [],
   "source": [
    "confusion_matrix(y_test, pred)"
   ]
  },
  {
   "cell_type": "code",
   "execution_count": null,
   "metadata": {},
   "outputs": [],
   "source": [
    "(pred != y_test).sum()"
   ]
  },
  {
   "cell_type": "code",
   "execution_count": null,
   "metadata": {},
   "outputs": [],
   "source": [
    "len(y_train)"
   ]
  },
  {
   "cell_type": "code",
   "execution_count": null,
   "metadata": {},
   "outputs": [],
   "source": []
  },
  {
   "cell_type": "code",
   "execution_count": null,
   "metadata": {},
   "outputs": [],
   "source": [
    "mist"
   ]
  },
  {
   "cell_type": "code",
   "execution_count": null,
   "metadata": {},
   "outputs": [],
   "source": [
    "# def make_layers(layer_size, n_layers):\n",
    "#     res = []\n",
    "#     for ls in layer_size:\n",
    "#         res += [ls for i in range(0, n_layers)]\n",
    "#     return res\n",
    "        \n",
    "# layers = make_layers([100, 50, 20], 10)"
   ]
  },
  {
   "cell_type": "code",
   "execution_count": null,
   "metadata": {},
   "outputs": [],
   "source": [
    "# est = make_pipeline(StandardScaler(), MLPClassifier(activation='relu', solver='adam', alpha=1e-5, hidden_layer_sizes=layers, learning_rate='adaptive', random_state=1, verbose=False))\n",
    "\n",
    "# NNClf = fit_and_test_classifier(est, X_train, X_test, y_train, y_test, model_name=\"MLP\", figure_folder=figure_folder)\n",
    "# Classifiers[\"Neural network\"] = NNClf"
   ]
  },
  {
   "cell_type": "code",
   "execution_count": null,
   "metadata": {},
   "outputs": [],
   "source": [
    "# for name in Classifiers:\n",
    "#     model = Classifiers[name]\n",
    "# #     print(\"name:\", name)\n",
    "#     # predict probabilities\n",
    "#     lr_probs = model.predict_proba(X_test)\n",
    "#     # keep probabilities for the positive outcome only\n",
    "# #     print(\"lr_probs\", lr_probs)\n",
    "#     if type(lr_probs[0]) == np.ndarray:\n",
    "#         lr_probs = lr_probs[:, 1]\n",
    "#     # calculate scores\n",
    "#     lr_auc = roc_auc_score(y_test, lr_probs)\n",
    "#     # summarize scores\n",
    "#     print(name + ': ROC AUC=%.3f' % (lr_auc))\n",
    "#     # calculate roc curves\n",
    "#     lr_fpr, lr_tpr, _ = roc_curve(y_test, lr_probs)\n",
    "#     # plot the roc curve for the model\n",
    "#     plt.plot(lr_fpr, lr_tpr, marker='.', label=name)\n",
    "    \n",
    "# ns_probs = [0 for _ in range(len(y_test))]\n",
    "# ns_auc = roc_auc_score(y_test, ns_probs)\n",
    "# ns_fpr, ns_tpr, _ = roc_curve(y_test, ns_probs)\n",
    "# plt.plot(ns_fpr, ns_tpr, linestyle='--', label='No Skill')\n",
    "# print('No Skill: ROC AUC=%.3f' % (ns_auc))\n",
    "\n",
    "# # axis labels\n",
    "# plt.xlabel('False Positive Rate')\n",
    "# plt.ylabel('True Positive Rate')\n",
    "# # show the legend\n",
    "# plt.legend()\n",
    "# # show the plot\n",
    "# plt.show()"
   ]
  },
  {
   "cell_type": "code",
   "execution_count": null,
   "metadata": {},
   "outputs": [],
   "source": []
  },
  {
   "cell_type": "code",
   "execution_count": null,
   "metadata": {},
   "outputs": [],
   "source": []
  },
  {
   "cell_type": "code",
   "execution_count": null,
   "metadata": {},
   "outputs": [],
   "source": []
  }
 ],
 "metadata": {
  "kernelspec": {
   "display_name": "Python 3",
   "language": "python",
   "name": "python3"
  },
  "language_info": {
   "codemirror_mode": {
    "name": "ipython",
    "version": 3
   },
   "file_extension": ".py",
   "mimetype": "text/x-python",
   "name": "python",
   "nbconvert_exporter": "python",
   "pygments_lexer": "ipython3",
   "version": "3.8.3"
  }
 },
 "nbformat": 4,
 "nbformat_minor": 4
}
