{
 "cells": [
  {
   "cell_type": "code",
   "execution_count": 5,
   "metadata": {
    "scrolled": true
   },
   "outputs": [],
   "source": [
    "from Annotation_helper import *"
   ]
  },
  {
   "cell_type": "code",
   "execution_count": 6,
   "metadata": {
    "scrolled": true
   },
   "outputs": [],
   "source": [
    "annotator_name = \"Bas\""
   ]
  },
  {
   "cell_type": "code",
   "execution_count": 7,
   "metadata": {
    "scrolled": true
   },
   "outputs": [],
   "source": [
    "data_folder = \"../../Data\"\n",
    "structured_data_folder = data_folder + \"/structured_data\"\n",
    "matches = structured_data_folder + f\"/Matches/{annotator_name}.csv\""
   ]
  },
  {
   "cell_type": "code",
   "execution_count": 8,
   "metadata": {
    "scrolled": true
   },
   "outputs": [
    {
     "name": "stderr",
     "output_type": "stream",
     "text": [
      "E:\\UvA\\Scriptie\\Thesis_code\\Annotation\\Annotation_helper.py:31: FutureWarning: The default value of regex will change from True to False in a future version.\n",
      "  col = col.str.replace('[^a-zA-Z ]', '')\n"
     ]
    }
   ],
   "source": [
    "transactions = load_transactions(\"../../Data/structured_data\\Transactions.csv\")\n",
    "permissions = load_permissions(\"../../Data/structured_data\\permissions.csv\")"
   ]
  },
  {
   "cell_type": "code",
   "execution_count": null,
   "metadata": {},
   "outputs": [],
   "source": []
  },
  {
   "cell_type": "code",
   "execution_count": null,
   "metadata": {},
   "outputs": [],
   "source": []
  },
  {
   "cell_type": "code",
   "execution_count": 20,
   "metadata": {
    "scrolled": true
   },
   "outputs": [
    {
     "data": {
      "text/html": [
       "<div>\n",
       "<style scoped>\n",
       "    .dataframe tbody tr th:only-of-type {\n",
       "        vertical-align: middle;\n",
       "    }\n",
       "\n",
       "    .dataframe tbody tr th {\n",
       "        vertical-align: top;\n",
       "    }\n",
       "\n",
       "    .dataframe thead th {\n",
       "        text-align: right;\n",
       "    }\n",
       "</style>\n",
       "<table border=\"1\" class=\"dataframe\">\n",
       "  <thead>\n",
       "    <tr style=\"text-align: right;\">\n",
       "      <th></th>\n",
       "      <th>Unnamed: 0</th>\n",
       "      <th>ID</th>\n",
       "      <th>Permissie</th>\n",
       "      <th>Inventarisnummer</th>\n",
       "      <th>Scan</th>\n",
       "      <th>Plaats</th>\n",
       "      <th>Datum</th>\n",
       "      <th>BezitterVoornaam</th>\n",
       "      <th>BezitterTussen</th>\n",
       "      <th>BezitterAchternaam</th>\n",
       "      <th>...</th>\n",
       "      <th>BezitterEtniciteit</th>\n",
       "      <th>BezitterStatus</th>\n",
       "      <th>SlaafNaamNieuw</th>\n",
       "      <th>SlaafNaamOrigineel</th>\n",
       "      <th>SlaafKaste</th>\n",
       "      <th>SlaafGender</th>\n",
       "      <th>Opmerking</th>\n",
       "      <th>Betaling</th>\n",
       "      <th>Door[Kantlijn]</th>\n",
       "      <th>Entry-ID</th>\n",
       "    </tr>\n",
       "  </thead>\n",
       "  <tbody>\n",
       "  </tbody>\n",
       "</table>\n",
       "<p>0 rows × 24 columns</p>\n",
       "</div>"
      ],
      "text/plain": [
       "Empty DataFrame\n",
       "Columns: [Unnamed: 0, ID, Permissie, Inventarisnummer, Scan, Plaats, Datum, BezitterVoornaam, BezitterTussen, BezitterAchternaam, BezitterGender, BezitterHerkomst, BezitterBeroep, BezitterWerkplek, BezitterEtniciteit, BezitterStatus, SlaafNaamNieuw, SlaafNaamOrigineel, SlaafKaste, SlaafGender, Opmerking, Betaling, Door[Kantlijn], Entry-ID]\n",
       "Index: []\n",
       "\n",
       "[0 rows x 24 columns]"
      ]
     },
     "execution_count": 20,
     "metadata": {},
     "output_type": "execute_result"
    }
   ],
   "source": [
    "permissions[permissions[\"ID\"] == \"897-3-18\"]"
   ]
  },
  {
   "cell_type": "code",
   "execution_count": 21,
   "metadata": {
    "scrolled": true
   },
   "outputs": [],
   "source": [
    "per_to_trans = {\n",
    "                \"BezitterVoornaam\" : (\"KoperVoornaam\", 2),\n",
    "                \"BezitterTussen\": (\"KoperTussen\", 1),\n",
    "                \"BezitterAchternaam\" : (\"KoperAchternaam\", 2),\n",
    "                \"BezitterGender\" : (\"KoperGender\", 2),\n",
    "                \"SlaafNaamNieuw\" : (\"SlaafNaamNieuw\", 2),\n",
    "                \"BezitterBeroep\" : (\"KoperBeroep\", 1),\n",
    "                \"BezitterStatus\" : (\"KoperStatus\", 1),\n",
    "                \"SlaafGender\" : (\"SlaafGender\", 1),\n",
    "                \"Datum\" : (\"Datum\", 1),\n",
    "                \"BezitterWerkplek\" : (\"KoperWerkplek\", 1),\n",
    "                \"SlaafKaste\" : (\"SlaafKaste\", 1)\n",
    "}"
   ]
  },
  {
   "cell_type": "code",
   "execution_count": 22,
   "metadata": {
    "scrolled": false
   },
   "outputs": [
    {
     "name": "stdout",
     "output_type": "stream",
     "text": [
      "Query:\n"
     ]
    },
    {
     "data": {
      "text/html": [
       "<table border=\"1\" class=\"dataframe\">\n",
       "  <thead>\n",
       "    <tr style=\"text-align: right;\">\n",
       "      <th></th>\n",
       "      <th>Datum</th>\n",
       "      <th>KoperVoornaam</th>\n",
       "      <th>KoperTussen</th>\n",
       "      <th>KoperAchternaam</th>\n",
       "      <th>KoperGender</th>\n",
       "      <th>KoperBeroep</th>\n",
       "      <th>KoperWerkplek</th>\n",
       "      <th>KoperStatus</th>\n",
       "      <th>SlaafNaamNieuw</th>\n",
       "      <th>SlaafKaste</th>\n",
       "      <th>SlaafGender</th>\n",
       "    </tr>\n",
       "  </thead>\n",
       "  <tbody>\n",
       "    <tr>\n",
       "      <th>0</th>\n",
       "      <td></td>\n",
       "      <td>george jacob</td>\n",
       "      <td>NaN</td>\n",
       "      <td>meijer</td>\n",
       "      <td>m</td>\n",
       "      <td>capitain</td>\n",
       "      <td>schip leekerlust</td>\n",
       "      <td>voc</td>\n",
       "      <td>regina</td>\n",
       "      <td>NaN</td>\n",
       "      <td>v</td>\n",
       "    </tr>\n",
       "  </tbody>\n",
       "</table>"
      ],
      "text/plain": [
       "<IPython.core.display.HTML object>"
      ]
     },
     "metadata": {},
     "output_type": "display_data"
    },
    {
     "name": "stdout",
     "output_type": "stream",
     "text": [
      "Possible matches:\n"
     ]
    },
    {
     "data": {
      "text/html": [
       "<table border=\"1\" class=\"dataframe\">\n",
       "  <thead>\n",
       "    <tr style=\"text-align: right;\">\n",
       "      <th></th>\n",
       "      <th>KoperVoornaam</th>\n",
       "      <th>KoperTussen</th>\n",
       "      <th>KoperAchternaam</th>\n",
       "      <th>KoperGender</th>\n",
       "      <th>SlaafNaamNieuw</th>\n",
       "      <th>KoperBeroep</th>\n",
       "      <th>KoperStatus</th>\n",
       "      <th>SlaafGender</th>\n",
       "      <th>Datum</th>\n",
       "      <th>KoperWerkplek</th>\n",
       "      <th>SlaafKaste</th>\n",
       "    </tr>\n",
       "  </thead>\n",
       "  <tbody>\n",
       "    <tr>\n",
       "      <th>6921</th>\n",
       "      <td>jacob</td>\n",
       "      <td>NaN</td>\n",
       "      <td>mijer</td>\n",
       "      <td>m</td>\n",
       "      <td>florentina</td>\n",
       "      <td>kapitain des arms</td>\n",
       "      <td>voc</td>\n",
       "      <td>v</td>\n",
       "      <td></td>\n",
       "      <td>NaN</td>\n",
       "      <td>NaN</td>\n",
       "    </tr>\n",
       "    <tr>\n",
       "      <th>6650</th>\n",
       "      <td>christiaan</td>\n",
       "      <td>NaN</td>\n",
       "      <td>meijer</td>\n",
       "      <td>m</td>\n",
       "      <td>regina</td>\n",
       "      <td>kannonier</td>\n",
       "      <td>voc</td>\n",
       "      <td>v</td>\n",
       "      <td></td>\n",
       "      <td>NaN</td>\n",
       "      <td>poelijie</td>\n",
       "    </tr>\n",
       "    <tr>\n",
       "      <th>1859</th>\n",
       "      <td>godefridus</td>\n",
       "      <td>NaN</td>\n",
       "      <td>weijerman</td>\n",
       "      <td>m</td>\n",
       "      <td>regina</td>\n",
       "      <td>afgaande commandeur</td>\n",
       "      <td>voc</td>\n",
       "      <td>v</td>\n",
       "      <td></td>\n",
       "      <td>NaN</td>\n",
       "      <td>kanakatij</td>\n",
       "    </tr>\n",
       "    <tr>\n",
       "      <th>3145</th>\n",
       "      <td>jacob</td>\n",
       "      <td>NaN</td>\n",
       "      <td>meijer</td>\n",
       "      <td>m</td>\n",
       "      <td>juliana</td>\n",
       "      <td>sous luitenant der artillerij</td>\n",
       "      <td>NaN</td>\n",
       "      <td>v</td>\n",
       "      <td></td>\n",
       "      <td>NaN</td>\n",
       "      <td>poelaji heidinne</td>\n",
       "    </tr>\n",
       "    <tr>\n",
       "      <th>6583</th>\n",
       "      <td>jacob</td>\n",
       "      <td>NaN</td>\n",
       "      <td>meijer</td>\n",
       "      <td>m</td>\n",
       "      <td>malatij</td>\n",
       "      <td>kapitain des arment</td>\n",
       "      <td>voc</td>\n",
       "      <td>v</td>\n",
       "      <td></td>\n",
       "      <td>NaN</td>\n",
       "      <td>moor</td>\n",
       "    </tr>\n",
       "    <tr>\n",
       "      <th>2503</th>\n",
       "      <td>jan</td>\n",
       "      <td>NaN</td>\n",
       "      <td>berlijn</td>\n",
       "      <td>m</td>\n",
       "      <td>regina</td>\n",
       "      <td>adsistend</td>\n",
       "      <td>voc</td>\n",
       "      <td>v</td>\n",
       "      <td></td>\n",
       "      <td>NaN</td>\n",
       "      <td>poelitje</td>\n",
       "    </tr>\n",
       "    <tr>\n",
       "      <th>6965</th>\n",
       "      <td>NaN</td>\n",
       "      <td>NaN</td>\n",
       "      <td>NaN</td>\n",
       "      <td>m</td>\n",
       "      <td>susana</td>\n",
       "      <td>NaN</td>\n",
       "      <td>NaN</td>\n",
       "      <td>v</td>\n",
       "      <td></td>\n",
       "      <td>NaN</td>\n",
       "      <td>poeliase heiden</td>\n",
       "    </tr>\n",
       "    <tr>\n",
       "      <th>4276</th>\n",
       "      <td>sormij</td>\n",
       "      <td>NaN</td>\n",
       "      <td>NaN</td>\n",
       "      <td>m</td>\n",
       "      <td>NaN</td>\n",
       "      <td>NaN</td>\n",
       "      <td>NaN</td>\n",
       "      <td>v</td>\n",
       "      <td></td>\n",
       "      <td>NaN</td>\n",
       "      <td>poelitje</td>\n",
       "    </tr>\n",
       "    <tr>\n",
       "      <th>4834</th>\n",
       "      <td>domingo</td>\n",
       "      <td>NaN</td>\n",
       "      <td>NaN</td>\n",
       "      <td>m</td>\n",
       "      <td>NaN</td>\n",
       "      <td>NaN</td>\n",
       "      <td>NaN</td>\n",
       "      <td>v</td>\n",
       "      <td></td>\n",
       "      <td>NaN</td>\n",
       "      <td>NaN</td>\n",
       "    </tr>\n",
       "    <tr>\n",
       "      <th>2378</th>\n",
       "      <td>NaN</td>\n",
       "      <td>van</td>\n",
       "      <td>NaN</td>\n",
       "      <td>m</td>\n",
       "      <td>rosea</td>\n",
       "      <td>luijtenant der arthillerije</td>\n",
       "      <td>NaN</td>\n",
       "      <td>v</td>\n",
       "      <td></td>\n",
       "      <td>NaN</td>\n",
       "      <td>NaN</td>\n",
       "    </tr>\n",
       "    <tr>\n",
       "      <th>3987</th>\n",
       "      <td>angelus</td>\n",
       "      <td>NaN</td>\n",
       "      <td>reijn</td>\n",
       "      <td>m</td>\n",
       "      <td>regina</td>\n",
       "      <td>soldat</td>\n",
       "      <td>voc</td>\n",
       "      <td>v</td>\n",
       "      <td></td>\n",
       "      <td>NaN</td>\n",
       "      <td>poelitjij</td>\n",
       "    </tr>\n",
       "    <tr>\n",
       "      <th>5674</th>\n",
       "      <td>francisco</td>\n",
       "      <td>de</td>\n",
       "      <td>rosairo</td>\n",
       "      <td>m</td>\n",
       "      <td>regina</td>\n",
       "      <td>NaN</td>\n",
       "      <td>NaN</td>\n",
       "      <td>v</td>\n",
       "      <td></td>\n",
       "      <td>NaN</td>\n",
       "      <td>canakattij</td>\n",
       "    </tr>\n",
       "  </tbody>\n",
       "</table>"
      ],
      "text/plain": [
       "<IPython.core.display.HTML object>"
      ]
     },
     "metadata": {},
     "output_type": "display_data"
    },
    {
     "ename": "KeyboardInterrupt",
     "evalue": "Interrupted by user",
     "output_type": "error",
     "traceback": [
      "\u001b[1;31m---------------------------------------------------------------------------\u001b[0m",
      "\u001b[1;31mKeyboardInterrupt\u001b[0m                         Traceback (most recent call last)",
      "\u001b[1;32m<ipython-input-22-b879bda67004>\u001b[0m in \u001b[0;36m<module>\u001b[1;34m\u001b[0m\n\u001b[0;32m      1\u001b[0m \u001b[0ma\u001b[0m \u001b[1;33m=\u001b[0m \u001b[0mAnnotator\u001b[0m\u001b[1;33m(\u001b[0m\u001b[0mpermissions\u001b[0m\u001b[1;33m,\u001b[0m \u001b[0mtransactions\u001b[0m\u001b[1;33m,\u001b[0m \u001b[0mper_to_trans\u001b[0m\u001b[1;33m,\u001b[0m \u001b[0mmatches\u001b[0m\u001b[1;33m,\u001b[0m \u001b[0mannotator_name\u001b[0m\u001b[1;33m=\u001b[0m\u001b[0mannotator_name\u001b[0m\u001b[1;33m)\u001b[0m\u001b[1;33m\u001b[0m\u001b[1;33m\u001b[0m\u001b[0m\n\u001b[1;32m----> 2\u001b[1;33m \u001b[0ma\u001b[0m\u001b[1;33m.\u001b[0m\u001b[0mannotate\u001b[0m\u001b[1;33m(\u001b[0m\u001b[1;33m)\u001b[0m\u001b[1;33m\u001b[0m\u001b[1;33m\u001b[0m\u001b[0m\n\u001b[0m",
      "\u001b[1;32mE:\\UvA\\Scriptie\\Thesis_code\\Annotation\\Annotation_helper.py\u001b[0m in \u001b[0;36mannotate\u001b[1;34m(self)\u001b[0m\n\u001b[0;32m    134\u001b[0m             \u001b[0mprint\u001b[0m\u001b[1;33m(\u001b[0m\u001b[1;34m\"Possible matches:\"\u001b[0m\u001b[1;33m)\u001b[0m\u001b[1;33m\u001b[0m\u001b[1;33m\u001b[0m\u001b[0m\n\u001b[0;32m    135\u001b[0m             \u001b[0mdisplay\u001b[0m\u001b[1;33m(\u001b[0m\u001b[0mHTML\u001b[0m\u001b[1;33m(\u001b[0m\u001b[0mm\u001b[0m\u001b[1;33m[\u001b[0m\u001b[0mget_n_dict_value\u001b[0m\u001b[1;33m(\u001b[0m\u001b[0mself\u001b[0m\u001b[1;33m.\u001b[0m\u001b[0mtranslation\u001b[0m\u001b[1;33m)\u001b[0m\u001b[1;33m.\u001b[0m\u001b[0mvalues\u001b[0m\u001b[1;33m(\u001b[0m\u001b[1;33m)\u001b[0m\u001b[1;33m]\u001b[0m\u001b[1;33m.\u001b[0m\u001b[0mhead\u001b[0m\u001b[1;33m(\u001b[0m\u001b[0mn\u001b[0m\u001b[1;33m=\u001b[0m\u001b[1;36m12\u001b[0m\u001b[1;33m)\u001b[0m\u001b[1;33m.\u001b[0m\u001b[0mto_html\u001b[0m\u001b[1;33m(\u001b[0m\u001b[1;33m)\u001b[0m\u001b[1;33m)\u001b[0m\u001b[1;33m)\u001b[0m\u001b[1;33m\u001b[0m\u001b[1;33m\u001b[0m\u001b[0m\n\u001b[1;32m--> 136\u001b[1;33m             \u001b[0mres\u001b[0m \u001b[1;33m=\u001b[0m \u001b[0minput\u001b[0m\u001b[1;33m(\u001b[0m\u001b[1;34m\"Index of most likely match: \"\u001b[0m\u001b[1;33m)\u001b[0m\u001b[1;33m.\u001b[0m\u001b[0msplit\u001b[0m\u001b[1;33m(\u001b[0m\u001b[1;34m\" \"\u001b[0m\u001b[1;33m)\u001b[0m\u001b[1;33m\u001b[0m\u001b[1;33m\u001b[0m\u001b[0m\n\u001b[0m\u001b[0;32m    137\u001b[0m             \u001b[0mres_id\u001b[0m \u001b[1;33m=\u001b[0m \u001b[1;33m[\u001b[0m\u001b[1;33m]\u001b[0m\u001b[1;33m\u001b[0m\u001b[1;33m\u001b[0m\u001b[0m\n\u001b[0;32m    138\u001b[0m             \u001b[1;32mif\u001b[0m \u001b[0mres\u001b[0m \u001b[1;33m!=\u001b[0m \u001b[1;33m[\u001b[0m\u001b[1;34m''\u001b[0m\u001b[1;33m]\u001b[0m\u001b[1;33m:\u001b[0m\u001b[1;33m\u001b[0m\u001b[1;33m\u001b[0m\u001b[0m\n",
      "\u001b[1;32m~\\anaconda3\\lib\\site-packages\\ipykernel\\kernelbase.py\u001b[0m in \u001b[0;36mraw_input\u001b[1;34m(self, prompt)\u001b[0m\n\u001b[0;32m    858\u001b[0m                 \u001b[1;34m\"raw_input was called, but this frontend does not support input requests.\"\u001b[0m\u001b[1;33m\u001b[0m\u001b[1;33m\u001b[0m\u001b[0m\n\u001b[0;32m    859\u001b[0m             )\n\u001b[1;32m--> 860\u001b[1;33m         return self._input_request(str(prompt),\n\u001b[0m\u001b[0;32m    861\u001b[0m             \u001b[0mself\u001b[0m\u001b[1;33m.\u001b[0m\u001b[0m_parent_ident\u001b[0m\u001b[1;33m,\u001b[0m\u001b[1;33m\u001b[0m\u001b[1;33m\u001b[0m\u001b[0m\n\u001b[0;32m    862\u001b[0m             \u001b[0mself\u001b[0m\u001b[1;33m.\u001b[0m\u001b[0m_parent_header\u001b[0m\u001b[1;33m,\u001b[0m\u001b[1;33m\u001b[0m\u001b[1;33m\u001b[0m\u001b[0m\n",
      "\u001b[1;32m~\\anaconda3\\lib\\site-packages\\ipykernel\\kernelbase.py\u001b[0m in \u001b[0;36m_input_request\u001b[1;34m(self, prompt, ident, parent, password)\u001b[0m\n\u001b[0;32m    902\u001b[0m             \u001b[1;32mexcept\u001b[0m \u001b[0mKeyboardInterrupt\u001b[0m\u001b[1;33m:\u001b[0m\u001b[1;33m\u001b[0m\u001b[1;33m\u001b[0m\u001b[0m\n\u001b[0;32m    903\u001b[0m                 \u001b[1;31m# re-raise KeyboardInterrupt, to truncate traceback\u001b[0m\u001b[1;33m\u001b[0m\u001b[1;33m\u001b[0m\u001b[1;33m\u001b[0m\u001b[0m\n\u001b[1;32m--> 904\u001b[1;33m                 \u001b[1;32mraise\u001b[0m \u001b[0mKeyboardInterrupt\u001b[0m\u001b[1;33m(\u001b[0m\u001b[1;34m\"Interrupted by user\"\u001b[0m\u001b[1;33m)\u001b[0m \u001b[1;32mfrom\u001b[0m \u001b[1;32mNone\u001b[0m\u001b[1;33m\u001b[0m\u001b[1;33m\u001b[0m\u001b[0m\n\u001b[0m\u001b[0;32m    905\u001b[0m             \u001b[1;32mexcept\u001b[0m \u001b[0mException\u001b[0m \u001b[1;32mas\u001b[0m \u001b[0me\u001b[0m\u001b[1;33m:\u001b[0m\u001b[1;33m\u001b[0m\u001b[1;33m\u001b[0m\u001b[0m\n\u001b[0;32m    906\u001b[0m                 \u001b[0mself\u001b[0m\u001b[1;33m.\u001b[0m\u001b[0mlog\u001b[0m\u001b[1;33m.\u001b[0m\u001b[0mwarning\u001b[0m\u001b[1;33m(\u001b[0m\u001b[1;34m\"Invalid Message:\"\u001b[0m\u001b[1;33m,\u001b[0m \u001b[0mexc_info\u001b[0m\u001b[1;33m=\u001b[0m\u001b[1;32mTrue\u001b[0m\u001b[1;33m)\u001b[0m\u001b[1;33m\u001b[0m\u001b[1;33m\u001b[0m\u001b[0m\n",
      "\u001b[1;31mKeyboardInterrupt\u001b[0m: Interrupted by user"
     ]
    }
   ],
   "source": [
    "a = Annotator(permissions, transactions, per_to_trans, matches, annotator_name=annotator_name)\n",
    "a.annotate()"
   ]
  },
  {
   "cell_type": "markdown",
   "metadata": {},
   "source": []
  },
  {
   "cell_type": "code",
   "execution_count": null,
   "metadata": {
    "scrolled": true
   },
   "outputs": [],
   "source": []
  }
 ],
 "metadata": {
  "kernelspec": {
   "display_name": "Python 3",
   "language": "python",
   "name": "python3"
  },
  "language_info": {
   "codemirror_mode": {
    "name": "ipython",
    "version": 3
   },
   "file_extension": ".py",
   "mimetype": "text/x-python",
   "name": "python",
   "nbconvert_exporter": "python",
   "pygments_lexer": "ipython3",
   "version": "3.8.3"
  }
 },
 "nbformat": 4,
 "nbformat_minor": 4
}
