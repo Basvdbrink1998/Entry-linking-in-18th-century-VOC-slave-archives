{
 "cells": [
  {
   "cell_type": "code",
   "execution_count": 2,
   "metadata": {
    "scrolled": true
   },
   "outputs": [],
   "source": [
    "from Annotation_helper import *"
   ]
  },
  {
   "cell_type": "code",
   "execution_count": 3,
   "metadata": {
    "scrolled": true
   },
   "outputs": [],
   "source": [
    "annotator_name = \"Sterre2\"                                             #Name of annotator.\n",
    "data_folder = \"../../Data\"                                             #Name of the folder where the data is located.\n",
    "structured_data_folder = data_folder + \"/structured_data\"              #Name of the folder where the structured data is located.\n",
    "matches = structured_data_folder + f\"/Matches/{annotator_name}.csv\"    #Name of the file where the resulting matches will be saved."
   ]
  },
  {
   "cell_type": "code",
   "execution_count": 4,
   "metadata": {
    "scrolled": true
   },
   "outputs": [
    {
     "name": "stderr",
     "output_type": "stream",
     "text": [
      "E:\\UvA\\Scriptie\\Thesis_code\\Annotation\\Annotation_helper.py:33: FutureWarning: The default value of regex will change from True to False in a future version.\n",
      "  col = col.str.replace('[^a-zA-Z ]', '')\n"
     ]
    }
   ],
   "source": [
    "transactions = load_transactions(\"../../Data/structured_data\\Transactions.csv\")         #Load the transaction dataset\n",
    "permissions = load_permissions(\"../../Data/structured_data\\permissions.csv\")            #Load the permission dataset"
   ]
  },
  {
   "cell_type": "markdown",
   "metadata": {},
   "source": [
    "The matching between the column names of the 2 datasets with a weight for each match:"
   ]
  },
  {
   "cell_type": "code",
   "execution_count": 5,
   "metadata": {
    "scrolled": true
   },
   "outputs": [],
   "source": [
    "per_to_trans = {\n",
    "                \"BezitterVoornaam\" : (\"KoperVoornaam\", 2),\n",
    "                \"BezitterTussen\": (\"KoperTussen\", 1),\n",
    "                \"BezitterAchternaam\" : (\"KoperAchternaam\", 2),\n",
    "                \"BezitterGender\" : (\"KoperGender\", 2),\n",
    "                \"SlaafNaamNieuw\" : (\"SlaafNaamNieuw\", 2),\n",
    "                \"BezitterBeroep\" : (\"KoperBeroep\", 1),\n",
    "                \"BezitterStatus\" : (\"KoperStatus\", 1),\n",
    "                \"SlaafGender\" : (\"SlaafGender\", 1),\n",
    "                \"Datum\" : (\"Datum\", 1),\n",
    "                \"BezitterWerkplek\" : (\"KoperWerkplek\", 1),\n",
    "                \"SlaafKaste\" : (\"SlaafKaste\", 1)\n",
    "}"
   ]
  },
  {
   "cell_type": "code",
   "execution_count": 6,
   "metadata": {},
   "outputs": [
    {
     "name": "stdout",
     "output_type": "stream",
     "text": [
      "105\n",
      "Query:\n"
     ]
    },
    {
     "data": {
      "text/html": [
       "<table border=\"1\" class=\"dataframe\">\n",
       "  <thead>\n",
       "    <tr style=\"text-align: right;\">\n",
       "      <th></th>\n",
       "      <th>Datum</th>\n",
       "      <th>KoperVoornaam</th>\n",
       "      <th>KoperTussen</th>\n",
       "      <th>KoperAchternaam</th>\n",
       "      <th>KoperGender</th>\n",
       "      <th>KoperBeroep</th>\n",
       "      <th>KoperWerkplek</th>\n",
       "      <th>KoperStatus</th>\n",
       "      <th>SlaafNaamNieuw</th>\n",
       "      <th>SlaafKaste</th>\n",
       "      <th>SlaafGender</th>\n",
       "    </tr>\n",
       "  </thead>\n",
       "  <tbody>\n",
       "    <tr>\n",
       "      <th>0</th>\n",
       "      <td></td>\n",
       "      <td>johannes</td>\n",
       "      <td>van</td>\n",
       "      <td>zuijlen</td>\n",
       "      <td>m</td>\n",
       "      <td>pennist</td>\n",
       "      <td>NaN</td>\n",
       "      <td>voc</td>\n",
       "      <td>orbanus</td>\n",
       "      <td>NaN</td>\n",
       "      <td>m</td>\n",
       "    </tr>\n",
       "  </tbody>\n",
       "</table>"
      ],
      "text/plain": [
       "<IPython.core.display.HTML object>"
      ]
     },
     "metadata": {},
     "output_type": "display_data"
    },
    {
     "name": "stdout",
     "output_type": "stream",
     "text": [
      "Possible matches:\n"
     ]
    },
    {
     "data": {
      "text/html": [
       "<table border=\"1\" class=\"dataframe\">\n",
       "  <thead>\n",
       "    <tr style=\"text-align: right;\">\n",
       "      <th></th>\n",
       "      <th>KoperVoornaam</th>\n",
       "      <th>KoperTussen</th>\n",
       "      <th>KoperAchternaam</th>\n",
       "      <th>KoperGender</th>\n",
       "      <th>SlaafNaamNieuw</th>\n",
       "      <th>KoperBeroep</th>\n",
       "      <th>KoperStatus</th>\n",
       "      <th>SlaafGender</th>\n",
       "      <th>Datum</th>\n",
       "      <th>KoperWerkplek</th>\n",
       "      <th>SlaafKaste</th>\n",
       "    </tr>\n",
       "  </thead>\n",
       "  <tbody>\n",
       "    <tr>\n",
       "      <th>4280</th>\n",
       "      <td>johannes</td>\n",
       "      <td>van</td>\n",
       "      <td>zuijlen</td>\n",
       "      <td>m</td>\n",
       "      <td>orbanus</td>\n",
       "      <td>pennist</td>\n",
       "      <td>voc</td>\n",
       "      <td>m</td>\n",
       "      <td>NaN</td>\n",
       "      <td>cochin</td>\n",
       "      <td>parrea</td>\n",
       "    </tr>\n",
       "    <tr>\n",
       "      <th>5508</th>\n",
       "      <td>johannes</td>\n",
       "      <td>van</td>\n",
       "      <td>zuijlen</td>\n",
       "      <td>m</td>\n",
       "      <td>alias</td>\n",
       "      <td>pennist</td>\n",
       "      <td>voc</td>\n",
       "      <td>m</td>\n",
       "      <td></td>\n",
       "      <td>NaN</td>\n",
       "      <td>jood</td>\n",
       "    </tr>\n",
       "    <tr>\n",
       "      <th>5473</th>\n",
       "      <td>johannes</td>\n",
       "      <td>van</td>\n",
       "      <td>zuilen</td>\n",
       "      <td>m</td>\n",
       "      <td>januarij</td>\n",
       "      <td>pennist</td>\n",
       "      <td>voc</td>\n",
       "      <td>m</td>\n",
       "      <td></td>\n",
       "      <td>NaN</td>\n",
       "      <td>naijro</td>\n",
       "    </tr>\n",
       "    <tr>\n",
       "      <th>5472</th>\n",
       "      <td>johannes</td>\n",
       "      <td>van</td>\n",
       "      <td>zuijlen</td>\n",
       "      <td>m</td>\n",
       "      <td>novemeber</td>\n",
       "      <td>pennist</td>\n",
       "      <td>voc</td>\n",
       "      <td>m</td>\n",
       "      <td></td>\n",
       "      <td>NaN</td>\n",
       "      <td>poelia</td>\n",
       "    </tr>\n",
       "    <tr>\n",
       "      <th>5425</th>\n",
       "      <td>johannes</td>\n",
       "      <td>van</td>\n",
       "      <td>zuijlen</td>\n",
       "      <td>m</td>\n",
       "      <td>alexander</td>\n",
       "      <td>pennist</td>\n",
       "      <td>voc</td>\n",
       "      <td>m</td>\n",
       "      <td></td>\n",
       "      <td>NaN</td>\n",
       "      <td>chettij</td>\n",
       "    </tr>\n",
       "    <tr>\n",
       "      <th>5471</th>\n",
       "      <td>johannes</td>\n",
       "      <td>van</td>\n",
       "      <td>zuijlen</td>\n",
       "      <td>m</td>\n",
       "      <td>julij</td>\n",
       "      <td>pennist</td>\n",
       "      <td>voc</td>\n",
       "      <td>m</td>\n",
       "      <td></td>\n",
       "      <td>NaN</td>\n",
       "      <td>polia</td>\n",
       "    </tr>\n",
       "    <tr>\n",
       "      <th>5361</th>\n",
       "      <td>johannes</td>\n",
       "      <td>van</td>\n",
       "      <td>zuijlen</td>\n",
       "      <td>m</td>\n",
       "      <td>junij</td>\n",
       "      <td>penneest</td>\n",
       "      <td>voc</td>\n",
       "      <td>m</td>\n",
       "      <td></td>\n",
       "      <td>NaN</td>\n",
       "      <td>chego</td>\n",
       "    </tr>\n",
       "    <tr>\n",
       "      <th>5607</th>\n",
       "      <td>johannes</td>\n",
       "      <td>van</td>\n",
       "      <td>zuilen</td>\n",
       "      <td>m</td>\n",
       "      <td>cupido</td>\n",
       "      <td>penniset</td>\n",
       "      <td>voc</td>\n",
       "      <td>m</td>\n",
       "      <td></td>\n",
       "      <td>NaN</td>\n",
       "      <td>canaka</td>\n",
       "    </tr>\n",
       "    <tr>\n",
       "      <th>2729</th>\n",
       "      <td>johannes</td>\n",
       "      <td>van</td>\n",
       "      <td>zuijlen</td>\n",
       "      <td>m</td>\n",
       "      <td>cupido</td>\n",
       "      <td>pennist</td>\n",
       "      <td>NaN</td>\n",
       "      <td>m</td>\n",
       "      <td></td>\n",
       "      <td>NaN</td>\n",
       "      <td>poelia</td>\n",
       "    </tr>\n",
       "    <tr>\n",
       "      <th>4468</th>\n",
       "      <td>johannes</td>\n",
       "      <td>NaN</td>\n",
       "      <td>zuijlen</td>\n",
       "      <td>m</td>\n",
       "      <td>cup</td>\n",
       "      <td>pennist</td>\n",
       "      <td>voc</td>\n",
       "      <td>m</td>\n",
       "      <td></td>\n",
       "      <td>NaN</td>\n",
       "      <td>cheejo</td>\n",
       "    </tr>\n",
       "    <tr>\n",
       "      <th>5507</th>\n",
       "      <td>johannes</td>\n",
       "      <td>van</td>\n",
       "      <td>zeiilen</td>\n",
       "      <td>m</td>\n",
       "      <td>april</td>\n",
       "      <td>pennist</td>\n",
       "      <td>voc</td>\n",
       "      <td>m</td>\n",
       "      <td></td>\n",
       "      <td>NaN</td>\n",
       "      <td>chego</td>\n",
       "    </tr>\n",
       "    <tr>\n",
       "      <th>5408</th>\n",
       "      <td>johannes</td>\n",
       "      <td>van</td>\n",
       "      <td>zuijlen</td>\n",
       "      <td>m</td>\n",
       "      <td>susana</td>\n",
       "      <td>pennist</td>\n",
       "      <td>voc</td>\n",
       "      <td>v</td>\n",
       "      <td></td>\n",
       "      <td>NaN</td>\n",
       "      <td>cheguattij</td>\n",
       "    </tr>\n",
       "  </tbody>\n",
       "</table>"
      ],
      "text/plain": [
       "<IPython.core.display.HTML object>"
      ]
     },
     "metadata": {},
     "output_type": "display_data"
    },
    {
     "ename": "KeyboardInterrupt",
     "evalue": "Interrupted by user",
     "output_type": "error",
     "traceback": [
      "\u001b[1;31m---------------------------------------------------------------------------\u001b[0m",
      "\u001b[1;31mKeyboardInterrupt\u001b[0m                         Traceback (most recent call last)",
      "\u001b[1;32m<ipython-input-6-e7f4fcbd5fd7>\u001b[0m in \u001b[0;36m<module>\u001b[1;34m\u001b[0m\n\u001b[0;32m      1\u001b[0m \u001b[0ma\u001b[0m \u001b[1;33m=\u001b[0m \u001b[0mAnnotator\u001b[0m\u001b[1;33m(\u001b[0m\u001b[0mpermissions\u001b[0m\u001b[1;33m,\u001b[0m \u001b[0mtransactions\u001b[0m\u001b[1;33m,\u001b[0m \u001b[0mper_to_trans\u001b[0m\u001b[1;33m,\u001b[0m \u001b[0mmatches\u001b[0m\u001b[1;33m,\u001b[0m \u001b[0mannotator_name\u001b[0m\u001b[1;33m=\u001b[0m\u001b[0mannotator_name\u001b[0m\u001b[1;33m)\u001b[0m    \u001b[1;31m#Create annotation object.\u001b[0m\u001b[1;33m\u001b[0m\u001b[1;33m\u001b[0m\u001b[0m\n\u001b[1;32m----> 2\u001b[1;33m \u001b[0ma\u001b[0m\u001b[1;33m.\u001b[0m\u001b[0mannotate\u001b[0m\u001b[1;33m(\u001b[0m\u001b[1;33m)\u001b[0m                                                                                      \u001b[1;31m#Begin manual annotation.\u001b[0m\u001b[1;33m\u001b[0m\u001b[1;33m\u001b[0m\u001b[0m\n\u001b[0m",
      "\u001b[1;32mE:\\UvA\\Scriptie\\Thesis_code\\Annotation\\Annotation_helper.py\u001b[0m in \u001b[0;36mannotate\u001b[1;34m(self)\u001b[0m\n\u001b[0;32m    139\u001b[0m             \u001b[0mprint\u001b[0m\u001b[1;33m(\u001b[0m\u001b[1;34m\"Possible matches:\"\u001b[0m\u001b[1;33m)\u001b[0m\u001b[1;33m\u001b[0m\u001b[1;33m\u001b[0m\u001b[0m\n\u001b[0;32m    140\u001b[0m             \u001b[0mdisplay\u001b[0m\u001b[1;33m(\u001b[0m\u001b[0mHTML\u001b[0m\u001b[1;33m(\u001b[0m\u001b[0mm\u001b[0m\u001b[1;33m[\u001b[0m\u001b[0mget_n_dict_value\u001b[0m\u001b[1;33m(\u001b[0m\u001b[0mself\u001b[0m\u001b[1;33m.\u001b[0m\u001b[0mtranslation\u001b[0m\u001b[1;33m)\u001b[0m\u001b[1;33m.\u001b[0m\u001b[0mvalues\u001b[0m\u001b[1;33m(\u001b[0m\u001b[1;33m)\u001b[0m\u001b[1;33m]\u001b[0m\u001b[1;33m.\u001b[0m\u001b[0mhead\u001b[0m\u001b[1;33m(\u001b[0m\u001b[0mn\u001b[0m\u001b[1;33m=\u001b[0m\u001b[1;36m12\u001b[0m\u001b[1;33m)\u001b[0m\u001b[1;33m.\u001b[0m\u001b[0mto_html\u001b[0m\u001b[1;33m(\u001b[0m\u001b[1;33m)\u001b[0m\u001b[1;33m)\u001b[0m\u001b[1;33m)\u001b[0m\u001b[1;33m\u001b[0m\u001b[1;33m\u001b[0m\u001b[0m\n\u001b[1;32m--> 141\u001b[1;33m             \u001b[0mres\u001b[0m \u001b[1;33m=\u001b[0m \u001b[0minput\u001b[0m\u001b[1;33m(\u001b[0m\u001b[1;34m\"Index of most likely match: \"\u001b[0m\u001b[1;33m)\u001b[0m\u001b[1;33m.\u001b[0m\u001b[0msplit\u001b[0m\u001b[1;33m(\u001b[0m\u001b[1;34m\" \"\u001b[0m\u001b[1;33m)\u001b[0m\u001b[1;33m\u001b[0m\u001b[1;33m\u001b[0m\u001b[0m\n\u001b[0m\u001b[0;32m    142\u001b[0m             \u001b[0mres_id\u001b[0m \u001b[1;33m=\u001b[0m \u001b[1;33m[\u001b[0m\u001b[1;33m]\u001b[0m\u001b[1;33m\u001b[0m\u001b[1;33m\u001b[0m\u001b[0m\n\u001b[0;32m    143\u001b[0m             \u001b[1;32mif\u001b[0m \u001b[0mres\u001b[0m \u001b[1;33m!=\u001b[0m \u001b[1;33m[\u001b[0m\u001b[1;34m''\u001b[0m\u001b[1;33m]\u001b[0m\u001b[1;33m:\u001b[0m\u001b[1;33m\u001b[0m\u001b[1;33m\u001b[0m\u001b[0m\n",
      "\u001b[1;32m~\\anaconda3\\lib\\site-packages\\ipykernel\\kernelbase.py\u001b[0m in \u001b[0;36mraw_input\u001b[1;34m(self, prompt)\u001b[0m\n\u001b[0;32m    858\u001b[0m                 \u001b[1;34m\"raw_input was called, but this frontend does not support input requests.\"\u001b[0m\u001b[1;33m\u001b[0m\u001b[1;33m\u001b[0m\u001b[0m\n\u001b[0;32m    859\u001b[0m             )\n\u001b[1;32m--> 860\u001b[1;33m         return self._input_request(str(prompt),\n\u001b[0m\u001b[0;32m    861\u001b[0m             \u001b[0mself\u001b[0m\u001b[1;33m.\u001b[0m\u001b[0m_parent_ident\u001b[0m\u001b[1;33m,\u001b[0m\u001b[1;33m\u001b[0m\u001b[1;33m\u001b[0m\u001b[0m\n\u001b[0;32m    862\u001b[0m             \u001b[0mself\u001b[0m\u001b[1;33m.\u001b[0m\u001b[0m_parent_header\u001b[0m\u001b[1;33m,\u001b[0m\u001b[1;33m\u001b[0m\u001b[1;33m\u001b[0m\u001b[0m\n",
      "\u001b[1;32m~\\anaconda3\\lib\\site-packages\\ipykernel\\kernelbase.py\u001b[0m in \u001b[0;36m_input_request\u001b[1;34m(self, prompt, ident, parent, password)\u001b[0m\n\u001b[0;32m    902\u001b[0m             \u001b[1;32mexcept\u001b[0m \u001b[0mKeyboardInterrupt\u001b[0m\u001b[1;33m:\u001b[0m\u001b[1;33m\u001b[0m\u001b[1;33m\u001b[0m\u001b[0m\n\u001b[0;32m    903\u001b[0m                 \u001b[1;31m# re-raise KeyboardInterrupt, to truncate traceback\u001b[0m\u001b[1;33m\u001b[0m\u001b[1;33m\u001b[0m\u001b[1;33m\u001b[0m\u001b[0m\n\u001b[1;32m--> 904\u001b[1;33m                 \u001b[1;32mraise\u001b[0m \u001b[0mKeyboardInterrupt\u001b[0m\u001b[1;33m(\u001b[0m\u001b[1;34m\"Interrupted by user\"\u001b[0m\u001b[1;33m)\u001b[0m \u001b[1;32mfrom\u001b[0m \u001b[1;32mNone\u001b[0m\u001b[1;33m\u001b[0m\u001b[1;33m\u001b[0m\u001b[0m\n\u001b[0m\u001b[0;32m    905\u001b[0m             \u001b[1;32mexcept\u001b[0m \u001b[0mException\u001b[0m \u001b[1;32mas\u001b[0m \u001b[0me\u001b[0m\u001b[1;33m:\u001b[0m\u001b[1;33m\u001b[0m\u001b[1;33m\u001b[0m\u001b[0m\n\u001b[0;32m    906\u001b[0m                 \u001b[0mself\u001b[0m\u001b[1;33m.\u001b[0m\u001b[0mlog\u001b[0m\u001b[1;33m.\u001b[0m\u001b[0mwarning\u001b[0m\u001b[1;33m(\u001b[0m\u001b[1;34m\"Invalid Message:\"\u001b[0m\u001b[1;33m,\u001b[0m \u001b[0mexc_info\u001b[0m\u001b[1;33m=\u001b[0m\u001b[1;32mTrue\u001b[0m\u001b[1;33m)\u001b[0m\u001b[1;33m\u001b[0m\u001b[1;33m\u001b[0m\u001b[0m\n",
      "\u001b[1;31mKeyboardInterrupt\u001b[0m: Interrupted by user"
     ]
    }
   ],
   "source": [
    "a = Annotator(permissions, transactions, per_to_trans, matches, annotator_name=annotator_name)    #Create annotation object.\n",
    "a.annotate()                                                                                      #Begin manual annotation."
   ]
  },
  {
   "cell_type": "markdown",
   "metadata": {},
   "source": [
    "# "
   ]
  },
  {
   "cell_type": "code",
   "execution_count": null,
   "metadata": {
    "scrolled": true
   },
   "outputs": [],
   "source": []
  },
  {
   "cell_type": "code",
   "execution_count": null,
   "metadata": {},
   "outputs": [],
   "source": []
  }
 ],
 "metadata": {
  "kernelspec": {
   "display_name": "Python 3",
   "language": "python",
   "name": "python3"
  },
  "language_info": {
   "codemirror_mode": {
    "name": "ipython",
    "version": 3
   },
   "file_extension": ".py",
   "mimetype": "text/x-python",
   "name": "python",
   "nbconvert_exporter": "python",
   "pygments_lexer": "ipython3",
   "version": "3.8.3"
  }
 },
 "nbformat": 4,
 "nbformat_minor": 4
}
