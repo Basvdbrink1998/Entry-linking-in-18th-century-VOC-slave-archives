{
 "cells": [
  {
   "cell_type": "code",
   "execution_count": 1,
   "metadata": {},
   "outputs": [],
   "source": [
    "from Annotation_helper import *\n",
    "import numpy as np\n",
    "from collections import defaultdict\n",
    "import matplotlib as mpl\n",
    "import matplotlib.pyplot as plt\n",
    "import glob\n",
    "from sklearn.metrics import cohen_kappa_score\n",
    "from statsmodels.stats.inter_rater import fleiss_kappa"
   ]
  },
  {
   "cell_type": "code",
   "execution_count": 2,
   "metadata": {},
   "outputs": [
    {
     "data": {
      "text/plain": [
       "<Figure size 432x288 with 0 Axes>"
      ]
     },
     "metadata": {},
     "output_type": "display_data"
    }
   ],
   "source": [
    "import seaborn as sns\n",
    "sns.set()\n",
    "\n",
    "SMALL_SIZE = 15\n",
    "MEDIUM_SIZE = 17\n",
    "BIGGER_SIZE = 19\n",
    "\n",
    "plt.rc('font', size=SMALL_SIZE)          # controls default text sizes\n",
    "plt.rc('axes', titlesize=SMALL_SIZE)     # fontsize of the axes title\n",
    "plt.rc('axes', labelsize=MEDIUM_SIZE)    # fontsize of the x and y labels\n",
    "plt.rc('xtick', labelsize=SMALL_SIZE)    # fontsize of the tick labels\n",
    "plt.rc('ytick', labelsize=SMALL_SIZE)    # fontsize of the tick labels\n",
    "plt.rc('legend', fontsize=SMALL_SIZE)    # legend fontsize\n",
    "plt.rc('figure', titlesize=BIGGER_SIZE)  # fontsize of the figure title\n",
    "\n",
    "plt.tight_layout()"
   ]
  },
  {
   "cell_type": "code",
   "execution_count": 3,
   "metadata": {},
   "outputs": [],
   "source": [
    "data_folder = \"../../Data\"\n",
    "structured_data_folder = data_folder + \"/structured_data\"\n",
    "text_path = data_folder + \"/text\"\n",
    "data_path = structured_data_folder + \"/test.csv\"\n",
    "dist_folder = structured_data_folder + \"/Distances\"\n",
    "figure_folder = \"../Figures/Results/Embeddings\"\n",
    "model_folder = \"../Models/Embeddings\"\n",
    "match_folder = structured_data_folder + \"/Matches/\"\n",
    "figure_folder = \"../Figures/Results/Classic/\""
   ]
  },
  {
   "cell_type": "code",
   "execution_count": 4,
   "metadata": {},
   "outputs": [],
   "source": [
    "match_files = glob.glob(match_folder + \"*\")"
   ]
  },
  {
   "cell_type": "code",
   "execution_count": 5,
   "metadata": {},
   "outputs": [],
   "source": [
    "match_df = [pd.read_csv(mf, index_col=0).drop_duplicates(keep=False) for mf in match_files]"
   ]
  },
  {
   "cell_type": "code",
   "execution_count": 25,
   "metadata": {
    "scrolled": true
   },
   "outputs": [],
   "source": [
    "size_df = [m.shape[0] for m in match_df]\n",
    "smallest_df = np.argmin(size_df)\n",
    "smallest_permission_indx = match_df[smallest_df][\"permission_indx\"]\n",
    "p_max = smallest_permission_indx.unique()[-1]\n",
    "\n",
    "largest_indx = np.argmax(size_df)"
   ]
  },
  {
   "cell_type": "code",
   "execution_count": null,
   "metadata": {},
   "outputs": [],
   "source": []
  },
  {
   "cell_type": "code",
   "execution_count": 7,
   "metadata": {},
   "outputs": [],
   "source": [
    "def get_value_dict(df, p_max=33):\n",
    "    d = defaultdict(list)\n",
    "    for i in range(0, p_max):\n",
    "        r = df[df['permission_indx'] == i]\n",
    "        for j, row in r.iterrows():\n",
    "            v = row[\"transaction_indx\"]\n",
    "            if v != \"None\":\n",
    "                d[i].append(v)\n",
    "    return d"
   ]
  },
  {
   "cell_type": "code",
   "execution_count": null,
   "metadata": {},
   "outputs": [],
   "source": []
  },
  {
   "cell_type": "code",
   "execution_count": 17,
   "metadata": {},
   "outputs": [],
   "source": [
    "d_dicts = []\n",
    "for df in match_df:\n",
    "    d_dicts.append(get_value_dict(df, p_max=p_max))"
   ]
  },
  {
   "cell_type": "code",
   "execution_count": 26,
   "metadata": {},
   "outputs": [],
   "source": [
    "res = []\n",
    "for i in range(0, p_max):\n",
    "    temp_res = []\n",
    "    for d in d_dicts:\n",
    "        r = d[i]\n",
    "        if r == []:\n",
    "            temp_res.append(0)\n",
    "        else:\n",
    "            temp_res.append(int(\"\".join(r)))\n",
    "    res.append(temp_res)\n",
    "res = np.array(res)"
   ]
  },
  {
   "cell_type": "code",
   "execution_count": null,
   "metadata": {},
   "outputs": [],
   "source": []
  },
  {
   "cell_type": "code",
   "execution_count": 53,
   "metadata": {},
   "outputs": [],
   "source": [
    "largest_res = res[:, largest_indx]\n",
    "other_res = np.delete(res, largest_indx, 1)\n",
    "other_size = np.delete(size_df, largest_indx, 0)"
   ]
  },
  {
   "cell_type": "code",
   "execution_count": 72,
   "metadata": {},
   "outputs": [
    {
     "name": "stdout",
     "output_type": "stream",
     "text": [
      "\\begin{tabular}{lrrr}\n",
      "\\toprule\n",
      "{} &     0 &     1 &     2 \\\\\n",
      "\\midrule\n",
      "Cohen kappa score &  0.83 &  0.79 &  0.83 \\\\\n",
      "\\bottomrule\n",
      "\\end{tabular}\n",
      "\n"
     ]
    }
   ],
   "source": [
    "results_df = pd.DataFrame(index=[\"Cohen kappa score\"])\n",
    "for i in range(0, len(other_res[0])):\n",
    "    cks = np.round(cohen_kappa_score(largest_res, other_res[:,i]), 2)\n",
    "    size = other_size\n",
    "    results_df[i] = [cks]\n",
    "\n",
    "print(results_df.to_latex())"
   ]
  },
  {
   "cell_type": "code",
   "execution_count": 22,
   "metadata": {},
   "outputs": [
    {
     "data": {
      "text/plain": [
       "1.0"
      ]
     },
     "execution_count": 22,
     "metadata": {},
     "output_type": "execute_result"
    }
   ],
   "source": [
    "cohen_kappa_score(res[:,3], res[:,3])"
   ]
  },
  {
   "cell_type": "code",
   "execution_count": null,
   "metadata": {},
   "outputs": [],
   "source": []
  },
  {
   "cell_type": "code",
   "execution_count": null,
   "metadata": {},
   "outputs": [],
   "source": []
  },
  {
   "cell_type": "code",
   "execution_count": null,
   "metadata": {},
   "outputs": [],
   "source": []
  },
  {
   "cell_type": "code",
   "execution_count": null,
   "metadata": {},
   "outputs": [],
   "source": []
  }
 ],
 "metadata": {
  "kernelspec": {
   "display_name": "Python 3",
   "language": "python",
   "name": "python3"
  },
  "language_info": {
   "codemirror_mode": {
    "name": "ipython",
    "version": 3
   },
   "file_extension": ".py",
   "mimetype": "text/x-python",
   "name": "python",
   "nbconvert_exporter": "python",
   "pygments_lexer": "ipython3",
   "version": "3.8.3"
  }
 },
 "nbformat": 4,
 "nbformat_minor": 4
}
